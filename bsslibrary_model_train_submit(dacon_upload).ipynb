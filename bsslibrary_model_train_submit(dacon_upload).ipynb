{
 "cells": [
  {
   "cell_type": "code",
   "execution_count": null,
   "metadata": {},
   "outputs": [],
   "source": [
    "# colab 기준으로 돌리는 경우, 아래처럼 라이브러리를 설치해주셔야 합니다.\n",
    "# 코드는 RTX-A4000 환경이었는데, T4에서 잘될지 모르겠네요.\n",
    "# A100이나 V100에서 돌리길 권장합니다.\n",
    "from google.colab import drive\n",
    "drive.mount('/content/drive')\n",
    "\n",
    "import os\n",
    "os.makedirs('/tmp/project', exist_ok=True)\n",
    "os.chdir('/tmp/project')\n",
    "print( os.getcwd() )\n",
    "if not os.path.exists('/tmp/project/train.csv'):\n",
    "    !cp /content/drive/MyDrive/Colab_Notebooks/dacon/2024_저해상도조류이미지/open.zip /tmp/project\n",
    "    !unzip -o -q open.zip\n",
    "    !rm open.zip\n",
    "    # 추가 모듈 설치\n",
    "    !sudo apt-get install -y libmagickwand-dev\n",
    "    !pip install wandb timm wand"
   ]
  },
  {
   "cell_type": "code",
   "execution_count": 1,
   "metadata": {
    "id": "k95fPjnRSjV0"
   },
   "outputs": [
    {
     "name": "stdout",
     "output_type": "stream",
     "text": [
      "05/05 02:34:46 [INFO] program started\n"
     ]
    }
   ],
   "source": [
    "import os\n",
    "import gc\n",
    "import numpy as np\n",
    "import pandas as pd\n",
    "import torch\n",
    "import torch.nn as nn\n",
    "import torch.nn.functional as F\n",
    "import torchvision\n",
    "\n",
    "from glob import glob\n",
    "from tqdm.auto import tqdm\n",
    "from sklearn.metrics import f1_score\n",
    "from sklearn.preprocessing import LabelEncoder\n",
    "from sklearn.model_selection import StratifiedKFold\n",
    "from torchvision.transforms import v2\n",
    "import albumentations as A\n",
    "import cv2\n",
    "from albumentations.pytorch import ToTensorV2\n",
    "\n",
    "from torch.utils.data import Dataset, DataLoader\n",
    "from transformers import Swinv2Model, ConvNextV2Model, AutoModel\n",
    "import timm\n",
    "from PIL import Image\n",
    "\n",
    "torch.set_float32_matmul_precision('high')  # or 'medium' | 'high'\n",
    "# os.environ['WANDB_API_KEY']='xxxxx'\n",
    "# os.environ['WANDB_MODE']='online'\n",
    "# os.environ['WANDB_PROJECT']='basslibrary240210'\n",
    "os.environ['WANDB_MODE']='offline'\n",
    "\n",
    "######## logger ########\n",
    "import sys, logging, IPython\n",
    "logger = logging.getLogger()\n",
    "logging.basicConfig( handlers=[ logging.StreamHandler(stream=sys.stdout), logging.handlers.RotatingFileHandler(filename='run.log', mode='a', maxBytes=512000, backupCount=4) ] )\n",
    "logging_fomatter = logging.Formatter( '%(asctime)s [%(levelname)-4.4s] %(message)s', datefmt='%m/%d %H:%M:%S' )\n",
    "_ = [ h.setFormatter(logging_fomatter) for h in logger.handlers ]\n",
    "logger.setLevel(logging.INFO)\n",
    "def showtraceback(self, *args, **kwargs):\n",
    "    logger.exception('-------Exception----------')\n",
    "IPython.core.interactiveshell.InteractiveShell.showtraceback = showtraceback\n",
    "logger.info('program started')"
   ]
  },
  {
   "cell_type": "code",
   "execution_count": 2,
   "metadata": {
    "id": "n4qX0V8CSjTB"
   },
   "outputs": [
    {
     "name": "stdout",
     "output_type": "stream",
     "text": [
      "05/05 02:34:46 [INFO] {'SEED': 42, 'N_SPLIT': 5, 'LABEL_SMOOTHING': 0.05, 'OPTIMIZER': 'AdamW', 'INTERPOLATION': 'robidouxsharp', 'PRECISION': '16', 'MODEL_NAME': 'timm/deit3_large_patch16_224.fb_in22k_ft_in1k', 'IMG_SIZE': 224, 'BATCH_SIZE': 48, 'LR': [1.7320508075688774e-05, 1e-07], 'IMG_TRAIN_SIZE': 224}\n"
     ]
    }
   ],
   "source": [
    "CFG = {}\n",
    "CFG['SEED'] = 42\n",
    "CFG['N_SPLIT'] = 5\n",
    "CFG['LABEL_SMOOTHING'] = 0.05\n",
    "CFG['OPTIMIZER'] = 'AdamW'\n",
    "CFG['INTERPOLATION'] = 'robidouxsharp'\n",
    "CFG['PRECISION'] = '16'\n",
    "# #----------------------------------\n",
    "# # [9842]\n",
    "# CFG['MODEL_NAME'] = \"timm/eva_large_patch14_336.in22k_ft_in22k_in1k\"\n",
    "# CFG['IMG_SIZE'] = 336\n",
    "# CFG['BATCH_SIZE'] = 16 ## 16//16G\n",
    "# CFG['LR'] = [ 0.25e-5 * np.sqrt(CFG['BATCH_SIZE']), 1e-7 ]\n",
    "# # ----------------------------------\n",
    "# # [0. --[9836][9842x2]\n",
    "# [0.9811,0.9825,0.9811,0.9819,0.9837]\n",
    "# CFG['MODEL_NAME'] = \"timm/eva_large_patch14_196.in22k_ft_in22k_in1k\"\n",
    "# CFG['IMG_SIZE'] = 196\n",
    "# # CFG['IMG_TRAIN_SIZE'] = 196 * 2\n",
    "# CFG['BATCH_SIZE'] = 48 ## 48/16G(ema), 16/8G\n",
    "# CFG['LR'] = [ 0.25e-5 * np.sqrt(CFG['BATCH_SIZE']), 1e-6 ]\n",
    "# # ----------------------------------\n",
    "# [0.9768, 0.9707, 0.9714, 0.9791, 0.9724 ]\n",
    "# CFG['MODEL_NAME'] = \"timm/convnextv2_large.fcmae_ft_in22k_in1k\" ## 288 \n",
    "# # CFG['MODEL_NAME'] = \"facebook/convnextv2-large-22k-224\"\n",
    "# CFG['IMG_SIZE'] = 288\n",
    "# CFG['BATCH_SIZE'] = 16  # 6/8G, 16/16G\n",
    "# CFG['PRECISION'] = '16'\n",
    "# CFG['LR'] = [ 0.25e-5 * np.sqrt(CFG['BATCH_SIZE']), 1e-7 ]\n",
    "# #----------------------------------\n",
    "# ## best_score=0.9699\n",
    "# ## A4000: [9737]\n",
    "# CFG['MODEL_NAME'] = \"timm/swinv2_large_window12_192.ms_in22k\"\n",
    "# CFG['IMG_SIZE'] = 192\n",
    "# CFG['BATCH_SIZE'] = 40 ## 40/16\n",
    "# CFG['LR'] = 0.25e-5 * np.sqrt(CFG['BATCH_SIZE'])\n",
    "# # #----------------------------------\n",
    "# # best_score=0.9805\n",
    "# [0.9818,0.9815,0.9803,0.9825,0.9813]\n",
    "# CFG['MODEL_NAME'] = \"timm/beitv2_large_patch16_224.in1k_ft_in22k_in1k\"\n",
    "# CFG['IMG_SIZE'] = 224\n",
    "# CFG['BATCH_SIZE'] = 48 ## 48//16G(ema), 14//8G memory..\n",
    "# CFG['LR'] = [ 0.25e-5 * np.sqrt(CFG['BATCH_SIZE']), 1e-6 ]\n",
    "# #----------------------------------\n",
    "# [0.9742, ]\n",
    "CFG['MODEL_NAME'] = \"timm/deit3_large_patch16_224.fb_in22k_ft_in1k\"    ## 304MB\n",
    "CFG['IMG_SIZE'] = 224\n",
    "CFG['BATCH_SIZE'] = 48 ## 48//16G, 4//8G memory..\n",
    "CFG['LR'] = [ 0.25e-5 * np.sqrt(CFG['BATCH_SIZE']), 1e-7 ]\n",
    "# #----------------------------------\n",
    "\n",
    "######################################\n",
    "if 'IMG_TRAIN_SIZE' not in CFG:\n",
    "    CFG['IMG_TRAIN_SIZE'] = CFG['IMG_SIZE']\n",
    "logger.info(CFG)"
   ]
  },
  {
   "cell_type": "code",
   "execution_count": 3,
   "metadata": {},
   "outputs": [
    {
     "name": "stdout",
     "output_type": "stream",
     "text": [
      "05/05 02:34:46 [INFO] cuda\n"
     ]
    }
   ],
   "source": [
    "assert torch.cuda.is_available()\n",
    "device = 'cuda' if torch.cuda.is_available() else 'cpu'\n",
    "torch.set_default_device(device)\n",
    "logger.info(device)"
   ]
  },
  {
   "cell_type": "code",
   "execution_count": 4,
   "metadata": {},
   "outputs": [
    {
     "name": "stdout",
     "output_type": "stream",
     "text": [
      "05/05 02:34:46 [INFO] seed_everything : 42\n"
     ]
    }
   ],
   "source": [
    "def seed_everything(seed):\n",
    "    logger.info(f'seed_everything : {seed}')\n",
    "\n",
    "    import random, os\n",
    "    import numpy as np\n",
    "    import torch\n",
    "    \n",
    "    random.seed(seed)\n",
    "    os.environ['PYTHONHASHSEED'] = str(seed)\n",
    "    np.random.seed(seed)\n",
    "    torch.manual_seed(seed)\n",
    "    torch.cuda.manual_seed(seed)\n",
    "    torch.backends.cudnn.deterministic = True\n",
    "    torch.backends.cudnn.benchmark = True\n",
    "\n",
    "seed_everything(CFG['SEED'])"
   ]
  },
  {
   "cell_type": "code",
   "execution_count": 5,
   "metadata": {
    "id": "kCL6U72NSxNp"
   },
   "outputs": [],
   "source": [
    "class CustomDataset(Dataset):\n",
    "    def __init__(self, img_path_list, label_list, load_img_size, shuffle=False, transforms=None, interpolation='robidouxsharp' ):\n",
    "        self.df = pd.DataFrame({'img_path_list': img_path_list})\n",
    "        self.interpolation = interpolation\n",
    "        self.load_img_size = load_img_size\n",
    "        logger.info(f'load_img_size={load_img_size}')\n",
    "        if label_list is not None:\n",
    "            self.df['label_list'] = label_list\n",
    "        if shuffle:\n",
    "            self.df = self.df.sample(frac=1.0).reset_index(drop=True)\n",
    "        self.transforms = transforms\n",
    "\n",
    "    # numpy or PIL Image => PIL Image\n",
    "    def get_interpolated_image(self, img, new_image_size):\n",
    "        if self.interpolation == 'pil_lanczos':\n",
    "            if isinstance(img, np.ndarray ):\n",
    "                img = Image.fromarray(img)\n",
    "            return img.resize( (new_image_size, new_image_size), Image.LANCZOS )\n",
    "        elif self.interpolation == 'cv2_lanczos4':\n",
    "            if not isinstance(img, np.ndarray ):\n",
    "                img = np.array(img)\n",
    "            import cv2\n",
    "            img = cv2.cvtColor(img, cv2.COLOR_RGB2BGR)\n",
    "            img = cv2.resize(src, (new_image_size, new_image_size), interpolation=cv2.INTER_LANCZOS4) # 픽셀 크기 지정\n",
    "            img = cv2.cvtColor(np.array(img), cv2.COLOR_BGR2RGB)\n",
    "            return Image.fromarray(img)\n",
    "        else:\n",
    "            if not isinstance(img, np.ndarray ):\n",
    "                img = np.array(img)\n",
    "            from wand import image\n",
    "            with image.Image.from_array(img) as src:\n",
    "                src.resize( new_image_size, new_image_size, filter=self.interpolation )\n",
    "                return Image.fromarray(np.array(src))\n",
    "                \n",
    "    # path => PIL Image\n",
    "    def get_image_from_index(self, index, img_size ):\n",
    "        img_path = self.df.img_path_list[index]\n",
    "        fname = img_path.replace('./','').split('.')[0] + '.png'\n",
    "        full_fname = f'img_cached/{img_size}_{self.interpolation}/{fname}'\n",
    "        if os.path.exists(full_fname):\n",
    "            img = Image.open(full_fname)\n",
    "        else:            \n",
    "            fname_path = '/'.join(full_fname.split('/')[:-1])\n",
    "            os.makedirs(fname_path, exist_ok = True)\n",
    "            img = self.get_interpolated_image(Image.open(img_path), img_size )\n",
    "            img.save( full_fname )\n",
    "        return img\n",
    "    \n",
    "    def __getitem__(self, index):\n",
    "        image = self.get_image_from_index( index, self.load_img_size )\n",
    "        if self.transforms is not None:\n",
    "            image = self.transforms(image)\n",
    "        if 'label_list' in self.df.columns:\n",
    "            label = self.df.label_list[index]\n",
    "            return { 'pixel_values': image, 'label': label }\n",
    "        else:\n",
    "            return { 'pixel_values': image }\n",
    "    \n",
    "    def __len__(self):\n",
    "        return len(self.df)"
   ]
  },
  {
   "cell_type": "code",
   "execution_count": 6,
   "metadata": {},
   "outputs": [],
   "source": [
    "## ref: https://github.com/katsura-jp/pytorch-cosine-annealing-with-warmup/blob/master/cosine_annealing_warmup/scheduler.py\n",
    "import math\n",
    "import torch\n",
    "from torch.optim.lr_scheduler import _LRScheduler\n",
    "\n",
    "class CosineAnnealingWarmupRestarts(_LRScheduler):\n",
    "    \"\"\"\n",
    "        optimizer (Optimizer): Wrapped optimizer.\n",
    "        first_cycle_steps (int): First cycle step size.\n",
    "        cycle_mult(float): Cycle steps magnification. Default: -1.\n",
    "        max_lr(float): First cycle's max learning rate. Default: 0.1.\n",
    "        min_lr(float): Min learning rate. Default: 0.001.\n",
    "        warmup_steps(int): Linear warmup step size. Default: 0.\n",
    "        gamma(float): Decrease rate of max learning rate by cycle. Default: 1.\n",
    "        last_epoch (int): The index of last epoch. Default: -1.\n",
    "    \"\"\"\n",
    "    \n",
    "    def __init__(self,\n",
    "                 optimizer : torch.optim.Optimizer,\n",
    "                 first_cycle_steps : int,\n",
    "                 cycle_mult : float = 1.,\n",
    "                 max_lr : float = 1e-5,\n",
    "                 min_lr : float = 1e-10,\n",
    "                 warmup_steps : int = 0,\n",
    "                 gamma : float = 1.,\n",
    "                 last_epoch : int = -1\n",
    "        ):\n",
    "        assert warmup_steps < first_cycle_steps\n",
    "        \n",
    "        self.first_cycle_steps = first_cycle_steps # first cycle step size\n",
    "        self.cycle_mult = cycle_mult # cycle steps magnification\n",
    "        self.base_max_lr = max_lr # first max learning rate\n",
    "        self.max_lr = max_lr # max learning rate in the current cycle\n",
    "        self.min_lr = min_lr # min learning rate\n",
    "        self.warmup_steps = warmup_steps # warmup step size\n",
    "        self.gamma = gamma # decrease rate of max learning rate by cycle\n",
    "        \n",
    "        self.cur_cycle_steps = first_cycle_steps # first cycle step size\n",
    "        self.cycle = 0 # cycle count\n",
    "        self.step_in_cycle = last_epoch # step size of the current cycle\n",
    "        \n",
    "        super(CosineAnnealingWarmupRestarts, self).__init__(optimizer, last_epoch)\n",
    "        \n",
    "        # set learning rate min_lr\n",
    "        self.init_lr()\n",
    "    \n",
    "    def init_lr(self):\n",
    "        self.base_lrs = []\n",
    "        for param_group in self.optimizer.param_groups:\n",
    "            param_group['lr'] = self.min_lr\n",
    "            self.base_lrs.append(self.min_lr)\n",
    "    \n",
    "    def get_lr(self):\n",
    "        if self.step_in_cycle == -1:\n",
    "            return self.base_lrs\n",
    "        elif self.step_in_cycle < self.warmup_steps:\n",
    "            return [(self.max_lr - base_lr)*self.step_in_cycle / self.warmup_steps + base_lr for base_lr in self.base_lrs]\n",
    "        else:\n",
    "            return [base_lr + (self.max_lr - base_lr) \\\n",
    "                    * (1 + math.cos(math.pi * (self.step_in_cycle-self.warmup_steps) \\\n",
    "                                    / (self.cur_cycle_steps - self.warmup_steps))) / 2\n",
    "                    for base_lr in self.base_lrs]\n",
    "\n",
    "    def step(self, epoch=None):\n",
    "        if epoch is None:\n",
    "            epoch = self.last_epoch + 1\n",
    "            self.step_in_cycle = self.step_in_cycle + 1\n",
    "            if self.step_in_cycle >= self.cur_cycle_steps:\n",
    "                self.cycle += 1\n",
    "                self.step_in_cycle = self.step_in_cycle - self.cur_cycle_steps\n",
    "                self.cur_cycle_steps = int((self.cur_cycle_steps - self.warmup_steps) * self.cycle_mult) + self.warmup_steps\n",
    "        else:\n",
    "            if epoch >= self.first_cycle_steps:\n",
    "                if self.cycle_mult == 1.:\n",
    "                    self.step_in_cycle = epoch % self.first_cycle_steps\n",
    "                    self.cycle = epoch // self.first_cycle_steps\n",
    "                else:\n",
    "                    n = int(math.log((epoch / self.first_cycle_steps * (self.cycle_mult - 1) + 1), self.cycle_mult))\n",
    "                    self.cycle = n\n",
    "                    self.step_in_cycle = epoch - int(self.first_cycle_steps * (self.cycle_mult ** n - 1) / (self.cycle_mult - 1))\n",
    "                    self.cur_cycle_steps = self.first_cycle_steps * self.cycle_mult ** (n)\n",
    "            else:\n",
    "                self.cur_cycle_steps = self.first_cycle_steps\n",
    "                self.step_in_cycle = epoch\n",
    "                \n",
    "        self.max_lr = self.base_max_lr * (self.gamma**self.cycle)\n",
    "        self.last_epoch = math.floor(epoch)\n",
    "        for param_group, lr in zip(self.optimizer.param_groups, self.get_lr()):\n",
    "            param_group['lr'] = lr"
   ]
  },
  {
   "cell_type": "code",
   "execution_count": 7,
   "metadata": {
    "id": "TfQfZc6lSxJD"
   },
   "outputs": [],
   "source": [
    "class CustomModel(nn.Module):\n",
    "    def __init__(self, model):\n",
    "        super(CustomModel, self).__init__()\n",
    "        self.model = model\n",
    "        self.clf = nn.LazyLinear(25)\n",
    "        \n",
    "    def forward(self, x):\n",
    "        x = self.model(x)\n",
    "        if not isinstance(x, torch.Tensor):\n",
    "            x = x.pooler_output\n",
    "        if self.clf:\n",
    "            x = self.clf(x)\n",
    "        return x"
   ]
  },
  {
   "cell_type": "code",
   "execution_count": 8,
   "metadata": {
    "id": "VoWIJtWISjOC"
   },
   "outputs": [],
   "source": [
    "train_df = pd.read_csv('./train.csv')\n",
    "le = LabelEncoder()\n",
    "train_df['class'] = le.fit_transform(train_df['label'])"
   ]
  },
  {
   "cell_type": "code",
   "execution_count": 9,
   "metadata": {
    "id": "vj2Tb6MuTL5b"
   },
   "outputs": [],
   "source": [
    "if not len(train_df) == len(os.listdir('./train')):\n",
    "    raise ValueError()"
   ]
  },
  {
   "cell_type": "code",
   "execution_count": 10,
   "metadata": {
    "id": "ETmPNpAqSjLe"
   },
   "outputs": [],
   "source": [
    "skf = StratifiedKFold(n_splits=CFG['N_SPLIT'], random_state=CFG['SEED'], shuffle=True)"
   ]
  },
  {
   "cell_type": "code",
   "execution_count": 11,
   "metadata": {},
   "outputs": [],
   "source": [
    "image_size = CFG['IMG_SIZE']\n",
    "\n",
    "train_transform_list = [\n",
    "    # v2.RandomHorizontalFlip(), ## eva모델등에서는 성능향상이 없음. 오히려 성능떨어짐.\n",
    "    v2.TrivialAugmentWide(interpolation=v2.InterpolationMode.BICUBIC), \n",
    "    v2.RandomErasing(),\n",
    "    v2.Resize(size=(image_size, image_size), interpolation=v2.InterpolationMode.LANCZOS, antialias=True),\n",
    "    v2.ToImage(), v2.ToDtype( torch.float32, scale=True),\n",
    "    v2.Normalize(mean=[0.485, 0.456, 0.406], std=[0.229, 0.224, 0.225]),\n",
    "]\n",
    "if CFG['IMG_SIZE'] == CFG['IMG_TRAIN_SIZE']:\n",
    "    train_transform_list = [ a for a in train_transform_list if not isinstance(a, v2.Resize) ]\n",
    "train_transform = v2.Compose(train_transform_list )\n",
    "test_transform = v2.Compose( [\n",
    "    v2.ToImage(), v2.ToDtype( torch.float32, scale=True),\n",
    "    v2.Normalize(mean=[0.485, 0.456, 0.406], std=[0.229, 0.224, 0.225]),\n",
    "])"
   ]
  },
  {
   "cell_type": "code",
   "execution_count": 12,
   "metadata": {},
   "outputs": [],
   "source": [
    "from sklearn.utils.class_weight import compute_class_weight\n",
    "class_weight = torch.FloatTensor( compute_class_weight('balanced', classes=train_df.label.sort_values().unique(), y=train_df.label ) )\n",
    "\n",
    "def train(model, optimizer, train_loader, val_loader, scheduler, device, validation_steps = 0.25, logging_steps = 10, use_amp=True, filename=''):\n",
    "    logger.info(f'{use_amp=}')\n",
    "\n",
    "    model.to(device)\n",
    "    best_score = 0\n",
    "    best_loss  = 1000\n",
    "    best_model = None\n",
    "    MAX_PATIENCE = 5\n",
    "    best_patience = MAX_PATIENCE\n",
    "    loss_fn = nn.CrossEntropyLoss( weight=class_weight, label_smoothing=CFG['LABEL_SMOOTHING'], reduction='mean' ).to(device)\n",
    "    scaler = torch.cuda.amp.GradScaler(enabled=use_amp)\n",
    "    checkpoint_filenames = []\n",
    "\n",
    "    max_steps = len(train_loader)\n",
    "    if not isinstance(validation_steps, int):\n",
    "        validation_steps = int(max_steps * validation_steps)  ## 절사..\n",
    "    max_steps = (max_steps//validation_steps)*validation_steps\n",
    "    \n",
    "    # ema 모델은 모델의 weight 한벌을 가지고 있어, 메모리 사용량도 확인해야 함..\n",
    "    ema_model = None  ## 의미가 없을 듯..\n",
    "    ema_decay = np.power(np.e, np.log(0.5)/(validation_steps*MAX_PATIENCE))\n",
    "    ema_model = torch.optim.swa_utils.AveragedModel(model, multi_avg_fn=torch.optim.swa_utils.get_ema_multi_avg_fn(ema_decay))\n",
    "                         \n",
    "    for epoch in range(1, 1000):\n",
    "        model.train()\n",
    "        train_loss = []\n",
    "        pbar_postfix = {}\n",
    "\n",
    "        pbar = tqdm(train_loader, desc=f'Epoch {epoch}')\n",
    "        for i, batch in enumerate(pbar):\n",
    "            if i >= max_steps:\n",
    "                continue\n",
    "            steps = i+1\n",
    "            \n",
    "            if use_amp:\n",
    "                with torch.autocast(device_type=device, dtype=torch.float16, enabled=use_amp):\n",
    "                    output = model(batch['pixel_values'])\n",
    "                    loss = loss_fn(output, batch['label'])\n",
    "                scaler.scale(loss).backward()\n",
    "\n",
    "                scaler.unscale_(optimizer)\n",
    "                torch.nn.utils.clip_grad_norm_(model.parameters(), max_norm=0.1)\n",
    "                \n",
    "                scaler.step(optimizer)\n",
    "                scaler.update()\n",
    "                optimizer.zero_grad()\n",
    "            else:\n",
    "                output = model(batch['pixel_values'])\n",
    "                loss = loss_fn(output, batch['label'])\n",
    "                loss.backward()\n",
    "                optimizer.step()\n",
    "                optimizer.zero_grad()\n",
    "            \n",
    "            if scheduler is not None:\n",
    "                scheduler.step()\n",
    "            \n",
    "            train_loss.append(loss.item())\n",
    "            loss = None\n",
    "            output = None\n",
    "            batch = None\n",
    "            \n",
    "            if ema_model is not None:\n",
    "                ema_model.update_parameters(model)\n",
    "            \n",
    "\n",
    "            if steps % logging_steps == 0:\n",
    "                pbar_postfix.update({\n",
    "                    't_loss0': train_loss[-1], \n",
    "                    'lr': optimizer.param_groups[0][\"lr\"]\n",
    "                } )\n",
    "                pbar.set_postfix( pbar_postfix )\n",
    "                run.log({\n",
    "                    \"epoch\": epoch, \n",
    "                    \"step\": steps,\n",
    "                    \"train\":{\"loss\": train_loss[-1]}, \n",
    "                    \"lr\": optimizer.param_groups[0][\"lr\"]\n",
    "                }, step=(epoch-1)*max_steps+steps)\n",
    "                \n",
    "            if steps % validation_steps == 0:\n",
    "                _val_loss, _val_score = validation(model, loss_fn, val_loader, device, use_amp)\n",
    "                _train_loss = np.mean(train_loss)\n",
    "                \n",
    "                best_score_mark = '*' if best_score < _val_score else ' '\n",
    "                best_loss_mark = '*' if best_loss > _val_loss else ' '\n",
    "                pbar_postfix.update({\n",
    "                    'lr': optimizer.param_groups[0][\"lr\"], \n",
    "                    't_loss': _train_loss,\n",
    "                    'v_loss': _val_loss, \n",
    "                    'v_f1': _val_score \n",
    "                })\n",
    "                pbar.set_postfix( pbar_postfix )\n",
    "                logger.info(f'eps={epoch:d}, lr={optimizer.param_groups[0][\"lr\"]:.3g}, t_loss={_train_loss:.4f}, v_loss={_val_loss:.4f}{best_loss_mark}, v_f1={_val_score:.4f}{best_score_mark}')\n",
    "                run.log({\n",
    "                    \"epoch\": epoch, \"step\": steps,\n",
    "                    \"train\":{\"avg_loss\": _train_loss}, \n",
    "                    \"valid\": { \"loss\": _val_loss, \"score\": _val_score},\n",
    "                    \"lr\": optimizer.param_groups[0][\"lr\"] \n",
    "                }, step=(epoch-1)*max_steps+steps)\n",
    "                \n",
    "                if best_score < _val_score:\n",
    "                    best_score = _val_score\n",
    "                    best_model = model\n",
    "                    best_patience = MAX_PATIENCE\n",
    "                    ## saving..\n",
    "                    if filename is not None and len(filename) != 0:\n",
    "                        checkpoint_filenames.append(\n",
    "                            filename.format(epoch=epoch, val_loss=_val_loss, val_score=_val_score) + '.ckpt' )\n",
    "                        if best_score > 0.9750:\n",
    "                            os.makedirs(os.path.dirname(checkpoint_filenames[-1]), exist_ok=True)\n",
    "                            torch.save( {\"model\": model.state_dict() }, checkpoint_filenames[-1] )\n",
    "                            logger.info( f'{checkpoint_filenames[-1]} : saved.' )\n",
    "                            _ = [ os.path.exists(fname) and os.remove(fname) for fname in checkpoint_filenames[:-1] ]\n",
    "                            checkpoint_filenames = checkpoint_filenames[-1:]\n",
    "                    \n",
    "                    ## 추가적으로 비교함..\n",
    "                    if best_loss > _val_loss:\n",
    "                        best_loss = _val_loss\n",
    "                elif best_loss > _val_loss:\n",
    "                    best_loss = _val_loss\n",
    "                    best_patience = MAX_PATIENCE\n",
    "                elif best_patience > 0:\n",
    "                    best_patience -= 1\n",
    "                else:\n",
    "                    logger.info(f'NO_MORE_TRAINING, {best_score=:.4f}')\n",
    "                    if ema_model is not None:\n",
    "                        # ## EMA --------------------\n",
    "                        torch.optim.swa_utils.update_bn(train_loader, ema_model, device )\n",
    "                        ema_val_loss, ema_val_score = validation(ema_model, loss_fn, val_loader, device, use_amp)\n",
    "                        logger.info(f'EMA ::: ema_v_loss={ema_val_loss:.4f}, ema_v_f1={ema_val_score:.4f}')\n",
    "                        run.log({'ema_v_loss': ema_val_loss, 'ema_v_f1': ema_val_score })\n",
    "                        \n",
    "                        save_filename = filename.format(epoch=epoch, val_loss=ema_val_loss, val_score=ema_val_score) + '-ema.ckpt'\n",
    "                        torch.save( {\"model\": ema_model.state_dict() }, save_filename )\n",
    "                        logger.info( f'{save_filename} : (ema) saved.' )\n",
    "                        # ##========================\n",
    "                    if not os.path.exists(checkpoint_filenames[-1]):\n",
    "                        os.makedirs(os.path.dirname(checkpoint_filenames[-1]), exist_ok=True)\n",
    "                        torch.save( {\"model\": best_model.state_dict() }, checkpoint_filenames[-1] )\n",
    "                        logger.info( f'{checkpoint_filenames[-1]} : saved.' )\n",
    "                        _ = [ os.path.exists(fname) and os.remove(fname) for fname in checkpoint_filenames[:-1] ]\n",
    "                        checkpoint_filenames = checkpoint_filenames[-1:]\n",
    "                    return best_model"
   ]
  },
  {
   "cell_type": "code",
   "execution_count": 13,
   "metadata": {},
   "outputs": [],
   "source": [
    "def validation(model, loss_fn, val_loader, device, use_amp):\n",
    "    model = model.to(device)\n",
    "    save_training = model.training\n",
    "    model.eval()\n",
    "    \n",
    "    val_loss = []\n",
    "    preds, true_labels = [], []\n",
    "\n",
    "    with torch.no_grad():\n",
    "        for batch in tqdm(val_loader):\n",
    "            true_labels += batch['label'].detach().cpu().numpy().tolist()\n",
    "            with torch.autocast(device_type=device, dtype=torch.float16, enabled=use_amp):\n",
    "                pred = model(batch['pixel_values'])\n",
    "                loss = loss_fn(pred, batch['label'])\n",
    "            preds += pred.detach().argmax(1).cpu().numpy().tolist()\n",
    "            val_loss.append(loss.item())\n",
    "        \n",
    "        _val_loss = np.mean(val_loss)\n",
    "        _val_score = f1_score(true_labels, preds, average='macro')\n",
    "    ## return_to_train..\n",
    "    if save_training:\n",
    "        model.train()\n",
    "    return _val_loss, _val_score"
   ]
  },
  {
   "cell_type": "code",
   "execution_count": 14,
   "metadata": {},
   "outputs": [],
   "source": [
    "def prediction(model, test_loader, device):\n",
    "    model = model.to(device)\n",
    "    save_training = model.training\n",
    "    model.eval()\n",
    "    preds = []\n",
    "\n",
    "    with torch.no_grad():\n",
    "        for batch in tqdm(test_loader):\n",
    "            pixel_values = batch['pixel_values'].to(device)            \n",
    "            pred = model(pixel_values)  ## F.softmax(output) ## 의미는 없을 듯.\n",
    "            preds += pred.detach().cpu().numpy().tolist()\n",
    "    if save_training:\n",
    "        model.train()\n",
    "    return preds"
   ]
  },
  {
   "cell_type": "code",
   "execution_count": 15,
   "metadata": {},
   "outputs": [],
   "source": [
    "def create_model(model_name):\n",
    "    import timm\n",
    "    from transformers import AutoModel, AutoModelForImageClassification, AutoConfig\n",
    "\n",
    "    logger.info(f'create_model: {model_name}')\n",
    "    if '/' not in model_name:\n",
    "        model_name = 'timm/' + model_name\n",
    "        \n",
    "    if model_name.startswith('./'):\n",
    "        import nextvit\n",
    "        model = CustomModel( timm.create_model('nextvit_large', pretrained=True, checkpoint_path=model_name) )\n",
    "    elif model_name.startswith('facebook/hiera_'):\n",
    "        from hiera import Hiera  ## pip install hiera-transformer\n",
    "        model = CustomModel( Hiera.from_pretrained(model_name) )\n",
    "    elif model_name.startswith('timm/'):\n",
    "        model = CustomModel( timm.create_model( model_name, pretrained=True ) )\n",
    "    else:\n",
    "        model = CustomModel( AutoModel.from_pretrained(model_name) )\n",
    "    model.eval()\n",
    "    model( torch.rand((1,3,CFG['IMG_SIZE'],CFG['IMG_SIZE'])).type(torch.float32) ) ## initalize_lazyLinear..\n",
    "    return model"
   ]
  },
  {
   "cell_type": "markdown",
   "metadata": {},
   "source": [
    "# 모델 훈련"
   ]
  },
  {
   "cell_type": "code",
   "execution_count": 17,
   "metadata": {
    "id": "ZvWhUDQ1SjI_"
   },
   "outputs": [
    {
     "name": "stdout",
     "output_type": "stream",
     "text": [
      "05/05 02:34:46 [INFO] fold_idx=0 started\n",
      "05/05 02:34:47 [ERRO] Failed to detect the name of this notebook, you can set it manually with the WANDB_NOTEBOOK_NAME environment variable to enable code saving.\n"
     ]
    },
    {
     "name": "stderr",
     "output_type": "stream",
     "text": [
      "\u001b[34m\u001b[1mwandb\u001b[0m: Currently logged in as: \u001b[33mujinyang\u001b[0m. Use \u001b[1m`wandb login --relogin`\u001b[0m to force relogin\n"
     ]
    },
    {
     "data": {
      "text/html": [
       "Tracking run with wandb version 0.16.6"
      ],
      "text/plain": [
       "<IPython.core.display.HTML object>"
      ]
     },
     "metadata": {},
     "output_type": "display_data"
    },
    {
     "data": {
      "text/html": [
       "Run data is saved locally in <code>/workspace/wandb/run-20240505_023448-c2j192xv</code>"
      ],
      "text/plain": [
       "<IPython.core.display.HTML object>"
      ]
     },
     "metadata": {},
     "output_type": "display_data"
    },
    {
     "data": {
      "text/html": [
       "Syncing run <strong><a href='https://wandb.ai/ujinyang/basslibrary240210/runs/c2j192xv' target=\"_blank\">fold1_deit3_large_patch16_224.fb_in22k_ft_in1k_05050234</a></strong> to <a href='https://wandb.ai/ujinyang/basslibrary240210' target=\"_blank\">Weights & Biases</a> (<a href='https://wandb.me/run' target=\"_blank\">docs</a>)<br/>"
      ],
      "text/plain": [
       "<IPython.core.display.HTML object>"
      ]
     },
     "metadata": {},
     "output_type": "display_data"
    },
    {
     "data": {
      "text/html": [
       " View project at <a href='https://wandb.ai/ujinyang/basslibrary240210' target=\"_blank\">https://wandb.ai/ujinyang/basslibrary240210</a>"
      ],
      "text/plain": [
       "<IPython.core.display.HTML object>"
      ]
     },
     "metadata": {},
     "output_type": "display_data"
    },
    {
     "data": {
      "text/html": [
       " View run at <a href='https://wandb.ai/ujinyang/basslibrary240210/runs/c2j192xv' target=\"_blank\">https://wandb.ai/ujinyang/basslibrary240210/runs/c2j192xv</a>"
      ],
      "text/plain": [
       "<IPython.core.display.HTML object>"
      ]
     },
     "metadata": {},
     "output_type": "display_data"
    },
    {
     "name": "stdout",
     "output_type": "stream",
     "text": [
      "05/05 02:34:55 [INFO] load_img_size=224\n",
      "05/05 02:34:55 [INFO] load_img_size=224\n",
      "05/05 02:34:55 [INFO] create_model: timm/deit3_large_patch16_224.fb_in22k_ft_in1k\n",
      "05/05 02:34:55 [INFO] Loading pretrained weights from Hugging Face hub (timm/deit3_large_patch16_224.fb_in22k_ft_in1k)\n",
      "05/05 02:34:55 [INFO] [timm/deit3_large_patch16_224.fb_in22k_ft_in1k] Safe alternative available for 'pytorch_model.bin' (as 'model.safetensors'). Loading weights using safetensors.\n"
     ]
    },
    {
     "name": "stderr",
     "output_type": "stream",
     "text": [
      "/opt/conda/lib/python3.10/site-packages/torch/nn/modules/lazy.py:181: UserWarning: Lazy modules are a new feature under heavy development so changes to the API or functionality can happen at any moment.\n",
      "  warnings.warn('Lazy modules are a new feature under heavy development '\n"
     ]
    },
    {
     "name": "stdout",
     "output_type": "stream",
     "text": [
      "05/05 02:34:56 [INFO] use_amp=True\n"
     ]
    },
    {
     "data": {
      "application/vnd.jupyter.widget-view+json": {
       "model_id": "391a5d5ef73a4f26874c7c40603942c4",
       "version_major": 2,
       "version_minor": 0
      },
      "text/plain": [
       "Epoch 1:   0%|          | 0/264 [00:00<?, ?it/s]"
      ]
     },
     "metadata": {},
     "output_type": "display_data"
    },
    {
     "data": {
      "application/vnd.jupyter.widget-view+json": {
       "model_id": "d38741c1eedd4312a38bb958c7ce40d6",
       "version_major": 2,
       "version_minor": 0
      },
      "text/plain": [
       "  0%|          | 0/33 [00:00<?, ?it/s]"
      ]
     },
     "metadata": {},
     "output_type": "display_data"
    },
    {
     "name": "stdout",
     "output_type": "stream",
     "text": [
      "05/05 02:36:18 [INFO] eps=1, lr=3.22e-05, t_loss=2.0501, v_loss=0.9961*, v_f1=0.8821*\n"
     ]
    },
    {
     "data": {
      "application/vnd.jupyter.widget-view+json": {
       "model_id": "18313858e38145549513119ca1569fd3",
       "version_major": 2,
       "version_minor": 0
      },
      "text/plain": [
       "  0%|          | 0/33 [00:00<?, ?it/s]"
      ]
     },
     "metadata": {},
     "output_type": "display_data"
    },
    {
     "name": "stdout",
     "output_type": "stream",
     "text": [
      "05/05 02:37:41 [INFO] eps=1, lr=3e-05, t_loss=1.4631, v_loss=0.5641*, v_f1=0.9476*\n"
     ]
    },
    {
     "data": {
      "application/vnd.jupyter.widget-view+json": {
       "model_id": "d0d4fcbd845047979e303e1f128d3aed",
       "version_major": 2,
       "version_minor": 0
      },
      "text/plain": [
       "  0%|          | 0/33 [00:00<?, ?it/s]"
      ]
     },
     "metadata": {},
     "output_type": "display_data"
    },
    {
     "name": "stdout",
     "output_type": "stream",
     "text": [
      "05/05 02:39:05 [INFO] eps=1, lr=2.79e-05, t_loss=1.2172, v_loss=0.5249*, v_f1=0.9607*\n"
     ]
    },
    {
     "data": {
      "application/vnd.jupyter.widget-view+json": {
       "model_id": "5f027df8eddf42e7aa4e7d9452853587",
       "version_major": 2,
       "version_minor": 0
      },
      "text/plain": [
       "  0%|          | 0/33 [00:00<?, ?it/s]"
      ]
     },
     "metadata": {},
     "output_type": "display_data"
    },
    {
     "name": "stdout",
     "output_type": "stream",
     "text": [
      "05/05 02:40:29 [INFO] eps=1, lr=2.59e-05, t_loss=1.0856, v_loss=0.5070*, v_f1=0.9635*\n"
     ]
    },
    {
     "data": {
      "application/vnd.jupyter.widget-view+json": {
       "model_id": "03dcf2c4c8394df095a81a97849d8ef4",
       "version_major": 2,
       "version_minor": 0
      },
      "text/plain": [
       "Epoch 2:   0%|          | 0/264 [00:00<?, ?it/s]"
      ]
     },
     "metadata": {},
     "output_type": "display_data"
    },
    {
     "data": {
      "application/vnd.jupyter.widget-view+json": {
       "model_id": "e5dc262af1a243b084960a2b340be183",
       "version_major": 2,
       "version_minor": 0
      },
      "text/plain": [
       "  0%|          | 0/33 [00:00<?, ?it/s]"
      ]
     },
     "metadata": {},
     "output_type": "display_data"
    },
    {
     "name": "stdout",
     "output_type": "stream",
     "text": [
      "05/05 02:41:53 [INFO] eps=2, lr=2.41e-05, t_loss=0.6190, v_loss=0.4888*, v_f1=0.9657*\n"
     ]
    },
    {
     "data": {
      "application/vnd.jupyter.widget-view+json": {
       "model_id": "dfef8491a46b47aa8925346d61c6e5a8",
       "version_major": 2,
       "version_minor": 0
      },
      "text/plain": [
       "  0%|          | 0/33 [00:00<?, ?it/s]"
      ]
     },
     "metadata": {},
     "output_type": "display_data"
    },
    {
     "name": "stdout",
     "output_type": "stream",
     "text": [
      "05/05 02:43:17 [INFO] eps=2, lr=2.24e-05, t_loss=0.6230, v_loss=0.4828*, v_f1=0.9646 \n"
     ]
    },
    {
     "data": {
      "application/vnd.jupyter.widget-view+json": {
       "model_id": "043df1060ad7451ab9fd66349700d290",
       "version_major": 2,
       "version_minor": 0
      },
      "text/plain": [
       "  0%|          | 0/33 [00:00<?, ?it/s]"
      ]
     },
     "metadata": {},
     "output_type": "display_data"
    },
    {
     "name": "stdout",
     "output_type": "stream",
     "text": [
      "05/05 02:44:41 [INFO] eps=2, lr=2.08e-05, t_loss=0.6186, v_loss=0.4755*, v_f1=0.9672*\n"
     ]
    },
    {
     "data": {
      "application/vnd.jupyter.widget-view+json": {
       "model_id": "7d84a5567225490f9fd87f30f2e710e9",
       "version_major": 2,
       "version_minor": 0
      },
      "text/plain": [
       "  0%|          | 0/33 [00:00<?, ?it/s]"
      ]
     },
     "metadata": {},
     "output_type": "display_data"
    },
    {
     "name": "stdout",
     "output_type": "stream",
     "text": [
      "05/05 02:46:04 [INFO] eps=2, lr=1.94e-05, t_loss=0.6113, v_loss=0.4683*, v_f1=0.9660 \n"
     ]
    },
    {
     "data": {
      "application/vnd.jupyter.widget-view+json": {
       "model_id": "ad81fb321ab242a99500148cb3e92501",
       "version_major": 2,
       "version_minor": 0
      },
      "text/plain": [
       "Epoch 3:   0%|          | 0/264 [00:00<?, ?it/s]"
      ]
     },
     "metadata": {},
     "output_type": "display_data"
    },
    {
     "data": {
      "application/vnd.jupyter.widget-view+json": {
       "model_id": "98133af733e544dd8f5b0b934e69779f",
       "version_major": 2,
       "version_minor": 0
      },
      "text/plain": [
       "  0%|          | 0/33 [00:00<?, ?it/s]"
      ]
     },
     "metadata": {},
     "output_type": "display_data"
    },
    {
     "name": "stdout",
     "output_type": "stream",
     "text": [
      "05/05 02:47:28 [INFO] eps=3, lr=1.8e-05, t_loss=0.5680, v_loss=0.4659*, v_f1=0.9667 \n"
     ]
    },
    {
     "data": {
      "application/vnd.jupyter.widget-view+json": {
       "model_id": "dab25ef911fa4f85a643427dbf3afabf",
       "version_major": 2,
       "version_minor": 0
      },
      "text/plain": [
       "  0%|          | 0/33 [00:00<?, ?it/s]"
      ]
     },
     "metadata": {},
     "output_type": "display_data"
    },
    {
     "name": "stdout",
     "output_type": "stream",
     "text": [
      "05/05 02:48:52 [INFO] eps=3, lr=1.68e-05, t_loss=0.5573, v_loss=0.4622*, v_f1=0.9713*\n"
     ]
    },
    {
     "data": {
      "application/vnd.jupyter.widget-view+json": {
       "model_id": "3d5b080a3fc44a2fb68d2e1304dac0e4",
       "version_major": 2,
       "version_minor": 0
      },
      "text/plain": [
       "  0%|          | 0/33 [00:00<?, ?it/s]"
      ]
     },
     "metadata": {},
     "output_type": "display_data"
    },
    {
     "name": "stdout",
     "output_type": "stream",
     "text": [
      "05/05 02:50:15 [INFO] eps=3, lr=1.56e-05, t_loss=0.5564, v_loss=0.4553*, v_f1=0.9695 \n"
     ]
    },
    {
     "data": {
      "application/vnd.jupyter.widget-view+json": {
       "model_id": "76b49eef233c4e28ba59dd5bd5c5e095",
       "version_major": 2,
       "version_minor": 0
      },
      "text/plain": [
       "  0%|          | 0/33 [00:00<?, ?it/s]"
      ]
     },
     "metadata": {},
     "output_type": "display_data"
    },
    {
     "name": "stdout",
     "output_type": "stream",
     "text": [
      "05/05 02:51:39 [INFO] eps=3, lr=1.45e-05, t_loss=0.5549, v_loss=0.4563 , v_f1=0.9688 \n"
     ]
    },
    {
     "data": {
      "application/vnd.jupyter.widget-view+json": {
       "model_id": "1f2073d5ef354bc2b0e1da28a1f7451b",
       "version_major": 2,
       "version_minor": 0
      },
      "text/plain": [
       "Epoch 4:   0%|          | 0/264 [00:00<?, ?it/s]"
      ]
     },
     "metadata": {},
     "output_type": "display_data"
    },
    {
     "data": {
      "application/vnd.jupyter.widget-view+json": {
       "model_id": "1cf1da1e15c4402ba10615b9444d9689",
       "version_major": 2,
       "version_minor": 0
      },
      "text/plain": [
       "  0%|          | 0/33 [00:00<?, ?it/s]"
      ]
     },
     "metadata": {},
     "output_type": "display_data"
    },
    {
     "name": "stdout",
     "output_type": "stream",
     "text": [
      "05/05 02:53:03 [INFO] eps=4, lr=1.35e-05, t_loss=0.5283, v_loss=0.4528*, v_f1=0.9698 \n"
     ]
    },
    {
     "data": {
      "application/vnd.jupyter.widget-view+json": {
       "model_id": "bf29a2e256124340ac6326b4e63cd839",
       "version_major": 2,
       "version_minor": 0
      },
      "text/plain": [
       "  0%|          | 0/33 [00:00<?, ?it/s]"
      ]
     },
     "metadata": {},
     "output_type": "display_data"
    },
    {
     "name": "stdout",
     "output_type": "stream",
     "text": [
      "05/05 02:54:27 [INFO] eps=4, lr=1.25e-05, t_loss=0.5314, v_loss=0.4472*, v_f1=0.9697 \n"
     ]
    },
    {
     "data": {
      "application/vnd.jupyter.widget-view+json": {
       "model_id": "5dbb1a52b01b400b9d5d3d07ce0c28e6",
       "version_major": 2,
       "version_minor": 0
      },
      "text/plain": [
       "  0%|          | 0/33 [00:00<?, ?it/s]"
      ]
     },
     "metadata": {},
     "output_type": "display_data"
    },
    {
     "name": "stdout",
     "output_type": "stream",
     "text": [
      "05/05 02:55:50 [INFO] eps=4, lr=1.17e-05, t_loss=0.5271, v_loss=0.4436*, v_f1=0.9728*\n"
     ]
    },
    {
     "data": {
      "application/vnd.jupyter.widget-view+json": {
       "model_id": "a0e29b9d94bb49e7b0ab65e101960850",
       "version_major": 2,
       "version_minor": 0
      },
      "text/plain": [
       "  0%|          | 0/33 [00:00<?, ?it/s]"
      ]
     },
     "metadata": {},
     "output_type": "display_data"
    },
    {
     "name": "stdout",
     "output_type": "stream",
     "text": [
      "05/05 02:57:14 [INFO] eps=4, lr=1.08e-05, t_loss=0.5260, v_loss=0.4417*, v_f1=0.9722 \n"
     ]
    },
    {
     "data": {
      "application/vnd.jupyter.widget-view+json": {
       "model_id": "764ca9f4eecf4d81bc0afa1613776094",
       "version_major": 2,
       "version_minor": 0
      },
      "text/plain": [
       "Epoch 5:   0%|          | 0/264 [00:00<?, ?it/s]"
      ]
     },
     "metadata": {},
     "output_type": "display_data"
    },
    {
     "data": {
      "application/vnd.jupyter.widget-view+json": {
       "model_id": "524274a86e3b4f9dbdc34b6fb39c0ab8",
       "version_major": 2,
       "version_minor": 0
      },
      "text/plain": [
       "  0%|          | 0/33 [00:00<?, ?it/s]"
      ]
     },
     "metadata": {},
     "output_type": "display_data"
    },
    {
     "name": "stdout",
     "output_type": "stream",
     "text": [
      "05/05 02:58:38 [INFO] eps=5, lr=1.01e-05, t_loss=0.5089, v_loss=0.4407*, v_f1=0.9728*\n"
     ]
    },
    {
     "data": {
      "application/vnd.jupyter.widget-view+json": {
       "model_id": "14fd3a7ec2704a05b9b23417f6a1322a",
       "version_major": 2,
       "version_minor": 0
      },
      "text/plain": [
       "  0%|          | 0/33 [00:00<?, ?it/s]"
      ]
     },
     "metadata": {},
     "output_type": "display_data"
    },
    {
     "name": "stdout",
     "output_type": "stream",
     "text": [
      "05/05 03:00:01 [INFO] eps=5, lr=9.38e-06, t_loss=0.4995, v_loss=0.4418 , v_f1=0.9725 \n"
     ]
    },
    {
     "data": {
      "application/vnd.jupyter.widget-view+json": {
       "model_id": "3fa555095eb94b2d9ab63d54111de174",
       "version_major": 2,
       "version_minor": 0
      },
      "text/plain": [
       "  0%|          | 0/33 [00:00<?, ?it/s]"
      ]
     },
     "metadata": {},
     "output_type": "display_data"
    },
    {
     "name": "stdout",
     "output_type": "stream",
     "text": [
      "05/05 03:01:25 [INFO] eps=5, lr=8.73e-06, t_loss=0.5041, v_loss=0.4415 , v_f1=0.9719 \n"
     ]
    },
    {
     "data": {
      "application/vnd.jupyter.widget-view+json": {
       "model_id": "b2beef4e68bc4dafa8bb4e445c3b21a3",
       "version_major": 2,
       "version_minor": 0
      },
      "text/plain": [
       "  0%|          | 0/33 [00:00<?, ?it/s]"
      ]
     },
     "metadata": {},
     "output_type": "display_data"
    },
    {
     "name": "stdout",
     "output_type": "stream",
     "text": [
      "05/05 03:02:48 [INFO] eps=5, lr=8.11e-06, t_loss=0.5079, v_loss=0.4391*, v_f1=0.9725 \n"
     ]
    },
    {
     "data": {
      "application/vnd.jupyter.widget-view+json": {
       "model_id": "6dfb1293851148f681d7bb900fafdd42",
       "version_major": 2,
       "version_minor": 0
      },
      "text/plain": [
       "Epoch 6:   0%|          | 0/264 [00:00<?, ?it/s]"
      ]
     },
     "metadata": {},
     "output_type": "display_data"
    },
    {
     "data": {
      "application/vnd.jupyter.widget-view+json": {
       "model_id": "61cae3e510864998a95658f2a0e3761b",
       "version_major": 2,
       "version_minor": 0
      },
      "text/plain": [
       "  0%|          | 0/33 [00:00<?, ?it/s]"
      ]
     },
     "metadata": {},
     "output_type": "display_data"
    },
    {
     "name": "stdout",
     "output_type": "stream",
     "text": [
      "05/05 03:04:12 [INFO] eps=6, lr=7.55e-06, t_loss=0.5050, v_loss=0.4390*, v_f1=0.9728*\n"
     ]
    },
    {
     "data": {
      "application/vnd.jupyter.widget-view+json": {
       "model_id": "764a1f7c6c484c33b7332c3d3d0e6368",
       "version_major": 2,
       "version_minor": 0
      },
      "text/plain": [
       "  0%|          | 0/33 [00:00<?, ?it/s]"
      ]
     },
     "metadata": {},
     "output_type": "display_data"
    },
    {
     "name": "stdout",
     "output_type": "stream",
     "text": [
      "05/05 03:05:36 [INFO] eps=6, lr=7.02e-06, t_loss=0.5065, v_loss=0.4386*, v_f1=0.9726 \n"
     ]
    },
    {
     "data": {
      "application/vnd.jupyter.widget-view+json": {
       "model_id": "7c17499f13764a84a3c52b8998a289c7",
       "version_major": 2,
       "version_minor": 0
      },
      "text/plain": [
       "  0%|          | 0/33 [00:00<?, ?it/s]"
      ]
     },
     "metadata": {},
     "output_type": "display_data"
    },
    {
     "name": "stdout",
     "output_type": "stream",
     "text": [
      "05/05 03:06:59 [INFO] eps=6, lr=6.53e-06, t_loss=0.5017, v_loss=0.4391 , v_f1=0.9710 \n"
     ]
    },
    {
     "data": {
      "application/vnd.jupyter.widget-view+json": {
       "model_id": "cbce4e234cac4fa3ba7f1cdf96636721",
       "version_major": 2,
       "version_minor": 0
      },
      "text/plain": [
       "  0%|          | 0/33 [00:00<?, ?it/s]"
      ]
     },
     "metadata": {},
     "output_type": "display_data"
    },
    {
     "name": "stdout",
     "output_type": "stream",
     "text": [
      "05/05 03:08:22 [INFO] eps=6, lr=6.07e-06, t_loss=0.4987, v_loss=0.4376*, v_f1=0.9726 \n"
     ]
    },
    {
     "data": {
      "application/vnd.jupyter.widget-view+json": {
       "model_id": "080f6d132d6a4f35a5c3f1fb9b91698a",
       "version_major": 2,
       "version_minor": 0
      },
      "text/plain": [
       "Epoch 7:   0%|          | 0/264 [00:00<?, ?it/s]"
      ]
     },
     "metadata": {},
     "output_type": "display_data"
    },
    {
     "data": {
      "application/vnd.jupyter.widget-view+json": {
       "model_id": "2d1b6451d17745e29b1abe9fde215fb0",
       "version_major": 2,
       "version_minor": 0
      },
      "text/plain": [
       "  0%|          | 0/33 [00:00<?, ?it/s]"
      ]
     },
     "metadata": {},
     "output_type": "display_data"
    },
    {
     "name": "stdout",
     "output_type": "stream",
     "text": [
      "05/05 03:09:45 [INFO] eps=7, lr=5.65e-06, t_loss=0.4865, v_loss=0.4386 , v_f1=0.9719 \n"
     ]
    },
    {
     "data": {
      "application/vnd.jupyter.widget-view+json": {
       "model_id": "d68acfd56fca49b7b655f0a6172a24b2",
       "version_major": 2,
       "version_minor": 0
      },
      "text/plain": [
       "  0%|          | 0/33 [00:00<?, ?it/s]"
      ]
     },
     "metadata": {},
     "output_type": "display_data"
    },
    {
     "name": "stdout",
     "output_type": "stream",
     "text": [
      "05/05 03:11:07 [INFO] eps=7, lr=5.25e-06, t_loss=0.4929, v_loss=0.4366*, v_f1=0.9713 \n"
     ]
    },
    {
     "data": {
      "application/vnd.jupyter.widget-view+json": {
       "model_id": "329e7c53bb534c82a59d874a87510446",
       "version_major": 2,
       "version_minor": 0
      },
      "text/plain": [
       "  0%|          | 0/33 [00:00<?, ?it/s]"
      ]
     },
     "metadata": {},
     "output_type": "display_data"
    },
    {
     "name": "stdout",
     "output_type": "stream",
     "text": [
      "05/05 03:12:30 [INFO] eps=7, lr=4.88e-06, t_loss=0.4887, v_loss=0.4356*, v_f1=0.9735*\n"
     ]
    },
    {
     "data": {
      "application/vnd.jupyter.widget-view+json": {
       "model_id": "bff75779ee0d4b008ca864668d55c8eb",
       "version_major": 2,
       "version_minor": 0
      },
      "text/plain": [
       "  0%|          | 0/33 [00:00<?, ?it/s]"
      ]
     },
     "metadata": {},
     "output_type": "display_data"
    },
    {
     "name": "stdout",
     "output_type": "stream",
     "text": [
      "05/05 03:13:52 [INFO] eps=7, lr=4.54e-06, t_loss=0.4871, v_loss=0.4352*, v_f1=0.9739*\n"
     ]
    },
    {
     "data": {
      "application/vnd.jupyter.widget-view+json": {
       "model_id": "b7169324cd434df0b9eddffedd9541f6",
       "version_major": 2,
       "version_minor": 0
      },
      "text/plain": [
       "Epoch 8:   0%|          | 0/264 [00:00<?, ?it/s]"
      ]
     },
     "metadata": {},
     "output_type": "display_data"
    },
    {
     "data": {
      "application/vnd.jupyter.widget-view+json": {
       "model_id": "bbdb1f9b2c5841ce904d9adad14a5199",
       "version_major": 2,
       "version_minor": 0
      },
      "text/plain": [
       "  0%|          | 0/33 [00:00<?, ?it/s]"
      ]
     },
     "metadata": {},
     "output_type": "display_data"
    },
    {
     "name": "stdout",
     "output_type": "stream",
     "text": [
      "05/05 03:15:15 [INFO] eps=8, lr=4.22e-06, t_loss=0.4697, v_loss=0.4357 , v_f1=0.9742*\n"
     ]
    },
    {
     "data": {
      "application/vnd.jupyter.widget-view+json": {
       "model_id": "e8e170f0aa7344b6a56acc7e159696a6",
       "version_major": 2,
       "version_minor": 0
      },
      "text/plain": [
       "  0%|          | 0/33 [00:00<?, ?it/s]"
      ]
     },
     "metadata": {},
     "output_type": "display_data"
    },
    {
     "name": "stdout",
     "output_type": "stream",
     "text": [
      "05/05 03:16:38 [INFO] eps=8, lr=3.93e-06, t_loss=0.4758, v_loss=0.4347*, v_f1=0.9722 \n"
     ]
    },
    {
     "data": {
      "application/vnd.jupyter.widget-view+json": {
       "model_id": "5bb8755b2b044c4db5828d2b1f61a634",
       "version_major": 2,
       "version_minor": 0
      },
      "text/plain": [
       "  0%|          | 0/33 [00:00<?, ?it/s]"
      ]
     },
     "metadata": {},
     "output_type": "display_data"
    },
    {
     "name": "stdout",
     "output_type": "stream",
     "text": [
      "05/05 03:18:01 [INFO] eps=8, lr=3.65e-06, t_loss=0.4788, v_loss=0.4352 , v_f1=0.9739 \n"
     ]
    },
    {
     "data": {
      "application/vnd.jupyter.widget-view+json": {
       "model_id": "61bb9e152fe74387a55d3c8ba89901e9",
       "version_major": 2,
       "version_minor": 0
      },
      "text/plain": [
       "  0%|          | 0/33 [00:00<?, ?it/s]"
      ]
     },
     "metadata": {},
     "output_type": "display_data"
    },
    {
     "name": "stdout",
     "output_type": "stream",
     "text": [
      "05/05 03:19:23 [INFO] eps=8, lr=3.4e-06, t_loss=0.4751, v_loss=0.4360 , v_f1=0.9723 \n"
     ]
    },
    {
     "data": {
      "application/vnd.jupyter.widget-view+json": {
       "model_id": "66790b60a7a94375a40a3efcc7741659",
       "version_major": 2,
       "version_minor": 0
      },
      "text/plain": [
       "Epoch 9:   0%|          | 0/264 [00:00<?, ?it/s]"
      ]
     },
     "metadata": {},
     "output_type": "display_data"
    },
    {
     "data": {
      "application/vnd.jupyter.widget-view+json": {
       "model_id": "fc5e9183b21a40f5b0400697868b8af7",
       "version_major": 2,
       "version_minor": 0
      },
      "text/plain": [
       "  0%|          | 0/33 [00:00<?, ?it/s]"
      ]
     },
     "metadata": {},
     "output_type": "display_data"
    },
    {
     "name": "stdout",
     "output_type": "stream",
     "text": [
      "05/05 03:20:46 [INFO] eps=9, lr=3.16e-06, t_loss=0.4759, v_loss=0.4351 , v_f1=0.9741 \n"
     ]
    },
    {
     "data": {
      "application/vnd.jupyter.widget-view+json": {
       "model_id": "50eb990882324da38237a69c338e794d",
       "version_major": 2,
       "version_minor": 0
      },
      "text/plain": [
       "  0%|          | 0/33 [00:00<?, ?it/s]"
      ]
     },
     "metadata": {},
     "output_type": "display_data"
    },
    {
     "name": "stdout",
     "output_type": "stream",
     "text": [
      "05/05 03:22:10 [INFO] eps=9, lr=2.94e-06, t_loss=0.4874, v_loss=0.4350 , v_f1=0.9732 \n"
     ]
    },
    {
     "data": {
      "application/vnd.jupyter.widget-view+json": {
       "model_id": "2a72ef67a12b4eebb1db02a721df8895",
       "version_major": 2,
       "version_minor": 0
      },
      "text/plain": [
       "  0%|          | 0/33 [00:00<?, ?it/s]"
      ]
     },
     "metadata": {},
     "output_type": "display_data"
    },
    {
     "name": "stdout",
     "output_type": "stream",
     "text": [
      "05/05 03:23:32 [INFO] eps=9, lr=2.73e-06, t_loss=0.4885, v_loss=0.4327*, v_f1=0.9738 \n"
     ]
    },
    {
     "data": {
      "application/vnd.jupyter.widget-view+json": {
       "model_id": "07036234698a45d198b20cfa9448380b",
       "version_major": 2,
       "version_minor": 0
      },
      "text/plain": [
       "  0%|          | 0/33 [00:00<?, ?it/s]"
      ]
     },
     "metadata": {},
     "output_type": "display_data"
    },
    {
     "name": "stdout",
     "output_type": "stream",
     "text": [
      "05/05 03:24:55 [INFO] eps=9, lr=2.54e-06, t_loss=0.4904, v_loss=0.4328 , v_f1=0.9736 \n"
     ]
    },
    {
     "data": {
      "application/vnd.jupyter.widget-view+json": {
       "model_id": "6b5e64f3d4954f39b8dbc6b71cd6b19f",
       "version_major": 2,
       "version_minor": 0
      },
      "text/plain": [
       "Epoch 10:   0%|          | 0/264 [00:00<?, ?it/s]"
      ]
     },
     "metadata": {},
     "output_type": "display_data"
    },
    {
     "data": {
      "application/vnd.jupyter.widget-view+json": {
       "model_id": "ae1e325203834447a9fb8de600368340",
       "version_major": 2,
       "version_minor": 0
      },
      "text/plain": [
       "  0%|          | 0/33 [00:00<?, ?it/s]"
      ]
     },
     "metadata": {},
     "output_type": "display_data"
    },
    {
     "name": "stdout",
     "output_type": "stream",
     "text": [
      "05/05 03:26:18 [INFO] eps=10, lr=2.36e-06, t_loss=0.4770, v_loss=0.4324*, v_f1=0.9732 \n"
     ]
    },
    {
     "data": {
      "application/vnd.jupyter.widget-view+json": {
       "model_id": "d175f929eb084406a04da241e438859d",
       "version_major": 2,
       "version_minor": 0
      },
      "text/plain": [
       "  0%|          | 0/33 [00:00<?, ?it/s]"
      ]
     },
     "metadata": {},
     "output_type": "display_data"
    },
    {
     "name": "stdout",
     "output_type": "stream",
     "text": [
      "05/05 03:27:41 [INFO] eps=10, lr=2.2e-06, t_loss=0.4795, v_loss=0.4317*, v_f1=0.9735 \n"
     ]
    },
    {
     "data": {
      "application/vnd.jupyter.widget-view+json": {
       "model_id": "f7dd487a59da408c9efe89898dfd8064",
       "version_major": 2,
       "version_minor": 0
      },
      "text/plain": [
       "  0%|          | 0/33 [00:00<?, ?it/s]"
      ]
     },
     "metadata": {},
     "output_type": "display_data"
    },
    {
     "name": "stdout",
     "output_type": "stream",
     "text": [
      "05/05 03:29:03 [INFO] eps=10, lr=2.04e-06, t_loss=0.4785, v_loss=0.4311*, v_f1=0.9738 \n"
     ]
    },
    {
     "data": {
      "application/vnd.jupyter.widget-view+json": {
       "model_id": "8c939e5d94674712a01d654eae836eb4",
       "version_major": 2,
       "version_minor": 0
      },
      "text/plain": [
       "  0%|          | 0/33 [00:00<?, ?it/s]"
      ]
     },
     "metadata": {},
     "output_type": "display_data"
    },
    {
     "name": "stdout",
     "output_type": "stream",
     "text": [
      "05/05 03:30:26 [INFO] eps=10, lr=1.9e-06, t_loss=0.4771, v_loss=0.4310*, v_f1=0.9728 \n"
     ]
    },
    {
     "data": {
      "application/vnd.jupyter.widget-view+json": {
       "model_id": "8cb28f702e8845c7904b459a59fd39cf",
       "version_major": 2,
       "version_minor": 0
      },
      "text/plain": [
       "Epoch 11:   0%|          | 0/264 [00:00<?, ?it/s]"
      ]
     },
     "metadata": {},
     "output_type": "display_data"
    },
    {
     "data": {
      "application/vnd.jupyter.widget-view+json": {
       "model_id": "64768d8ff8374fd58ec2f63c1793d79d",
       "version_major": 2,
       "version_minor": 0
      },
      "text/plain": [
       "  0%|          | 0/33 [00:00<?, ?it/s]"
      ]
     },
     "metadata": {},
     "output_type": "display_data"
    },
    {
     "name": "stdout",
     "output_type": "stream",
     "text": [
      "05/05 03:31:49 [INFO] eps=11, lr=1.77e-06, t_loss=0.4797, v_loss=0.4306*, v_f1=0.9726 \n"
     ]
    },
    {
     "data": {
      "application/vnd.jupyter.widget-view+json": {
       "model_id": "8c905de30a2b4bf7a4de9beba903f9a0",
       "version_major": 2,
       "version_minor": 0
      },
      "text/plain": [
       "  0%|          | 0/33 [00:00<?, ?it/s]"
      ]
     },
     "metadata": {},
     "output_type": "display_data"
    },
    {
     "name": "stdout",
     "output_type": "stream",
     "text": [
      "05/05 03:33:13 [INFO] eps=11, lr=1.64e-06, t_loss=0.4757, v_loss=0.4312 , v_f1=0.9741 \n"
     ]
    },
    {
     "data": {
      "application/vnd.jupyter.widget-view+json": {
       "model_id": "c5f8f16bbf9a4d41a62a66203db259a2",
       "version_major": 2,
       "version_minor": 0
      },
      "text/plain": [
       "  0%|          | 0/33 [00:00<?, ?it/s]"
      ]
     },
     "metadata": {},
     "output_type": "display_data"
    },
    {
     "name": "stdout",
     "output_type": "stream",
     "text": [
      "05/05 03:34:36 [INFO] eps=11, lr=1.53e-06, t_loss=0.4752, v_loss=0.4317 , v_f1=0.9738 \n"
     ]
    },
    {
     "data": {
      "application/vnd.jupyter.widget-view+json": {
       "model_id": "4e3f92ac6cd841468a51347f6ba92d2a",
       "version_major": 2,
       "version_minor": 0
      },
      "text/plain": [
       "  0%|          | 0/33 [00:00<?, ?it/s]"
      ]
     },
     "metadata": {},
     "output_type": "display_data"
    },
    {
     "name": "stdout",
     "output_type": "stream",
     "text": [
      "05/05 03:35:59 [INFO] eps=11, lr=1.42e-06, t_loss=0.4747, v_loss=0.4308 , v_f1=0.9741 \n"
     ]
    },
    {
     "data": {
      "application/vnd.jupyter.widget-view+json": {
       "model_id": "92e268cafed74cc7bb11f4380b9f8b7f",
       "version_major": 2,
       "version_minor": 0
      },
      "text/plain": [
       "Epoch 12:   0%|          | 0/264 [00:00<?, ?it/s]"
      ]
     },
     "metadata": {},
     "output_type": "display_data"
    },
    {
     "data": {
      "application/vnd.jupyter.widget-view+json": {
       "model_id": "ea9514376e684522a15fc0d114c8f214",
       "version_major": 2,
       "version_minor": 0
      },
      "text/plain": [
       "  0%|          | 0/33 [00:00<?, ?it/s]"
      ]
     },
     "metadata": {},
     "output_type": "display_data"
    },
    {
     "name": "stdout",
     "output_type": "stream",
     "text": [
      "05/05 03:37:22 [INFO] eps=12, lr=1.32e-06, t_loss=0.4740, v_loss=0.4311 , v_f1=0.9738 \n"
     ]
    },
    {
     "data": {
      "application/vnd.jupyter.widget-view+json": {
       "model_id": "be29e8d3188142fb804ac42febdd44ac",
       "version_major": 2,
       "version_minor": 0
      },
      "text/plain": [
       "  0%|          | 0/33 [00:00<?, ?it/s]"
      ]
     },
     "metadata": {},
     "output_type": "display_data"
    },
    {
     "name": "stdout",
     "output_type": "stream",
     "text": [
      "05/05 03:38:45 [INFO] eps=12, lr=1.23e-06, t_loss=0.4674, v_loss=0.4314 , v_f1=0.9731 \n"
     ]
    },
    {
     "data": {
      "application/vnd.jupyter.widget-view+json": {
       "model_id": "e0327903feed417580d0961b1cf3a34c",
       "version_major": 2,
       "version_minor": 0
      },
      "text/plain": [
       "  0%|          | 0/33 [00:00<?, ?it/s]"
      ]
     },
     "metadata": {},
     "output_type": "display_data"
    },
    {
     "name": "stdout",
     "output_type": "stream",
     "text": [
      "05/05 03:40:08 [INFO] eps=12, lr=1.14e-06, t_loss=0.4664, v_loss=0.4314 , v_f1=0.9731 \n",
      "05/05 03:40:08 [INFO] NO_MORE_TRAINING, best_score=0.9742\n"
     ]
    },
    {
     "data": {
      "application/vnd.jupyter.widget-view+json": {
       "model_id": "57bbf14bc8f049b8aee1f09160160c9d",
       "version_major": 2,
       "version_minor": 0
      },
      "text/plain": [
       "  0%|          | 0/33 [00:00<?, ?it/s]"
      ]
     },
     "metadata": {},
     "output_type": "display_data"
    },
    {
     "name": "stdout",
     "output_type": "stream",
     "text": [
      "05/05 03:40:28 [INFO] EMA ::: ema_v_loss=0.4315, ema_v_f1=0.9735\n",
      "05/05 03:40:29 [INFO] ./ckpt/deit3_large_patch16_224.fb_in22k_ft_in1k-fold_idx=0-epoch=12-val_loss=0.4315-val_score=0.9735-ema.ckpt : (ema) saved.\n",
      "05/05 03:40:30 [INFO] ./ckpt/deit3_large_patch16_224.fb_in22k_ft_in1k-fold_idx=0-epoch=08-val_loss=0.4357-val_score=0.9742.ckpt : saved.\n",
      "05/05 03:40:31 [INFO] fold_idx=0 finished\n"
     ]
    },
    {
     "data": {
      "application/vnd.jupyter.widget-view+json": {
       "model_id": "",
       "version_major": 2,
       "version_minor": 0
      },
      "text/plain": [
       "VBox(children=(Label(value='0.003 MB of 0.003 MB uploaded\\r'), FloatProgress(value=1.0, max=1.0)))"
      ]
     },
     "metadata": {},
     "output_type": "display_data"
    },
    {
     "data": {
      "text/html": [
       "<style>\n",
       "    table.wandb td:nth-child(1) { padding: 0 10px; text-align: left ; width: auto;} td:nth-child(2) {text-align: left ; width: 100%}\n",
       "    .wandb-row { display: flex; flex-direction: row; flex-wrap: wrap; justify-content: flex-start; width: 100% }\n",
       "    .wandb-col { display: flex; flex-direction: column; flex-basis: 100%; flex: 1; padding: 10px; }\n",
       "    </style>\n",
       "<div class=\"wandb-row\"><div class=\"wandb-col\"><h3>Run history:</h3><br/><table class=\"wandb\"><tr><td>ema_v_f1</td><td>▁</td></tr><tr><td>ema_v_loss</td><td>▁</td></tr><tr><td>epoch</td><td>▁▁▁▁▂▂▂▂▂▂▃▃▃▃▄▄▄▄▄▄▄▅▅▅▅▅▅▆▆▆▆▇▇▇▇▇▇███</td></tr><tr><td>lr</td><td>▇▅▄▂▁█▆▄▃█▇▆▅▆▆▅▅▄▁▄▄▄▁▁▁▁▂▂▁▁▁▂▂▁▁▂▂▂▁▂</td></tr><tr><td>step</td><td>▂▄▆█▂▅▇▂▄▆▁▃▅█▂▄▆▁▄▆█▂▆█▂▄▇▂▄▆█▃▅▇▂▄▆▁▃▆</td></tr></table><br/></div><div class=\"wandb-col\"><h3>Run summary:</h3><br/><table class=\"wandb\"><tr><td>ema_v_f1</td><td>0.97349</td></tr><tr><td>ema_v_loss</td><td>0.43154</td></tr><tr><td>epoch</td><td>12</td></tr><tr><td>lr</td><td>0.0</td></tr><tr><td>step</td><td>198</td></tr></table><br/></div></div>"
      ],
      "text/plain": [
       "<IPython.core.display.HTML object>"
      ]
     },
     "metadata": {},
     "output_type": "display_data"
    },
    {
     "data": {
      "text/html": [
       " View run <strong style=\"color:#cdcd00\">fold1_deit3_large_patch16_224.fb_in22k_ft_in1k_05050234</strong> at: <a href='https://wandb.ai/ujinyang/basslibrary240210/runs/c2j192xv' target=\"_blank\">https://wandb.ai/ujinyang/basslibrary240210/runs/c2j192xv</a><br/> View project at: <a href='https://wandb.ai/ujinyang/basslibrary240210' target=\"_blank\">https://wandb.ai/ujinyang/basslibrary240210</a><br/>Synced 6 W&B file(s), 0 media file(s), 0 artifact file(s) and 0 other file(s)"
      ],
      "text/plain": [
       "<IPython.core.display.HTML object>"
      ]
     },
     "metadata": {},
     "output_type": "display_data"
    },
    {
     "data": {
      "text/html": [
       "Find logs at: <code>./wandb/run-20240505_023448-c2j192xv/logs</code>"
      ],
      "text/plain": [
       "<IPython.core.display.HTML object>"
      ]
     },
     "metadata": {},
     "output_type": "display_data"
    },
    {
     "name": "stdout",
     "output_type": "stream",
     "text": [
      "05/05 03:40:37 [INFO] fold_idx=1 started\n"
     ]
    },
    {
     "data": {
      "text/html": [
       "Tracking run with wandb version 0.16.6"
      ],
      "text/plain": [
       "<IPython.core.display.HTML object>"
      ]
     },
     "metadata": {},
     "output_type": "display_data"
    },
    {
     "data": {
      "text/html": [
       "Run data is saved locally in <code>/workspace/wandb/run-20240505_034037-w1vljlhc</code>"
      ],
      "text/plain": [
       "<IPython.core.display.HTML object>"
      ]
     },
     "metadata": {},
     "output_type": "display_data"
    },
    {
     "data": {
      "text/html": [
       "Syncing run <strong><a href='https://wandb.ai/ujinyang/basslibrary240210/runs/w1vljlhc' target=\"_blank\">fold2_deit3_large_patch16_224.fb_in22k_ft_in1k_05050234</a></strong> to <a href='https://wandb.ai/ujinyang/basslibrary240210' target=\"_blank\">Weights & Biases</a> (<a href='https://wandb.me/run' target=\"_blank\">docs</a>)<br/>"
      ],
      "text/plain": [
       "<IPython.core.display.HTML object>"
      ]
     },
     "metadata": {},
     "output_type": "display_data"
    },
    {
     "data": {
      "text/html": [
       " View project at <a href='https://wandb.ai/ujinyang/basslibrary240210' target=\"_blank\">https://wandb.ai/ujinyang/basslibrary240210</a>"
      ],
      "text/plain": [
       "<IPython.core.display.HTML object>"
      ]
     },
     "metadata": {},
     "output_type": "display_data"
    },
    {
     "data": {
      "text/html": [
       " View run at <a href='https://wandb.ai/ujinyang/basslibrary240210/runs/w1vljlhc' target=\"_blank\">https://wandb.ai/ujinyang/basslibrary240210/runs/w1vljlhc</a>"
      ],
      "text/plain": [
       "<IPython.core.display.HTML object>"
      ]
     },
     "metadata": {},
     "output_type": "display_data"
    },
    {
     "name": "stdout",
     "output_type": "stream",
     "text": [
      "05/05 03:40:45 [INFO] load_img_size=224\n",
      "05/05 03:40:45 [INFO] load_img_size=224\n",
      "05/05 03:40:45 [INFO] create_model: timm/deit3_large_patch16_224.fb_in22k_ft_in1k\n",
      "05/05 03:40:45 [INFO] Loading pretrained weights from Hugging Face hub (timm/deit3_large_patch16_224.fb_in22k_ft_in1k)\n",
      "05/05 03:40:45 [INFO] [timm/deit3_large_patch16_224.fb_in22k_ft_in1k] Safe alternative available for 'pytorch_model.bin' (as 'model.safetensors'). Loading weights using safetensors.\n",
      "05/05 03:40:45 [INFO] use_amp=True\n"
     ]
    },
    {
     "name": "stderr",
     "output_type": "stream",
     "text": [
      "/opt/conda/lib/python3.10/site-packages/torch/nn/modules/lazy.py:181: UserWarning: Lazy modules are a new feature under heavy development so changes to the API or functionality can happen at any moment.\n",
      "  warnings.warn('Lazy modules are a new feature under heavy development '\n"
     ]
    },
    {
     "data": {
      "application/vnd.jupyter.widget-view+json": {
       "model_id": "fa4d93138e394058b69953624d093c6c",
       "version_major": 2,
       "version_minor": 0
      },
      "text/plain": [
       "Epoch 1:   0%|          | 0/264 [00:00<?, ?it/s]"
      ]
     },
     "metadata": {},
     "output_type": "display_data"
    },
    {
     "data": {
      "application/vnd.jupyter.widget-view+json": {
       "model_id": "ba7dd599793c45ebab1870f27b0cb059",
       "version_major": 2,
       "version_minor": 0
      },
      "text/plain": [
       "  0%|          | 0/33 [00:00<?, ?it/s]"
      ]
     },
     "metadata": {},
     "output_type": "display_data"
    },
    {
     "name": "stdout",
     "output_type": "stream",
     "text": [
      "05/05 03:42:07 [INFO] eps=1, lr=3.22e-05, t_loss=2.0247, v_loss=1.0273*, v_f1=0.8611*\n"
     ]
    },
    {
     "data": {
      "application/vnd.jupyter.widget-view+json": {
       "model_id": "de5f7b811f25431fb15cbc98b22957df",
       "version_major": 2,
       "version_minor": 0
      },
      "text/plain": [
       "  0%|          | 0/33 [00:00<?, ?it/s]"
      ]
     },
     "metadata": {},
     "output_type": "display_data"
    },
    {
     "name": "stdout",
     "output_type": "stream",
     "text": [
      "05/05 03:43:30 [INFO] eps=1, lr=3e-05, t_loss=1.4751, v_loss=0.5931*, v_f1=0.9370*\n"
     ]
    },
    {
     "data": {
      "application/vnd.jupyter.widget-view+json": {
       "model_id": "c41e64db8b944aa49a3af43bc13d0893",
       "version_major": 2,
       "version_minor": 0
      },
      "text/plain": [
       "  0%|          | 0/33 [00:00<?, ?it/s]"
      ]
     },
     "metadata": {},
     "output_type": "display_data"
    },
    {
     "name": "stdout",
     "output_type": "stream",
     "text": [
      "05/05 03:44:53 [INFO] eps=1, lr=2.79e-05, t_loss=1.2225, v_loss=0.5432*, v_f1=0.9534*\n"
     ]
    },
    {
     "data": {
      "application/vnd.jupyter.widget-view+json": {
       "model_id": "d565a8d1020541c98b944a2c9010f6ee",
       "version_major": 2,
       "version_minor": 0
      },
      "text/plain": [
       "  0%|          | 0/33 [00:00<?, ?it/s]"
      ]
     },
     "metadata": {},
     "output_type": "display_data"
    },
    {
     "name": "stdout",
     "output_type": "stream",
     "text": [
      "05/05 03:46:16 [INFO] eps=1, lr=2.59e-05, t_loss=1.0920, v_loss=0.5122*, v_f1=0.9589*\n"
     ]
    },
    {
     "data": {
      "application/vnd.jupyter.widget-view+json": {
       "model_id": "07eacf879e734bf39a2841cd7cc96679",
       "version_major": 2,
       "version_minor": 0
      },
      "text/plain": [
       "Epoch 2:   0%|          | 0/264 [00:00<?, ?it/s]"
      ]
     },
     "metadata": {},
     "output_type": "display_data"
    },
    {
     "data": {
      "application/vnd.jupyter.widget-view+json": {
       "model_id": "5487142562e74a4ca65dbb9302828ad4",
       "version_major": 2,
       "version_minor": 0
      },
      "text/plain": [
       "  0%|          | 0/33 [00:00<?, ?it/s]"
      ]
     },
     "metadata": {},
     "output_type": "display_data"
    },
    {
     "name": "stdout",
     "output_type": "stream",
     "text": [
      "05/05 03:47:39 [INFO] eps=2, lr=2.41e-05, t_loss=0.6305, v_loss=0.5031*, v_f1=0.9578 \n"
     ]
    },
    {
     "data": {
      "application/vnd.jupyter.widget-view+json": {
       "model_id": "41c6f0db1ad74335996fd962e2885c51",
       "version_major": 2,
       "version_minor": 0
      },
      "text/plain": [
       "  0%|          | 0/33 [00:00<?, ?it/s]"
      ]
     },
     "metadata": {},
     "output_type": "display_data"
    },
    {
     "name": "stdout",
     "output_type": "stream",
     "text": [
      "05/05 03:49:02 [INFO] eps=2, lr=2.24e-05, t_loss=0.6240, v_loss=0.4858*, v_f1=0.9638*\n"
     ]
    },
    {
     "data": {
      "application/vnd.jupyter.widget-view+json": {
       "model_id": "073cd5f9837841e293e45fbe754fc831",
       "version_major": 2,
       "version_minor": 0
      },
      "text/plain": [
       "  0%|          | 0/33 [00:00<?, ?it/s]"
      ]
     },
     "metadata": {},
     "output_type": "display_data"
    },
    {
     "name": "stdout",
     "output_type": "stream",
     "text": [
      "05/05 03:50:25 [INFO] eps=2, lr=2.08e-05, t_loss=0.6189, v_loss=0.4809*, v_f1=0.9628 \n"
     ]
    },
    {
     "data": {
      "application/vnd.jupyter.widget-view+json": {
       "model_id": "bfa3a489e2504cd59d2f6f891d20dda6",
       "version_major": 2,
       "version_minor": 0
      },
      "text/plain": [
       "  0%|          | 0/33 [00:00<?, ?it/s]"
      ]
     },
     "metadata": {},
     "output_type": "display_data"
    },
    {
     "name": "stdout",
     "output_type": "stream",
     "text": [
      "05/05 03:51:48 [INFO] eps=2, lr=1.94e-05, t_loss=0.6165, v_loss=0.4769*, v_f1=0.9650*\n"
     ]
    },
    {
     "data": {
      "application/vnd.jupyter.widget-view+json": {
       "model_id": "fc2a94d1cd5c4a8f801e70ba6645281e",
       "version_major": 2,
       "version_minor": 0
      },
      "text/plain": [
       "Epoch 3:   0%|          | 0/264 [00:00<?, ?it/s]"
      ]
     },
     "metadata": {},
     "output_type": "display_data"
    },
    {
     "data": {
      "application/vnd.jupyter.widget-view+json": {
       "model_id": "b436568c4c3044898d4fbf5846ffbc77",
       "version_major": 2,
       "version_minor": 0
      },
      "text/plain": [
       "  0%|          | 0/33 [00:00<?, ?it/s]"
      ]
     },
     "metadata": {},
     "output_type": "display_data"
    },
    {
     "name": "stdout",
     "output_type": "stream",
     "text": [
      "05/05 03:53:12 [INFO] eps=3, lr=1.8e-05, t_loss=0.5503, v_loss=0.4672*, v_f1=0.9651*\n"
     ]
    },
    {
     "data": {
      "application/vnd.jupyter.widget-view+json": {
       "model_id": "5d23e7c330fd4584a9b400a63a8ed0fd",
       "version_major": 2,
       "version_minor": 0
      },
      "text/plain": [
       "  0%|          | 0/33 [00:00<?, ?it/s]"
      ]
     },
     "metadata": {},
     "output_type": "display_data"
    },
    {
     "name": "stdout",
     "output_type": "stream",
     "text": [
      "05/05 03:54:35 [INFO] eps=3, lr=1.68e-05, t_loss=0.5547, v_loss=0.4657*, v_f1=0.9642 \n"
     ]
    },
    {
     "data": {
      "application/vnd.jupyter.widget-view+json": {
       "model_id": "4f6d9791a8c34c05982b5da5430d93d4",
       "version_major": 2,
       "version_minor": 0
      },
      "text/plain": [
       "  0%|          | 0/33 [00:00<?, ?it/s]"
      ]
     },
     "metadata": {},
     "output_type": "display_data"
    },
    {
     "name": "stdout",
     "output_type": "stream",
     "text": [
      "05/05 03:55:58 [INFO] eps=3, lr=1.56e-05, t_loss=0.5637, v_loss=0.4613*, v_f1=0.9678*\n"
     ]
    },
    {
     "data": {
      "application/vnd.jupyter.widget-view+json": {
       "model_id": "be665f0d9a94479492a877e1225826ce",
       "version_major": 2,
       "version_minor": 0
      },
      "text/plain": [
       "  0%|          | 0/33 [00:00<?, ?it/s]"
      ]
     },
     "metadata": {},
     "output_type": "display_data"
    },
    {
     "name": "stdout",
     "output_type": "stream",
     "text": [
      "05/05 03:57:21 [INFO] eps=3, lr=1.45e-05, t_loss=0.5571, v_loss=0.4633 , v_f1=0.9664 \n"
     ]
    },
    {
     "data": {
      "application/vnd.jupyter.widget-view+json": {
       "model_id": "7119aecf3eaa48ec8d98b0eee0bacaec",
       "version_major": 2,
       "version_minor": 0
      },
      "text/plain": [
       "Epoch 4:   0%|          | 0/264 [00:00<?, ?it/s]"
      ]
     },
     "metadata": {},
     "output_type": "display_data"
    },
    {
     "data": {
      "application/vnd.jupyter.widget-view+json": {
       "model_id": "940f910eb400405aa62bf59f339f88ed",
       "version_major": 2,
       "version_minor": 0
      },
      "text/plain": [
       "  0%|          | 0/33 [00:00<?, ?it/s]"
      ]
     },
     "metadata": {},
     "output_type": "display_data"
    },
    {
     "name": "stdout",
     "output_type": "stream",
     "text": [
      "05/05 03:58:44 [INFO] eps=4, lr=1.35e-05, t_loss=0.5327, v_loss=0.4618 , v_f1=0.9668 \n"
     ]
    },
    {
     "data": {
      "application/vnd.jupyter.widget-view+json": {
       "model_id": "855040b34a574f2aa0cadd46b2500020",
       "version_major": 2,
       "version_minor": 0
      },
      "text/plain": [
       "  0%|          | 0/33 [00:00<?, ?it/s]"
      ]
     },
     "metadata": {},
     "output_type": "display_data"
    },
    {
     "name": "stdout",
     "output_type": "stream",
     "text": [
      "05/05 04:00:07 [INFO] eps=4, lr=1.25e-05, t_loss=0.5272, v_loss=0.4575*, v_f1=0.9671 \n"
     ]
    },
    {
     "data": {
      "application/vnd.jupyter.widget-view+json": {
       "model_id": "cf59c97b5c6941cab5f7be86e1d7a862",
       "version_major": 2,
       "version_minor": 0
      },
      "text/plain": [
       "  0%|          | 0/33 [00:00<?, ?it/s]"
      ]
     },
     "metadata": {},
     "output_type": "display_data"
    },
    {
     "name": "stdout",
     "output_type": "stream",
     "text": [
      "05/05 04:01:31 [INFO] eps=4, lr=1.17e-05, t_loss=0.5244, v_loss=0.4523*, v_f1=0.9693*\n"
     ]
    },
    {
     "data": {
      "application/vnd.jupyter.widget-view+json": {
       "model_id": "eb46a6151656479eb1976b394c313160",
       "version_major": 2,
       "version_minor": 0
      },
      "text/plain": [
       "  0%|          | 0/33 [00:00<?, ?it/s]"
      ]
     },
     "metadata": {},
     "output_type": "display_data"
    },
    {
     "name": "stdout",
     "output_type": "stream",
     "text": [
      "05/05 04:02:54 [INFO] eps=4, lr=1.08e-05, t_loss=0.5212, v_loss=0.4551 , v_f1=0.9661 \n"
     ]
    },
    {
     "data": {
      "application/vnd.jupyter.widget-view+json": {
       "model_id": "7dcd1e917876429cbcbc373965e15915",
       "version_major": 2,
       "version_minor": 0
      },
      "text/plain": [
       "Epoch 5:   0%|          | 0/264 [00:00<?, ?it/s]"
      ]
     },
     "metadata": {},
     "output_type": "display_data"
    },
    {
     "data": {
      "application/vnd.jupyter.widget-view+json": {
       "model_id": "b1d0dced0290459dab601440d59bc618",
       "version_major": 2,
       "version_minor": 0
      },
      "text/plain": [
       "  0%|          | 0/33 [00:00<?, ?it/s]"
      ]
     },
     "metadata": {},
     "output_type": "display_data"
    },
    {
     "name": "stdout",
     "output_type": "stream",
     "text": [
      "05/05 04:04:17 [INFO] eps=5, lr=1.01e-05, t_loss=0.5004, v_loss=0.4500*, v_f1=0.9681 \n"
     ]
    },
    {
     "data": {
      "application/vnd.jupyter.widget-view+json": {
       "model_id": "e426dcb7860348ddab9392698e7845cb",
       "version_major": 2,
       "version_minor": 0
      },
      "text/plain": [
       "  0%|          | 0/33 [00:00<?, ?it/s]"
      ]
     },
     "metadata": {},
     "output_type": "display_data"
    },
    {
     "name": "stdout",
     "output_type": "stream",
     "text": [
      "05/05 04:05:41 [INFO] eps=5, lr=9.38e-06, t_loss=0.4985, v_loss=0.4520 , v_f1=0.9696*\n"
     ]
    },
    {
     "data": {
      "application/vnd.jupyter.widget-view+json": {
       "model_id": "5704aaaee34847078cab80d2f5c25bef",
       "version_major": 2,
       "version_minor": 0
      },
      "text/plain": [
       "  0%|          | 0/33 [00:00<?, ?it/s]"
      ]
     },
     "metadata": {},
     "output_type": "display_data"
    },
    {
     "name": "stdout",
     "output_type": "stream",
     "text": [
      "05/05 04:07:04 [INFO] eps=5, lr=8.73e-06, t_loss=0.5021, v_loss=0.4488*, v_f1=0.9692 \n"
     ]
    },
    {
     "data": {
      "application/vnd.jupyter.widget-view+json": {
       "model_id": "277ccfe461ca49ffaa399ee42e47fded",
       "version_major": 2,
       "version_minor": 0
      },
      "text/plain": [
       "  0%|          | 0/33 [00:00<?, ?it/s]"
      ]
     },
     "metadata": {},
     "output_type": "display_data"
    },
    {
     "name": "stdout",
     "output_type": "stream",
     "text": [
      "05/05 04:08:27 [INFO] eps=5, lr=8.11e-06, t_loss=0.5007, v_loss=0.4473*, v_f1=0.9692 \n"
     ]
    },
    {
     "data": {
      "application/vnd.jupyter.widget-view+json": {
       "model_id": "fb170ffd5b0b488c8aa09c1d1acac2dc",
       "version_major": 2,
       "version_minor": 0
      },
      "text/plain": [
       "Epoch 6:   0%|          | 0/264 [00:00<?, ?it/s]"
      ]
     },
     "metadata": {},
     "output_type": "display_data"
    },
    {
     "data": {
      "application/vnd.jupyter.widget-view+json": {
       "model_id": "f622960715a9458e9be5b8a5d9c8cd2a",
       "version_major": 2,
       "version_minor": 0
      },
      "text/plain": [
       "  0%|          | 0/33 [00:00<?, ?it/s]"
      ]
     },
     "metadata": {},
     "output_type": "display_data"
    },
    {
     "name": "stdout",
     "output_type": "stream",
     "text": [
      "05/05 04:09:50 [INFO] eps=6, lr=7.55e-06, t_loss=0.4863, v_loss=0.4458*, v_f1=0.9702*\n"
     ]
    },
    {
     "data": {
      "application/vnd.jupyter.widget-view+json": {
       "model_id": "4a5dcfc4d7e24b6ab144020115ba1355",
       "version_major": 2,
       "version_minor": 0
      },
      "text/plain": [
       "  0%|          | 0/33 [00:00<?, ?it/s]"
      ]
     },
     "metadata": {},
     "output_type": "display_data"
    },
    {
     "name": "stdout",
     "output_type": "stream",
     "text": [
      "05/05 04:11:14 [INFO] eps=6, lr=7.02e-06, t_loss=0.4906, v_loss=0.4478 , v_f1=0.9696 \n"
     ]
    },
    {
     "data": {
      "application/vnd.jupyter.widget-view+json": {
       "model_id": "f83a1ccfb6be414d80d1568b4f315b88",
       "version_major": 2,
       "version_minor": 0
      },
      "text/plain": [
       "  0%|          | 0/33 [00:00<?, ?it/s]"
      ]
     },
     "metadata": {},
     "output_type": "display_data"
    },
    {
     "name": "stdout",
     "output_type": "stream",
     "text": [
      "05/05 04:12:37 [INFO] eps=6, lr=6.53e-06, t_loss=0.4953, v_loss=0.4433*, v_f1=0.9718*\n"
     ]
    },
    {
     "data": {
      "application/vnd.jupyter.widget-view+json": {
       "model_id": "d8ff2a9c9d7b42fb8360c6b7831cc35a",
       "version_major": 2,
       "version_minor": 0
      },
      "text/plain": [
       "  0%|          | 0/33 [00:00<?, ?it/s]"
      ]
     },
     "metadata": {},
     "output_type": "display_data"
    },
    {
     "name": "stdout",
     "output_type": "stream",
     "text": [
      "05/05 04:14:00 [INFO] eps=6, lr=6.07e-06, t_loss=0.4957, v_loss=0.4431*, v_f1=0.9702 \n"
     ]
    },
    {
     "data": {
      "application/vnd.jupyter.widget-view+json": {
       "model_id": "b89de243ac6f4dcb8f2aef5a6b97b136",
       "version_major": 2,
       "version_minor": 0
      },
      "text/plain": [
       "Epoch 7:   0%|          | 0/264 [00:00<?, ?it/s]"
      ]
     },
     "metadata": {},
     "output_type": "display_data"
    },
    {
     "data": {
      "application/vnd.jupyter.widget-view+json": {
       "model_id": "f5a250195a0b4b818ea9646d89de1584",
       "version_major": 2,
       "version_minor": 0
      },
      "text/plain": [
       "  0%|          | 0/33 [00:00<?, ?it/s]"
      ]
     },
     "metadata": {},
     "output_type": "display_data"
    },
    {
     "name": "stdout",
     "output_type": "stream",
     "text": [
      "05/05 04:15:24 [INFO] eps=7, lr=5.65e-06, t_loss=0.4815, v_loss=0.4446 , v_f1=0.9690 \n"
     ]
    },
    {
     "data": {
      "application/vnd.jupyter.widget-view+json": {
       "model_id": "dc4446f618994552b4cbad5fde21ad00",
       "version_major": 2,
       "version_minor": 0
      },
      "text/plain": [
       "  0%|          | 0/33 [00:00<?, ?it/s]"
      ]
     },
     "metadata": {},
     "output_type": "display_data"
    },
    {
     "name": "stdout",
     "output_type": "stream",
     "text": [
      "05/05 04:16:47 [INFO] eps=7, lr=5.25e-06, t_loss=0.4856, v_loss=0.4404*, v_f1=0.9714 \n"
     ]
    },
    {
     "data": {
      "application/vnd.jupyter.widget-view+json": {
       "model_id": "d825b1a606fe40878c29847a6e417032",
       "version_major": 2,
       "version_minor": 0
      },
      "text/plain": [
       "  0%|          | 0/33 [00:00<?, ?it/s]"
      ]
     },
     "metadata": {},
     "output_type": "display_data"
    },
    {
     "name": "stdout",
     "output_type": "stream",
     "text": [
      "05/05 04:18:10 [INFO] eps=7, lr=4.88e-06, t_loss=0.4845, v_loss=0.4396*, v_f1=0.9721*\n"
     ]
    },
    {
     "data": {
      "application/vnd.jupyter.widget-view+json": {
       "model_id": "189957269d6f4886af677bca5d8b2c73",
       "version_major": 2,
       "version_minor": 0
      },
      "text/plain": [
       "  0%|          | 0/33 [00:00<?, ?it/s]"
      ]
     },
     "metadata": {},
     "output_type": "display_data"
    },
    {
     "name": "stdout",
     "output_type": "stream",
     "text": [
      "05/05 04:19:33 [INFO] eps=7, lr=4.54e-06, t_loss=0.4842, v_loss=0.4384*, v_f1=0.9734*\n"
     ]
    },
    {
     "data": {
      "application/vnd.jupyter.widget-view+json": {
       "model_id": "243a1bf94ccb408ab7a9656753632717",
       "version_major": 2,
       "version_minor": 0
      },
      "text/plain": [
       "Epoch 8:   0%|          | 0/264 [00:00<?, ?it/s]"
      ]
     },
     "metadata": {},
     "output_type": "display_data"
    },
    {
     "data": {
      "application/vnd.jupyter.widget-view+json": {
       "model_id": "66287ce4aa75401a891019d18f07a121",
       "version_major": 2,
       "version_minor": 0
      },
      "text/plain": [
       "  0%|          | 0/33 [00:00<?, ?it/s]"
      ]
     },
     "metadata": {},
     "output_type": "display_data"
    },
    {
     "name": "stdout",
     "output_type": "stream",
     "text": [
      "05/05 04:20:57 [INFO] eps=8, lr=4.22e-06, t_loss=0.4832, v_loss=0.4398 , v_f1=0.9729 \n"
     ]
    },
    {
     "data": {
      "application/vnd.jupyter.widget-view+json": {
       "model_id": "24a08f875cf145c0882c32db84502b6f",
       "version_major": 2,
       "version_minor": 0
      },
      "text/plain": [
       "  0%|          | 0/33 [00:00<?, ?it/s]"
      ]
     },
     "metadata": {},
     "output_type": "display_data"
    },
    {
     "name": "stdout",
     "output_type": "stream",
     "text": [
      "05/05 04:22:20 [INFO] eps=8, lr=3.93e-06, t_loss=0.4743, v_loss=0.4376*, v_f1=0.9727 \n"
     ]
    },
    {
     "data": {
      "application/vnd.jupyter.widget-view+json": {
       "model_id": "dc2293bf75da4b38a2d0225dba55188e",
       "version_major": 2,
       "version_minor": 0
      },
      "text/plain": [
       "  0%|          | 0/33 [00:00<?, ?it/s]"
      ]
     },
     "metadata": {},
     "output_type": "display_data"
    },
    {
     "name": "stdout",
     "output_type": "stream",
     "text": [
      "05/05 04:23:43 [INFO] eps=8, lr=3.65e-06, t_loss=0.4807, v_loss=0.4387 , v_f1=0.9715 \n"
     ]
    },
    {
     "data": {
      "application/vnd.jupyter.widget-view+json": {
       "model_id": "dd27b038ce8f4746a696f6467d9d9bf8",
       "version_major": 2,
       "version_minor": 0
      },
      "text/plain": [
       "  0%|          | 0/33 [00:00<?, ?it/s]"
      ]
     },
     "metadata": {},
     "output_type": "display_data"
    },
    {
     "name": "stdout",
     "output_type": "stream",
     "text": [
      "05/05 04:25:07 [INFO] eps=8, lr=3.4e-06, t_loss=0.4803, v_loss=0.4367*, v_f1=0.9728 \n"
     ]
    },
    {
     "data": {
      "application/vnd.jupyter.widget-view+json": {
       "model_id": "f9646098e69542f9a4eb3a1d1f0a2fdb",
       "version_major": 2,
       "version_minor": 0
      },
      "text/plain": [
       "Epoch 9:   0%|          | 0/264 [00:00<?, ?it/s]"
      ]
     },
     "metadata": {},
     "output_type": "display_data"
    },
    {
     "data": {
      "application/vnd.jupyter.widget-view+json": {
       "model_id": "b57abb012da046a2b69a141a5df90fe3",
       "version_major": 2,
       "version_minor": 0
      },
      "text/plain": [
       "  0%|          | 0/33 [00:00<?, ?it/s]"
      ]
     },
     "metadata": {},
     "output_type": "display_data"
    },
    {
     "name": "stdout",
     "output_type": "stream",
     "text": [
      "05/05 04:26:30 [INFO] eps=9, lr=3.16e-06, t_loss=0.4851, v_loss=0.4389 , v_f1=0.9733 \n"
     ]
    },
    {
     "data": {
      "application/vnd.jupyter.widget-view+json": {
       "model_id": "ee6773b2dc8942af930233afe6e5a247",
       "version_major": 2,
       "version_minor": 0
      },
      "text/plain": [
       "  0%|          | 0/33 [00:00<?, ?it/s]"
      ]
     },
     "metadata": {},
     "output_type": "display_data"
    },
    {
     "name": "stdout",
     "output_type": "stream",
     "text": [
      "05/05 04:27:54 [INFO] eps=9, lr=2.94e-06, t_loss=0.4798, v_loss=0.4364*, v_f1=0.9735*\n"
     ]
    },
    {
     "data": {
      "application/vnd.jupyter.widget-view+json": {
       "model_id": "3c4acaf7d02646d1b323072835ab5b17",
       "version_major": 2,
       "version_minor": 0
      },
      "text/plain": [
       "  0%|          | 0/33 [00:00<?, ?it/s]"
      ]
     },
     "metadata": {},
     "output_type": "display_data"
    },
    {
     "name": "stdout",
     "output_type": "stream",
     "text": [
      "05/05 04:29:17 [INFO] eps=9, lr=2.73e-06, t_loss=0.4786, v_loss=0.4349*, v_f1=0.9747*\n"
     ]
    },
    {
     "data": {
      "application/vnd.jupyter.widget-view+json": {
       "model_id": "ef0f50d8fdc9459a99a78d215750597b",
       "version_major": 2,
       "version_minor": 0
      },
      "text/plain": [
       "  0%|          | 0/33 [00:00<?, ?it/s]"
      ]
     },
     "metadata": {},
     "output_type": "display_data"
    },
    {
     "name": "stdout",
     "output_type": "stream",
     "text": [
      "05/05 04:30:40 [INFO] eps=9, lr=2.54e-06, t_loss=0.4746, v_loss=0.4366 , v_f1=0.9738 \n"
     ]
    },
    {
     "data": {
      "application/vnd.jupyter.widget-view+json": {
       "model_id": "499a746e108b4825ad114ec038329492",
       "version_major": 2,
       "version_minor": 0
      },
      "text/plain": [
       "Epoch 10:   0%|          | 0/264 [00:00<?, ?it/s]"
      ]
     },
     "metadata": {},
     "output_type": "display_data"
    },
    {
     "data": {
      "application/vnd.jupyter.widget-view+json": {
       "model_id": "b53bae29e9bd4312af89266a9c2fb263",
       "version_major": 2,
       "version_minor": 0
      },
      "text/plain": [
       "  0%|          | 0/33 [00:00<?, ?it/s]"
      ]
     },
     "metadata": {},
     "output_type": "display_data"
    },
    {
     "name": "stdout",
     "output_type": "stream",
     "text": [
      "05/05 04:32:04 [INFO] eps=10, lr=2.36e-06, t_loss=0.4647, v_loss=0.4376 , v_f1=0.9738 \n"
     ]
    },
    {
     "data": {
      "application/vnd.jupyter.widget-view+json": {
       "model_id": "313c88e6fa454188b539a0baf5f6043c",
       "version_major": 2,
       "version_minor": 0
      },
      "text/plain": [
       "  0%|          | 0/33 [00:00<?, ?it/s]"
      ]
     },
     "metadata": {},
     "output_type": "display_data"
    },
    {
     "name": "stdout",
     "output_type": "stream",
     "text": [
      "05/05 04:33:27 [INFO] eps=10, lr=2.2e-06, t_loss=0.4716, v_loss=0.4374 , v_f1=0.9728 \n"
     ]
    },
    {
     "data": {
      "application/vnd.jupyter.widget-view+json": {
       "model_id": "94f89d54fd7344ada8584acffc0f0909",
       "version_major": 2,
       "version_minor": 0
      },
      "text/plain": [
       "  0%|          | 0/33 [00:00<?, ?it/s]"
      ]
     },
     "metadata": {},
     "output_type": "display_data"
    },
    {
     "name": "stdout",
     "output_type": "stream",
     "text": [
      "05/05 04:34:51 [INFO] eps=10, lr=2.04e-06, t_loss=0.4728, v_loss=0.4356 , v_f1=0.9741 \n"
     ]
    },
    {
     "data": {
      "application/vnd.jupyter.widget-view+json": {
       "model_id": "31403f3f8c8649bb81ecee97a4b888f1",
       "version_major": 2,
       "version_minor": 0
      },
      "text/plain": [
       "  0%|          | 0/33 [00:00<?, ?it/s]"
      ]
     },
     "metadata": {},
     "output_type": "display_data"
    },
    {
     "name": "stdout",
     "output_type": "stream",
     "text": [
      "05/05 04:36:14 [INFO] eps=10, lr=1.9e-06, t_loss=0.4714, v_loss=0.4365 , v_f1=0.9732 \n"
     ]
    },
    {
     "data": {
      "application/vnd.jupyter.widget-view+json": {
       "model_id": "306726806f604edc8e9eb703aa06d055",
       "version_major": 2,
       "version_minor": 0
      },
      "text/plain": [
       "Epoch 11:   0%|          | 0/264 [00:00<?, ?it/s]"
      ]
     },
     "metadata": {},
     "output_type": "display_data"
    },
    {
     "data": {
      "application/vnd.jupyter.widget-view+json": {
       "model_id": "15a2b846436747869ac657b71b9a4273",
       "version_major": 2,
       "version_minor": 0
      },
      "text/plain": [
       "  0%|          | 0/33 [00:00<?, ?it/s]"
      ]
     },
     "metadata": {},
     "output_type": "display_data"
    },
    {
     "name": "stdout",
     "output_type": "stream",
     "text": [
      "05/05 04:37:38 [INFO] eps=11, lr=1.77e-06, t_loss=0.4585, v_loss=0.4359 , v_f1=0.9746 \n",
      "05/05 04:37:38 [INFO] NO_MORE_TRAINING, best_score=0.9747\n"
     ]
    },
    {
     "data": {
      "application/vnd.jupyter.widget-view+json": {
       "model_id": "f087ea65002d416d95a9deb5666903bc",
       "version_major": 2,
       "version_minor": 0
      },
      "text/plain": [
       "  0%|          | 0/33 [00:00<?, ?it/s]"
      ]
     },
     "metadata": {},
     "output_type": "display_data"
    },
    {
     "name": "stdout",
     "output_type": "stream",
     "text": [
      "05/05 04:37:57 [INFO] EMA ::: ema_v_loss=0.4369, ema_v_f1=0.9737\n",
      "05/05 04:37:58 [INFO] ./ckpt/deit3_large_patch16_224.fb_in22k_ft_in1k-fold_idx=1-epoch=11-val_loss=0.4369-val_score=0.9737-ema.ckpt : (ema) saved.\n",
      "05/05 04:37:59 [INFO] ./ckpt/deit3_large_patch16_224.fb_in22k_ft_in1k-fold_idx=1-epoch=09-val_loss=0.4349-val_score=0.9747.ckpt : saved.\n",
      "05/05 04:38:00 [INFO] fold_idx=1 finished\n"
     ]
    },
    {
     "data": {
      "application/vnd.jupyter.widget-view+json": {
       "model_id": "",
       "version_major": 2,
       "version_minor": 0
      },
      "text/plain": [
       "VBox(children=(Label(value='0.003 MB of 0.003 MB uploaded\\r'), FloatProgress(value=1.0, max=1.0)))"
      ]
     },
     "metadata": {},
     "output_type": "display_data"
    },
    {
     "data": {
      "text/html": [
       "<style>\n",
       "    table.wandb td:nth-child(1) { padding: 0 10px; text-align: left ; width: auto;} td:nth-child(2) {text-align: left ; width: 100%}\n",
       "    .wandb-row { display: flex; flex-direction: row; flex-wrap: wrap; justify-content: flex-start; width: 100% }\n",
       "    .wandb-col { display: flex; flex-direction: column; flex-basis: 100%; flex: 1; padding: 10px; }\n",
       "    </style>\n",
       "<div class=\"wandb-row\"><div class=\"wandb-col\"><h3>Run history:</h3><br/><table class=\"wandb\"><tr><td>ema_v_f1</td><td>▁</td></tr><tr><td>ema_v_loss</td><td>▁</td></tr><tr><td>epoch</td><td>▁▁▁▁▂▂▂▂▂▂▂▂▃▃▃▃▄▄▄▄▅▅▅▅▅▅▅▅▆▆▆▆▇▇▇▇▇▇▇█</td></tr><tr><td>lr</td><td>▄█▇▇▅▅▄▃▂▂▂▁▁▁▃▂▂▂▁▁▁▁▂▂▂▂▂▁▁▁▂▂▂▂▂▁▁▁▁▁</td></tr><tr><td>step</td><td>▂▂▄▆▁▃▅▇▂▄▆█▂▄▅▇▂▄▆█▂▄▆█▂▄▆█▂▄▆█▂▄▆▁▃▅▇▂</td></tr></table><br/></div><div class=\"wandb-col\"><h3>Run summary:</h3><br/><table class=\"wandb\"><tr><td>ema_v_f1</td><td>0.97374</td></tr><tr><td>ema_v_loss</td><td>0.43686</td></tr><tr><td>epoch</td><td>11</td></tr><tr><td>lr</td><td>0.0</td></tr><tr><td>step</td><td>66</td></tr></table><br/></div></div>"
      ],
      "text/plain": [
       "<IPython.core.display.HTML object>"
      ]
     },
     "metadata": {},
     "output_type": "display_data"
    },
    {
     "data": {
      "text/html": [
       " View run <strong style=\"color:#cdcd00\">fold2_deit3_large_patch16_224.fb_in22k_ft_in1k_05050234</strong> at: <a href='https://wandb.ai/ujinyang/basslibrary240210/runs/w1vljlhc' target=\"_blank\">https://wandb.ai/ujinyang/basslibrary240210/runs/w1vljlhc</a><br/> View project at: <a href='https://wandb.ai/ujinyang/basslibrary240210' target=\"_blank\">https://wandb.ai/ujinyang/basslibrary240210</a><br/>Synced 6 W&B file(s), 0 media file(s), 0 artifact file(s) and 0 other file(s)"
      ],
      "text/plain": [
       "<IPython.core.display.HTML object>"
      ]
     },
     "metadata": {},
     "output_type": "display_data"
    },
    {
     "data": {
      "text/html": [
       "Find logs at: <code>./wandb/run-20240505_034037-w1vljlhc/logs</code>"
      ],
      "text/plain": [
       "<IPython.core.display.HTML object>"
      ]
     },
     "metadata": {},
     "output_type": "display_data"
    },
    {
     "name": "stdout",
     "output_type": "stream",
     "text": [
      "05/05 04:38:06 [INFO] fold_idx=2 started\n"
     ]
    },
    {
     "data": {
      "text/html": [
       "Tracking run with wandb version 0.16.6"
      ],
      "text/plain": [
       "<IPython.core.display.HTML object>"
      ]
     },
     "metadata": {},
     "output_type": "display_data"
    },
    {
     "data": {
      "text/html": [
       "Run data is saved locally in <code>/workspace/wandb/run-20240505_043806-4gkbm4tc</code>"
      ],
      "text/plain": [
       "<IPython.core.display.HTML object>"
      ]
     },
     "metadata": {},
     "output_type": "display_data"
    },
    {
     "data": {
      "text/html": [
       "Syncing run <strong><a href='https://wandb.ai/ujinyang/basslibrary240210/runs/4gkbm4tc' target=\"_blank\">fold3_deit3_large_patch16_224.fb_in22k_ft_in1k_05050234</a></strong> to <a href='https://wandb.ai/ujinyang/basslibrary240210' target=\"_blank\">Weights & Biases</a> (<a href='https://wandb.me/run' target=\"_blank\">docs</a>)<br/>"
      ],
      "text/plain": [
       "<IPython.core.display.HTML object>"
      ]
     },
     "metadata": {},
     "output_type": "display_data"
    },
    {
     "data": {
      "text/html": [
       " View project at <a href='https://wandb.ai/ujinyang/basslibrary240210' target=\"_blank\">https://wandb.ai/ujinyang/basslibrary240210</a>"
      ],
      "text/plain": [
       "<IPython.core.display.HTML object>"
      ]
     },
     "metadata": {},
     "output_type": "display_data"
    },
    {
     "data": {
      "text/html": [
       " View run at <a href='https://wandb.ai/ujinyang/basslibrary240210/runs/4gkbm4tc' target=\"_blank\">https://wandb.ai/ujinyang/basslibrary240210/runs/4gkbm4tc</a>"
      ],
      "text/plain": [
       "<IPython.core.display.HTML object>"
      ]
     },
     "metadata": {},
     "output_type": "display_data"
    },
    {
     "name": "stdout",
     "output_type": "stream",
     "text": [
      "05/05 04:38:13 [INFO] load_img_size=224\n",
      "05/05 04:38:13 [INFO] load_img_size=224\n",
      "05/05 04:38:13 [INFO] create_model: timm/deit3_large_patch16_224.fb_in22k_ft_in1k\n",
      "05/05 04:38:13 [INFO] Loading pretrained weights from Hugging Face hub (timm/deit3_large_patch16_224.fb_in22k_ft_in1k)\n",
      "05/05 04:38:13 [INFO] [timm/deit3_large_patch16_224.fb_in22k_ft_in1k] Safe alternative available for 'pytorch_model.bin' (as 'model.safetensors'). Loading weights using safetensors.\n",
      "05/05 04:38:14 [INFO] use_amp=True\n"
     ]
    },
    {
     "name": "stderr",
     "output_type": "stream",
     "text": [
      "/opt/conda/lib/python3.10/site-packages/torch/nn/modules/lazy.py:181: UserWarning: Lazy modules are a new feature under heavy development so changes to the API or functionality can happen at any moment.\n",
      "  warnings.warn('Lazy modules are a new feature under heavy development '\n"
     ]
    },
    {
     "data": {
      "application/vnd.jupyter.widget-view+json": {
       "model_id": "c5d9ee94ecf84810a45ab6f3b71ce5eb",
       "version_major": 2,
       "version_minor": 0
      },
      "text/plain": [
       "Epoch 1:   0%|          | 0/264 [00:00<?, ?it/s]"
      ]
     },
     "metadata": {},
     "output_type": "display_data"
    },
    {
     "data": {
      "application/vnd.jupyter.widget-view+json": {
       "model_id": "93f3fad4f5c141dc830f1a7b543e545f",
       "version_major": 2,
       "version_minor": 0
      },
      "text/plain": [
       "  0%|          | 0/33 [00:00<?, ?it/s]"
      ]
     },
     "metadata": {},
     "output_type": "display_data"
    },
    {
     "name": "stdout",
     "output_type": "stream",
     "text": [
      "05/05 04:39:37 [INFO] eps=1, lr=3.22e-05, t_loss=2.0805, v_loss=1.0859*, v_f1=0.8666*\n"
     ]
    },
    {
     "data": {
      "application/vnd.jupyter.widget-view+json": {
       "model_id": "d972c4c3c7134c029c00755f4718cf56",
       "version_major": 2,
       "version_minor": 0
      },
      "text/plain": [
       "  0%|          | 0/33 [00:00<?, ?it/s]"
      ]
     },
     "metadata": {},
     "output_type": "display_data"
    },
    {
     "name": "stdout",
     "output_type": "stream",
     "text": [
      "05/05 04:41:00 [INFO] eps=1, lr=3e-05, t_loss=1.4902, v_loss=0.5791*, v_f1=0.9441*\n"
     ]
    },
    {
     "data": {
      "application/vnd.jupyter.widget-view+json": {
       "model_id": "b4fc2d3c29b64a958dc3f5f9d0eb9569",
       "version_major": 2,
       "version_minor": 0
      },
      "text/plain": [
       "  0%|          | 0/33 [00:00<?, ?it/s]"
      ]
     },
     "metadata": {},
     "output_type": "display_data"
    },
    {
     "name": "stdout",
     "output_type": "stream",
     "text": [
      "05/05 04:42:24 [INFO] eps=1, lr=2.79e-05, t_loss=1.2455, v_loss=0.5421*, v_f1=0.9519*\n"
     ]
    },
    {
     "data": {
      "application/vnd.jupyter.widget-view+json": {
       "model_id": "95d4d80944a646a391a8573968f8e72c",
       "version_major": 2,
       "version_minor": 0
      },
      "text/plain": [
       "  0%|          | 0/33 [00:00<?, ?it/s]"
      ]
     },
     "metadata": {},
     "output_type": "display_data"
    },
    {
     "name": "stdout",
     "output_type": "stream",
     "text": [
      "05/05 04:43:47 [INFO] eps=1, lr=2.59e-05, t_loss=1.1088, v_loss=0.5128*, v_f1=0.9602*\n"
     ]
    },
    {
     "data": {
      "application/vnd.jupyter.widget-view+json": {
       "model_id": "e6a42ab0caa4409ca3e998610024bb25",
       "version_major": 2,
       "version_minor": 0
      },
      "text/plain": [
       "Epoch 2:   0%|          | 0/264 [00:00<?, ?it/s]"
      ]
     },
     "metadata": {},
     "output_type": "display_data"
    },
    {
     "data": {
      "application/vnd.jupyter.widget-view+json": {
       "model_id": "b7c3166656d8459e8719420f8fc0b03f",
       "version_major": 2,
       "version_minor": 0
      },
      "text/plain": [
       "  0%|          | 0/33 [00:00<?, ?it/s]"
      ]
     },
     "metadata": {},
     "output_type": "display_data"
    },
    {
     "name": "stdout",
     "output_type": "stream",
     "text": [
      "05/05 04:45:11 [INFO] eps=2, lr=2.41e-05, t_loss=0.6227, v_loss=0.5010*, v_f1=0.9663*\n"
     ]
    },
    {
     "data": {
      "application/vnd.jupyter.widget-view+json": {
       "model_id": "76fcdd3da2ae43168d76b984d0971465",
       "version_major": 2,
       "version_minor": 0
      },
      "text/plain": [
       "  0%|          | 0/33 [00:00<?, ?it/s]"
      ]
     },
     "metadata": {},
     "output_type": "display_data"
    },
    {
     "name": "stdout",
     "output_type": "stream",
     "text": [
      "05/05 04:46:35 [INFO] eps=2, lr=2.24e-05, t_loss=0.6182, v_loss=0.4936*, v_f1=0.9655 \n"
     ]
    },
    {
     "data": {
      "application/vnd.jupyter.widget-view+json": {
       "model_id": "72d83faa26df40b895a6ee6485a93844",
       "version_major": 2,
       "version_minor": 0
      },
      "text/plain": [
       "  0%|          | 0/33 [00:00<?, ?it/s]"
      ]
     },
     "metadata": {},
     "output_type": "display_data"
    },
    {
     "name": "stdout",
     "output_type": "stream",
     "text": [
      "05/05 04:47:58 [INFO] eps=2, lr=2.08e-05, t_loss=0.6189, v_loss=0.4837*, v_f1=0.9665*\n"
     ]
    },
    {
     "data": {
      "application/vnd.jupyter.widget-view+json": {
       "model_id": "002cf6f6b66749ac946c4636910cfb1c",
       "version_major": 2,
       "version_minor": 0
      },
      "text/plain": [
       "  0%|          | 0/33 [00:00<?, ?it/s]"
      ]
     },
     "metadata": {},
     "output_type": "display_data"
    },
    {
     "name": "stdout",
     "output_type": "stream",
     "text": [
      "05/05 04:49:22 [INFO] eps=2, lr=1.94e-05, t_loss=0.6135, v_loss=0.4813*, v_f1=0.9650 \n"
     ]
    },
    {
     "data": {
      "application/vnd.jupyter.widget-view+json": {
       "model_id": "8b465da095ab4663a24b0cd8aa61c9e5",
       "version_major": 2,
       "version_minor": 0
      },
      "text/plain": [
       "Epoch 3:   0%|          | 0/264 [00:00<?, ?it/s]"
      ]
     },
     "metadata": {},
     "output_type": "display_data"
    },
    {
     "data": {
      "application/vnd.jupyter.widget-view+json": {
       "model_id": "0aae2a41400c4aa38e392a41cce1fe17",
       "version_major": 2,
       "version_minor": 0
      },
      "text/plain": [
       "  0%|          | 0/33 [00:00<?, ?it/s]"
      ]
     },
     "metadata": {},
     "output_type": "display_data"
    },
    {
     "name": "stdout",
     "output_type": "stream",
     "text": [
      "05/05 04:50:45 [INFO] eps=3, lr=1.8e-05, t_loss=0.5690, v_loss=0.4725*, v_f1=0.9685*\n"
     ]
    },
    {
     "data": {
      "application/vnd.jupyter.widget-view+json": {
       "model_id": "c56c4fc2e33249228e193c0bbfb092cb",
       "version_major": 2,
       "version_minor": 0
      },
      "text/plain": [
       "  0%|          | 0/33 [00:00<?, ?it/s]"
      ]
     },
     "metadata": {},
     "output_type": "display_data"
    },
    {
     "name": "stdout",
     "output_type": "stream",
     "text": [
      "05/05 04:52:09 [INFO] eps=3, lr=1.68e-05, t_loss=0.5648, v_loss=0.4700*, v_f1=0.9673 \n"
     ]
    },
    {
     "data": {
      "application/vnd.jupyter.widget-view+json": {
       "model_id": "0712065c7a0642039a4a06edcb8b2577",
       "version_major": 2,
       "version_minor": 0
      },
      "text/plain": [
       "  0%|          | 0/33 [00:00<?, ?it/s]"
      ]
     },
     "metadata": {},
     "output_type": "display_data"
    },
    {
     "name": "stdout",
     "output_type": "stream",
     "text": [
      "05/05 04:53:32 [INFO] eps=3, lr=1.56e-05, t_loss=0.5667, v_loss=0.4685*, v_f1=0.9693*\n"
     ]
    },
    {
     "data": {
      "application/vnd.jupyter.widget-view+json": {
       "model_id": "9747d08d0ac04bd0b3a34b587a524406",
       "version_major": 2,
       "version_minor": 0
      },
      "text/plain": [
       "  0%|          | 0/33 [00:00<?, ?it/s]"
      ]
     },
     "metadata": {},
     "output_type": "display_data"
    },
    {
     "name": "stdout",
     "output_type": "stream",
     "text": [
      "05/05 04:54:56 [INFO] eps=3, lr=1.45e-05, t_loss=0.5579, v_loss=0.4640*, v_f1=0.9692 \n"
     ]
    },
    {
     "data": {
      "application/vnd.jupyter.widget-view+json": {
       "model_id": "75da51b5a10c468dbb7d4c0d5e73c4e3",
       "version_major": 2,
       "version_minor": 0
      },
      "text/plain": [
       "Epoch 4:   0%|          | 0/264 [00:00<?, ?it/s]"
      ]
     },
     "metadata": {},
     "output_type": "display_data"
    },
    {
     "data": {
      "application/vnd.jupyter.widget-view+json": {
       "model_id": "3bc5b9d17bcd43519c4b506431ac4271",
       "version_major": 2,
       "version_minor": 0
      },
      "text/plain": [
       "  0%|          | 0/33 [00:00<?, ?it/s]"
      ]
     },
     "metadata": {},
     "output_type": "display_data"
    },
    {
     "name": "stdout",
     "output_type": "stream",
     "text": [
      "05/05 04:56:19 [INFO] eps=4, lr=1.35e-05, t_loss=0.5266, v_loss=0.4612*, v_f1=0.9698*\n"
     ]
    },
    {
     "data": {
      "application/vnd.jupyter.widget-view+json": {
       "model_id": "adae16f8ae0f4a8bb538b5014da195ea",
       "version_major": 2,
       "version_minor": 0
      },
      "text/plain": [
       "  0%|          | 0/33 [00:00<?, ?it/s]"
      ]
     },
     "metadata": {},
     "output_type": "display_data"
    },
    {
     "name": "stdout",
     "output_type": "stream",
     "text": [
      "05/05 04:57:42 [INFO] eps=4, lr=1.25e-05, t_loss=0.5229, v_loss=0.4608*, v_f1=0.9694 \n"
     ]
    },
    {
     "data": {
      "application/vnd.jupyter.widget-view+json": {
       "model_id": "fbd2908ce7754978a57e9bd3f1533378",
       "version_major": 2,
       "version_minor": 0
      },
      "text/plain": [
       "  0%|          | 0/33 [00:00<?, ?it/s]"
      ]
     },
     "metadata": {},
     "output_type": "display_data"
    },
    {
     "name": "stdout",
     "output_type": "stream",
     "text": [
      "05/05 04:59:06 [INFO] eps=4, lr=1.17e-05, t_loss=0.5186, v_loss=0.4602*, v_f1=0.9681 \n"
     ]
    },
    {
     "data": {
      "application/vnd.jupyter.widget-view+json": {
       "model_id": "a2fcc70104bd40b5a5287d966b657640",
       "version_major": 2,
       "version_minor": 0
      },
      "text/plain": [
       "  0%|          | 0/33 [00:00<?, ?it/s]"
      ]
     },
     "metadata": {},
     "output_type": "display_data"
    },
    {
     "name": "stdout",
     "output_type": "stream",
     "text": [
      "05/05 05:00:29 [INFO] eps=4, lr=1.08e-05, t_loss=0.5210, v_loss=0.4600*, v_f1=0.9687 \n"
     ]
    },
    {
     "data": {
      "application/vnd.jupyter.widget-view+json": {
       "model_id": "232e8ca4a0664e459e4a0fd749487457",
       "version_major": 2,
       "version_minor": 0
      },
      "text/plain": [
       "Epoch 5:   0%|          | 0/264 [00:00<?, ?it/s]"
      ]
     },
     "metadata": {},
     "output_type": "display_data"
    },
    {
     "data": {
      "application/vnd.jupyter.widget-view+json": {
       "model_id": "7081327943034ca4bec9ee70c7161695",
       "version_major": 2,
       "version_minor": 0
      },
      "text/plain": [
       "  0%|          | 0/33 [00:00<?, ?it/s]"
      ]
     },
     "metadata": {},
     "output_type": "display_data"
    },
    {
     "name": "stdout",
     "output_type": "stream",
     "text": [
      "05/05 05:01:53 [INFO] eps=5, lr=1.01e-05, t_loss=0.5229, v_loss=0.4574*, v_f1=0.9683 \n"
     ]
    },
    {
     "data": {
      "application/vnd.jupyter.widget-view+json": {
       "model_id": "6cbb411768bf4f4f977d43177315e005",
       "version_major": 2,
       "version_minor": 0
      },
      "text/plain": [
       "  0%|          | 0/33 [00:00<?, ?it/s]"
      ]
     },
     "metadata": {},
     "output_type": "display_data"
    },
    {
     "name": "stdout",
     "output_type": "stream",
     "text": [
      "05/05 05:03:16 [INFO] eps=5, lr=9.38e-06, t_loss=0.5186, v_loss=0.4540*, v_f1=0.9693 \n"
     ]
    },
    {
     "data": {
      "application/vnd.jupyter.widget-view+json": {
       "model_id": "3fb9f5f02590481ba219aa9073106c9c",
       "version_major": 2,
       "version_minor": 0
      },
      "text/plain": [
       "  0%|          | 0/33 [00:00<?, ?it/s]"
      ]
     },
     "metadata": {},
     "output_type": "display_data"
    },
    {
     "name": "stdout",
     "output_type": "stream",
     "text": [
      "05/05 05:04:40 [INFO] eps=5, lr=8.73e-06, t_loss=0.5150, v_loss=0.4501*, v_f1=0.9722*\n"
     ]
    },
    {
     "data": {
      "application/vnd.jupyter.widget-view+json": {
       "model_id": "96f71bca50704d0e95c5c1222c03c4a3",
       "version_major": 2,
       "version_minor": 0
      },
      "text/plain": [
       "  0%|          | 0/33 [00:00<?, ?it/s]"
      ]
     },
     "metadata": {},
     "output_type": "display_data"
    },
    {
     "name": "stdout",
     "output_type": "stream",
     "text": [
      "05/05 05:06:03 [INFO] eps=5, lr=8.11e-06, t_loss=0.5134, v_loss=0.4496*, v_f1=0.9708 \n"
     ]
    },
    {
     "data": {
      "application/vnd.jupyter.widget-view+json": {
       "model_id": "4e0aa83368294a36a1890000ab0f998f",
       "version_major": 2,
       "version_minor": 0
      },
      "text/plain": [
       "Epoch 6:   0%|          | 0/264 [00:00<?, ?it/s]"
      ]
     },
     "metadata": {},
     "output_type": "display_data"
    },
    {
     "data": {
      "application/vnd.jupyter.widget-view+json": {
       "model_id": "dd5de3e4215d49c68c94d7613000eada",
       "version_major": 2,
       "version_minor": 0
      },
      "text/plain": [
       "  0%|          | 0/33 [00:00<?, ?it/s]"
      ]
     },
     "metadata": {},
     "output_type": "display_data"
    },
    {
     "name": "stdout",
     "output_type": "stream",
     "text": [
      "05/05 05:07:26 [INFO] eps=6, lr=7.55e-06, t_loss=0.5097, v_loss=0.4506 , v_f1=0.9704 \n"
     ]
    },
    {
     "data": {
      "application/vnd.jupyter.widget-view+json": {
       "model_id": "a4dd007d989c4e27a81b6f0653ee55a2",
       "version_major": 2,
       "version_minor": 0
      },
      "text/plain": [
       "  0%|          | 0/33 [00:00<?, ?it/s]"
      ]
     },
     "metadata": {},
     "output_type": "display_data"
    },
    {
     "name": "stdout",
     "output_type": "stream",
     "text": [
      "05/05 05:08:50 [INFO] eps=6, lr=7.02e-06, t_loss=0.5007, v_loss=0.4471*, v_f1=0.9723*\n"
     ]
    },
    {
     "data": {
      "application/vnd.jupyter.widget-view+json": {
       "model_id": "0b7c3918c8594065b4be22742f2800cc",
       "version_major": 2,
       "version_minor": 0
      },
      "text/plain": [
       "  0%|          | 0/33 [00:00<?, ?it/s]"
      ]
     },
     "metadata": {},
     "output_type": "display_data"
    },
    {
     "name": "stdout",
     "output_type": "stream",
     "text": [
      "05/05 05:10:14 [INFO] eps=6, lr=6.53e-06, t_loss=0.4956, v_loss=0.4468*, v_f1=0.9699 \n"
     ]
    },
    {
     "data": {
      "application/vnd.jupyter.widget-view+json": {
       "model_id": "f698623ebb58412ab9e26ae0531847ad",
       "version_major": 2,
       "version_minor": 0
      },
      "text/plain": [
       "  0%|          | 0/33 [00:00<?, ?it/s]"
      ]
     },
     "metadata": {},
     "output_type": "display_data"
    },
    {
     "name": "stdout",
     "output_type": "stream",
     "text": [
      "05/05 05:11:38 [INFO] eps=6, lr=6.07e-06, t_loss=0.4928, v_loss=0.4481 , v_f1=0.9695 \n"
     ]
    },
    {
     "data": {
      "application/vnd.jupyter.widget-view+json": {
       "model_id": "8d34d77e9ee244418de7e6d5abeeabb8",
       "version_major": 2,
       "version_minor": 0
      },
      "text/plain": [
       "Epoch 7:   0%|          | 0/264 [00:00<?, ?it/s]"
      ]
     },
     "metadata": {},
     "output_type": "display_data"
    },
    {
     "data": {
      "application/vnd.jupyter.widget-view+json": {
       "model_id": "0685ebcd7ee64a3aa0078950674c0e79",
       "version_major": 2,
       "version_minor": 0
      },
      "text/plain": [
       "  0%|          | 0/33 [00:00<?, ?it/s]"
      ]
     },
     "metadata": {},
     "output_type": "display_data"
    },
    {
     "name": "stdout",
     "output_type": "stream",
     "text": [
      "05/05 05:13:01 [INFO] eps=7, lr=5.65e-06, t_loss=0.4831, v_loss=0.4456*, v_f1=0.9713 \n"
     ]
    },
    {
     "data": {
      "application/vnd.jupyter.widget-view+json": {
       "model_id": "70d238f572c6439b85fbbf0c2a1d32fa",
       "version_major": 2,
       "version_minor": 0
      },
      "text/plain": [
       "  0%|          | 0/33 [00:00<?, ?it/s]"
      ]
     },
     "metadata": {},
     "output_type": "display_data"
    },
    {
     "name": "stdout",
     "output_type": "stream",
     "text": [
      "05/05 05:14:24 [INFO] eps=7, lr=5.25e-06, t_loss=0.4830, v_loss=0.4450*, v_f1=0.9725*\n"
     ]
    },
    {
     "data": {
      "application/vnd.jupyter.widget-view+json": {
       "model_id": "84133beaccd74758880178ab32c369f8",
       "version_major": 2,
       "version_minor": 0
      },
      "text/plain": [
       "  0%|          | 0/33 [00:00<?, ?it/s]"
      ]
     },
     "metadata": {},
     "output_type": "display_data"
    },
    {
     "name": "stdout",
     "output_type": "stream",
     "text": [
      "05/05 05:15:48 [INFO] eps=7, lr=4.88e-06, t_loss=0.4877, v_loss=0.4457 , v_f1=0.9717 \n"
     ]
    },
    {
     "data": {
      "application/vnd.jupyter.widget-view+json": {
       "model_id": "f122479b66e24dd6a2f1a486ff88b842",
       "version_major": 2,
       "version_minor": 0
      },
      "text/plain": [
       "  0%|          | 0/33 [00:00<?, ?it/s]"
      ]
     },
     "metadata": {},
     "output_type": "display_data"
    },
    {
     "name": "stdout",
     "output_type": "stream",
     "text": [
      "05/05 05:17:11 [INFO] eps=7, lr=4.54e-06, t_loss=0.4856, v_loss=0.4457 , v_f1=0.9698 \n"
     ]
    },
    {
     "data": {
      "application/vnd.jupyter.widget-view+json": {
       "model_id": "13894ed7b20f419f85fbe4bcd28c2cd3",
       "version_major": 2,
       "version_minor": 0
      },
      "text/plain": [
       "Epoch 8:   0%|          | 0/264 [00:00<?, ?it/s]"
      ]
     },
     "metadata": {},
     "output_type": "display_data"
    },
    {
     "data": {
      "application/vnd.jupyter.widget-view+json": {
       "model_id": "b9b3da5b7be24e2a9b927077f8bd121b",
       "version_major": 2,
       "version_minor": 0
      },
      "text/plain": [
       "  0%|          | 0/33 [00:00<?, ?it/s]"
      ]
     },
     "metadata": {},
     "output_type": "display_data"
    },
    {
     "name": "stdout",
     "output_type": "stream",
     "text": [
      "05/05 05:18:35 [INFO] eps=8, lr=4.22e-06, t_loss=0.4750, v_loss=0.4459 , v_f1=0.9699 \n"
     ]
    },
    {
     "data": {
      "application/vnd.jupyter.widget-view+json": {
       "model_id": "4e72917dc21f4e408988a9bdad14eb3d",
       "version_major": 2,
       "version_minor": 0
      },
      "text/plain": [
       "  0%|          | 0/33 [00:00<?, ?it/s]"
      ]
     },
     "metadata": {},
     "output_type": "display_data"
    },
    {
     "name": "stdout",
     "output_type": "stream",
     "text": [
      "05/05 05:19:58 [INFO] eps=8, lr=3.93e-06, t_loss=0.4715, v_loss=0.4438*, v_f1=0.9711 \n"
     ]
    },
    {
     "data": {
      "application/vnd.jupyter.widget-view+json": {
       "model_id": "584ed23be3ab47d7aefbe9c0ba91ad98",
       "version_major": 2,
       "version_minor": 0
      },
      "text/plain": [
       "  0%|          | 0/33 [00:00<?, ?it/s]"
      ]
     },
     "metadata": {},
     "output_type": "display_data"
    },
    {
     "name": "stdout",
     "output_type": "stream",
     "text": [
      "05/05 05:21:22 [INFO] eps=8, lr=3.65e-06, t_loss=0.4747, v_loss=0.4439 , v_f1=0.9707 \n"
     ]
    },
    {
     "data": {
      "application/vnd.jupyter.widget-view+json": {
       "model_id": "8fccae56708b4c45bbd9bda68ed9a18a",
       "version_major": 2,
       "version_minor": 0
      },
      "text/plain": [
       "  0%|          | 0/33 [00:00<?, ?it/s]"
      ]
     },
     "metadata": {},
     "output_type": "display_data"
    },
    {
     "name": "stdout",
     "output_type": "stream",
     "text": [
      "05/05 05:22:46 [INFO] eps=8, lr=3.4e-06, t_loss=0.4703, v_loss=0.4423*, v_f1=0.9713 \n"
     ]
    },
    {
     "data": {
      "application/vnd.jupyter.widget-view+json": {
       "model_id": "2ec7750c734a49248d555dd75586b981",
       "version_major": 2,
       "version_minor": 0
      },
      "text/plain": [
       "Epoch 9:   0%|          | 0/264 [00:00<?, ?it/s]"
      ]
     },
     "metadata": {},
     "output_type": "display_data"
    },
    {
     "data": {
      "application/vnd.jupyter.widget-view+json": {
       "model_id": "db9e9908cb8b4677a93922efffe60ee0",
       "version_major": 2,
       "version_minor": 0
      },
      "text/plain": [
       "  0%|          | 0/33 [00:00<?, ?it/s]"
      ]
     },
     "metadata": {},
     "output_type": "display_data"
    },
    {
     "name": "stdout",
     "output_type": "stream",
     "text": [
      "05/05 05:24:09 [INFO] eps=9, lr=3.16e-06, t_loss=0.4881, v_loss=0.4442 , v_f1=0.9708 \n"
     ]
    },
    {
     "data": {
      "application/vnd.jupyter.widget-view+json": {
       "model_id": "1efc2961672e4de3b942c3b5be68aa5d",
       "version_major": 2,
       "version_minor": 0
      },
      "text/plain": [
       "  0%|          | 0/33 [00:00<?, ?it/s]"
      ]
     },
     "metadata": {},
     "output_type": "display_data"
    },
    {
     "name": "stdout",
     "output_type": "stream",
     "text": [
      "05/05 05:25:33 [INFO] eps=9, lr=2.94e-06, t_loss=0.4840, v_loss=0.4424 , v_f1=0.9714 \n"
     ]
    },
    {
     "data": {
      "application/vnd.jupyter.widget-view+json": {
       "model_id": "2f3eea2ecc0b458c957254e0e2f37bdf",
       "version_major": 2,
       "version_minor": 0
      },
      "text/plain": [
       "  0%|          | 0/33 [00:00<?, ?it/s]"
      ]
     },
     "metadata": {},
     "output_type": "display_data"
    },
    {
     "name": "stdout",
     "output_type": "stream",
     "text": [
      "05/05 05:26:57 [INFO] eps=9, lr=2.73e-06, t_loss=0.4834, v_loss=0.4419*, v_f1=0.9707 \n"
     ]
    },
    {
     "data": {
      "application/vnd.jupyter.widget-view+json": {
       "model_id": "b82b350f9fd64220a77d8a5e59c87b5e",
       "version_major": 2,
       "version_minor": 0
      },
      "text/plain": [
       "  0%|          | 0/33 [00:00<?, ?it/s]"
      ]
     },
     "metadata": {},
     "output_type": "display_data"
    },
    {
     "name": "stdout",
     "output_type": "stream",
     "text": [
      "05/05 05:28:20 [INFO] eps=9, lr=2.54e-06, t_loss=0.4816, v_loss=0.4426 , v_f1=0.9714 \n"
     ]
    },
    {
     "data": {
      "application/vnd.jupyter.widget-view+json": {
       "model_id": "9b8df2e0a25c4c99bdb3c95a2ebaddea",
       "version_major": 2,
       "version_minor": 0
      },
      "text/plain": [
       "Epoch 10:   0%|          | 0/264 [00:00<?, ?it/s]"
      ]
     },
     "metadata": {},
     "output_type": "display_data"
    },
    {
     "data": {
      "application/vnd.jupyter.widget-view+json": {
       "model_id": "5c0bd45518be42b7a7b97c95d620e0ee",
       "version_major": 2,
       "version_minor": 0
      },
      "text/plain": [
       "  0%|          | 0/33 [00:00<?, ?it/s]"
      ]
     },
     "metadata": {},
     "output_type": "display_data"
    },
    {
     "name": "stdout",
     "output_type": "stream",
     "text": [
      "05/05 05:29:44 [INFO] eps=10, lr=2.36e-06, t_loss=0.4740, v_loss=0.4439 , v_f1=0.9704 \n"
     ]
    },
    {
     "data": {
      "application/vnd.jupyter.widget-view+json": {
       "model_id": "f77caf827cce47569d415ae3ed3938e7",
       "version_major": 2,
       "version_minor": 0
      },
      "text/plain": [
       "  0%|          | 0/33 [00:00<?, ?it/s]"
      ]
     },
     "metadata": {},
     "output_type": "display_data"
    },
    {
     "name": "stdout",
     "output_type": "stream",
     "text": [
      "05/05 05:31:07 [INFO] eps=10, lr=2.2e-06, t_loss=0.4730, v_loss=0.4420 , v_f1=0.9720 \n"
     ]
    },
    {
     "data": {
      "application/vnd.jupyter.widget-view+json": {
       "model_id": "ffa78d41c75747f7bb52b741fb66956f",
       "version_major": 2,
       "version_minor": 0
      },
      "text/plain": [
       "  0%|          | 0/33 [00:00<?, ?it/s]"
      ]
     },
     "metadata": {},
     "output_type": "display_data"
    },
    {
     "name": "stdout",
     "output_type": "stream",
     "text": [
      "05/05 05:32:31 [INFO] eps=10, lr=2.04e-06, t_loss=0.4775, v_loss=0.4419*, v_f1=0.9718 \n"
     ]
    },
    {
     "data": {
      "application/vnd.jupyter.widget-view+json": {
       "model_id": "b17bdf3b82144337b0dac4d6ba897821",
       "version_major": 2,
       "version_minor": 0
      },
      "text/plain": [
       "  0%|          | 0/33 [00:00<?, ?it/s]"
      ]
     },
     "metadata": {},
     "output_type": "display_data"
    },
    {
     "name": "stdout",
     "output_type": "stream",
     "text": [
      "05/05 05:33:55 [INFO] eps=10, lr=1.9e-06, t_loss=0.4769, v_loss=0.4410*, v_f1=0.9734*\n"
     ]
    },
    {
     "data": {
      "application/vnd.jupyter.widget-view+json": {
       "model_id": "4c11c8dd12ea4647a7a50e1c4c1a7905",
       "version_major": 2,
       "version_minor": 0
      },
      "text/plain": [
       "Epoch 11:   0%|          | 0/264 [00:00<?, ?it/s]"
      ]
     },
     "metadata": {},
     "output_type": "display_data"
    },
    {
     "data": {
      "application/vnd.jupyter.widget-view+json": {
       "model_id": "40995700bb904634a8543567d5da114c",
       "version_major": 2,
       "version_minor": 0
      },
      "text/plain": [
       "  0%|          | 0/33 [00:00<?, ?it/s]"
      ]
     },
     "metadata": {},
     "output_type": "display_data"
    },
    {
     "name": "stdout",
     "output_type": "stream",
     "text": [
      "05/05 05:35:18 [INFO] eps=11, lr=1.77e-06, t_loss=0.4603, v_loss=0.4416 , v_f1=0.9714 \n"
     ]
    },
    {
     "data": {
      "application/vnd.jupyter.widget-view+json": {
       "model_id": "b26dc92438dc41b9a5bfd3e876d981ad",
       "version_major": 2,
       "version_minor": 0
      },
      "text/plain": [
       "  0%|          | 0/33 [00:00<?, ?it/s]"
      ]
     },
     "metadata": {},
     "output_type": "display_data"
    },
    {
     "name": "stdout",
     "output_type": "stream",
     "text": [
      "05/05 05:36:42 [INFO] eps=11, lr=1.64e-06, t_loss=0.4731, v_loss=0.4409*, v_f1=0.9717 \n"
     ]
    },
    {
     "data": {
      "application/vnd.jupyter.widget-view+json": {
       "model_id": "f9c2f950daf64ceea4180d7556e8d511",
       "version_major": 2,
       "version_minor": 0
      },
      "text/plain": [
       "  0%|          | 0/33 [00:00<?, ?it/s]"
      ]
     },
     "metadata": {},
     "output_type": "display_data"
    },
    {
     "name": "stdout",
     "output_type": "stream",
     "text": [
      "05/05 05:38:06 [INFO] eps=11, lr=1.53e-06, t_loss=0.4816, v_loss=0.4406*, v_f1=0.9724 \n"
     ]
    },
    {
     "data": {
      "application/vnd.jupyter.widget-view+json": {
       "model_id": "91af9e83c1fd4b38bd1ed8f6797c1c3c",
       "version_major": 2,
       "version_minor": 0
      },
      "text/plain": [
       "  0%|          | 0/33 [00:00<?, ?it/s]"
      ]
     },
     "metadata": {},
     "output_type": "display_data"
    },
    {
     "name": "stdout",
     "output_type": "stream",
     "text": [
      "05/05 05:39:30 [INFO] eps=11, lr=1.42e-06, t_loss=0.4760, v_loss=0.4397*, v_f1=0.9730 \n"
     ]
    },
    {
     "data": {
      "application/vnd.jupyter.widget-view+json": {
       "model_id": "fedb04e9537d424cb8e59ec50bfa3eb7",
       "version_major": 2,
       "version_minor": 0
      },
      "text/plain": [
       "Epoch 12:   0%|          | 0/264 [00:00<?, ?it/s]"
      ]
     },
     "metadata": {},
     "output_type": "display_data"
    },
    {
     "data": {
      "application/vnd.jupyter.widget-view+json": {
       "model_id": "abab4e0045ed41ae8a384c586a8202bb",
       "version_major": 2,
       "version_minor": 0
      },
      "text/plain": [
       "  0%|          | 0/33 [00:00<?, ?it/s]"
      ]
     },
     "metadata": {},
     "output_type": "display_data"
    },
    {
     "name": "stdout",
     "output_type": "stream",
     "text": [
      "05/05 05:40:53 [INFO] eps=12, lr=1.32e-06, t_loss=0.4615, v_loss=0.4391*, v_f1=0.9732 \n"
     ]
    },
    {
     "data": {
      "application/vnd.jupyter.widget-view+json": {
       "model_id": "2a345f2dd32c4ba5938cd6a04f7fc57f",
       "version_major": 2,
       "version_minor": 0
      },
      "text/plain": [
       "  0%|          | 0/33 [00:00<?, ?it/s]"
      ]
     },
     "metadata": {},
     "output_type": "display_data"
    },
    {
     "name": "stdout",
     "output_type": "stream",
     "text": [
      "05/05 05:42:17 [INFO] eps=12, lr=1.23e-06, t_loss=0.4679, v_loss=0.4390*, v_f1=0.9733 \n"
     ]
    },
    {
     "data": {
      "application/vnd.jupyter.widget-view+json": {
       "model_id": "43c68f46d053415285fd3ce177f183ed",
       "version_major": 2,
       "version_minor": 0
      },
      "text/plain": [
       "  0%|          | 0/33 [00:00<?, ?it/s]"
      ]
     },
     "metadata": {},
     "output_type": "display_data"
    },
    {
     "name": "stdout",
     "output_type": "stream",
     "text": [
      "05/05 05:43:41 [INFO] eps=12, lr=1.14e-06, t_loss=0.4692, v_loss=0.4395 , v_f1=0.9720 \n"
     ]
    },
    {
     "data": {
      "application/vnd.jupyter.widget-view+json": {
       "model_id": "f20dcf80c8214455b09fb01e196a3440",
       "version_major": 2,
       "version_minor": 0
      },
      "text/plain": [
       "  0%|          | 0/33 [00:00<?, ?it/s]"
      ]
     },
     "metadata": {},
     "output_type": "display_data"
    },
    {
     "name": "stdout",
     "output_type": "stream",
     "text": [
      "05/05 05:45:05 [INFO] eps=12, lr=1.06e-06, t_loss=0.4723, v_loss=0.4394 , v_f1=0.9726 \n"
     ]
    },
    {
     "data": {
      "application/vnd.jupyter.widget-view+json": {
       "model_id": "ac45b59eaf6945c285c010ca0ae9173d",
       "version_major": 2,
       "version_minor": 0
      },
      "text/plain": [
       "Epoch 13:   0%|          | 0/264 [00:00<?, ?it/s]"
      ]
     },
     "metadata": {},
     "output_type": "display_data"
    },
    {
     "data": {
      "application/vnd.jupyter.widget-view+json": {
       "model_id": "1a6b1ea017cf4c4bb43ea00d6228447c",
       "version_major": 2,
       "version_minor": 0
      },
      "text/plain": [
       "  0%|          | 0/33 [00:00<?, ?it/s]"
      ]
     },
     "metadata": {},
     "output_type": "display_data"
    },
    {
     "name": "stdout",
     "output_type": "stream",
     "text": [
      "05/05 05:46:28 [INFO] eps=13, lr=9.89e-07, t_loss=0.4752, v_loss=0.4391 , v_f1=0.9715 \n"
     ]
    },
    {
     "data": {
      "application/vnd.jupyter.widget-view+json": {
       "model_id": "1efa74e3aa2f431982d6e0dde0dd7b74",
       "version_major": 2,
       "version_minor": 0
      },
      "text/plain": [
       "  0%|          | 0/33 [00:00<?, ?it/s]"
      ]
     },
     "metadata": {},
     "output_type": "display_data"
    },
    {
     "name": "stdout",
     "output_type": "stream",
     "text": [
      "05/05 05:47:52 [INFO] eps=13, lr=9.2e-07, t_loss=0.4760, v_loss=0.4391 , v_f1=0.9726 \n"
     ]
    },
    {
     "data": {
      "application/vnd.jupyter.widget-view+json": {
       "model_id": "4f28888ec6e841a0952774f728adfa84",
       "version_major": 2,
       "version_minor": 0
      },
      "text/plain": [
       "  0%|          | 0/33 [00:00<?, ?it/s]"
      ]
     },
     "metadata": {},
     "output_type": "display_data"
    },
    {
     "name": "stdout",
     "output_type": "stream",
     "text": [
      "05/05 05:49:16 [INFO] eps=13, lr=8.56e-07, t_loss=0.4707, v_loss=0.4389*, v_f1=0.9726 \n"
     ]
    },
    {
     "data": {
      "application/vnd.jupyter.widget-view+json": {
       "model_id": "e989a92156cb4f2aab63d847e52752f5",
       "version_major": 2,
       "version_minor": 0
      },
      "text/plain": [
       "  0%|          | 0/33 [00:00<?, ?it/s]"
      ]
     },
     "metadata": {},
     "output_type": "display_data"
    },
    {
     "name": "stdout",
     "output_type": "stream",
     "text": [
      "05/05 05:50:41 [INFO] eps=13, lr=7.96e-07, t_loss=0.4679, v_loss=0.4393 , v_f1=0.9723 \n"
     ]
    },
    {
     "data": {
      "application/vnd.jupyter.widget-view+json": {
       "model_id": "75190ada419b4b439dea3db116c0b629",
       "version_major": 2,
       "version_minor": 0
      },
      "text/plain": [
       "Epoch 14:   0%|          | 0/264 [00:00<?, ?it/s]"
      ]
     },
     "metadata": {},
     "output_type": "display_data"
    },
    {
     "data": {
      "application/vnd.jupyter.widget-view+json": {
       "model_id": "c1edb188cda2432f82ea3e6accd23bfd",
       "version_major": 2,
       "version_minor": 0
      },
      "text/plain": [
       "  0%|          | 0/33 [00:00<?, ?it/s]"
      ]
     },
     "metadata": {},
     "output_type": "display_data"
    },
    {
     "name": "stdout",
     "output_type": "stream",
     "text": [
      "05/05 05:52:05 [INFO] eps=14, lr=7.4e-07, t_loss=0.4632, v_loss=0.4390 , v_f1=0.9720 \n"
     ]
    },
    {
     "data": {
      "application/vnd.jupyter.widget-view+json": {
       "model_id": "e8e963a7b2754348b84fd9108195217c",
       "version_major": 2,
       "version_minor": 0
      },
      "text/plain": [
       "  0%|          | 0/33 [00:00<?, ?it/s]"
      ]
     },
     "metadata": {},
     "output_type": "display_data"
    },
    {
     "name": "stdout",
     "output_type": "stream",
     "text": [
      "05/05 05:53:30 [INFO] eps=14, lr=6.88e-07, t_loss=0.4659, v_loss=0.4388*, v_f1=0.9723 \n"
     ]
    },
    {
     "data": {
      "application/vnd.jupyter.widget-view+json": {
       "model_id": "6f5fa35df67e43188a1eba00d50453cc",
       "version_major": 2,
       "version_minor": 0
      },
      "text/plain": [
       "  0%|          | 0/33 [00:00<?, ?it/s]"
      ]
     },
     "metadata": {},
     "output_type": "display_data"
    },
    {
     "name": "stdout",
     "output_type": "stream",
     "text": [
      "05/05 05:54:54 [INFO] eps=14, lr=6.4e-07, t_loss=0.4633, v_loss=0.4388 , v_f1=0.9720 \n"
     ]
    },
    {
     "data": {
      "application/vnd.jupyter.widget-view+json": {
       "model_id": "1d38832169b04054b3be3746f0accbff",
       "version_major": 2,
       "version_minor": 0
      },
      "text/plain": [
       "  0%|          | 0/33 [00:00<?, ?it/s]"
      ]
     },
     "metadata": {},
     "output_type": "display_data"
    },
    {
     "name": "stdout",
     "output_type": "stream",
     "text": [
      "05/05 05:56:18 [INFO] eps=14, lr=5.95e-07, t_loss=0.4651, v_loss=0.4389 , v_f1=0.9723 \n"
     ]
    },
    {
     "data": {
      "application/vnd.jupyter.widget-view+json": {
       "model_id": "1fc8d1ce8bf7426caab34c84d25e20d5",
       "version_major": 2,
       "version_minor": 0
      },
      "text/plain": [
       "Epoch 15:   0%|          | 0/264 [00:00<?, ?it/s]"
      ]
     },
     "metadata": {},
     "output_type": "display_data"
    },
    {
     "data": {
      "application/vnd.jupyter.widget-view+json": {
       "model_id": "2a118e6a062b486c869fb3da4e2d4129",
       "version_major": 2,
       "version_minor": 0
      },
      "text/plain": [
       "  0%|          | 0/33 [00:00<?, ?it/s]"
      ]
     },
     "metadata": {},
     "output_type": "display_data"
    },
    {
     "name": "stdout",
     "output_type": "stream",
     "text": [
      "05/05 05:57:42 [INFO] eps=15, lr=5.54e-07, t_loss=0.4661, v_loss=0.4388 , v_f1=0.9713 \n"
     ]
    },
    {
     "data": {
      "application/vnd.jupyter.widget-view+json": {
       "model_id": "139f112c41874c1a946139035e5bff55",
       "version_major": 2,
       "version_minor": 0
      },
      "text/plain": [
       "  0%|          | 0/33 [00:00<?, ?it/s]"
      ]
     },
     "metadata": {},
     "output_type": "display_data"
    },
    {
     "name": "stdout",
     "output_type": "stream",
     "text": [
      "05/05 05:59:06 [INFO] eps=15, lr=5.15e-07, t_loss=0.4676, v_loss=0.4390 , v_f1=0.9713 \n"
     ]
    },
    {
     "data": {
      "application/vnd.jupyter.widget-view+json": {
       "model_id": "b480a385391d481eb27512c7dbcfae23",
       "version_major": 2,
       "version_minor": 0
      },
      "text/plain": [
       "  0%|          | 0/33 [00:00<?, ?it/s]"
      ]
     },
     "metadata": {},
     "output_type": "display_data"
    },
    {
     "name": "stdout",
     "output_type": "stream",
     "text": [
      "05/05 06:00:30 [INFO] eps=15, lr=4.79e-07, t_loss=0.4651, v_loss=0.4392 , v_f1=0.9716 \n"
     ]
    },
    {
     "data": {
      "application/vnd.jupyter.widget-view+json": {
       "model_id": "34437b2763d14ec6b63ee9e00c7b64b3",
       "version_major": 2,
       "version_minor": 0
      },
      "text/plain": [
       "  0%|          | 0/33 [00:00<?, ?it/s]"
      ]
     },
     "metadata": {},
     "output_type": "display_data"
    },
    {
     "name": "stdout",
     "output_type": "stream",
     "text": [
      "05/05 06:01:53 [INFO] eps=15, lr=4.45e-07, t_loss=0.4629, v_loss=0.4389 , v_f1=0.9716 \n",
      "05/05 06:01:53 [INFO] NO_MORE_TRAINING, best_score=0.9734\n"
     ]
    },
    {
     "data": {
      "application/vnd.jupyter.widget-view+json": {
       "model_id": "9fbd3a7c74a6480ea51046eb2d8c4c0e",
       "version_major": 2,
       "version_minor": 0
      },
      "text/plain": [
       "  0%|          | 0/33 [00:00<?, ?it/s]"
      ]
     },
     "metadata": {},
     "output_type": "display_data"
    },
    {
     "name": "stdout",
     "output_type": "stream",
     "text": [
      "05/05 06:02:12 [INFO] EMA ::: ema_v_loss=0.4391, ema_v_f1=0.9710\n",
      "05/05 06:02:14 [INFO] ./ckpt/deit3_large_patch16_224.fb_in22k_ft_in1k-fold_idx=2-epoch=15-val_loss=0.4391-val_score=0.9710-ema.ckpt : (ema) saved.\n",
      "05/05 06:02:15 [INFO] ./ckpt/deit3_large_patch16_224.fb_in22k_ft_in1k-fold_idx=2-epoch=10-val_loss=0.4410-val_score=0.9734.ckpt : saved.\n",
      "05/05 06:02:15 [INFO] fold_idx=2 finished\n"
     ]
    },
    {
     "data": {
      "application/vnd.jupyter.widget-view+json": {
       "model_id": "",
       "version_major": 2,
       "version_minor": 0
      },
      "text/plain": [
       "VBox(children=(Label(value='0.003 MB of 0.003 MB uploaded\\r'), FloatProgress(value=1.0, max=1.0)))"
      ]
     },
     "metadata": {},
     "output_type": "display_data"
    },
    {
     "data": {
      "text/html": [
       "<style>\n",
       "    table.wandb td:nth-child(1) { padding: 0 10px; text-align: left ; width: auto;} td:nth-child(2) {text-align: left ; width: 100%}\n",
       "    .wandb-row { display: flex; flex-direction: row; flex-wrap: wrap; justify-content: flex-start; width: 100% }\n",
       "    .wandb-col { display: flex; flex-direction: column; flex-basis: 100%; flex: 1; padding: 10px; }\n",
       "    </style>\n",
       "<div class=\"wandb-row\"><div class=\"wandb-col\"><h3>Run history:</h3><br/><table class=\"wandb\"><tr><td>ema_v_f1</td><td>▁</td></tr><tr><td>ema_v_loss</td><td>▁</td></tr><tr><td>epoch</td><td>▁▁▁▁▁▁▂▂▃▃▃▃▃▃▃▃▄▄▄▅▅▅▅▅▅▅▅▆▆▇▇▇▇▇▇▇▇███</td></tr><tr><td>lr</td><td>▄▃█▁▅▆▂▂▄▁▃▄▁▃▂▃▂▂▁▂▂▂▁▂▁▁▁▁▁▁▁▁▁▁▁▁▁▁▁▁</td></tr><tr><td>step</td><td>▂▄▆▂▅█▄▆▁▄▇▂▆▁▃▆▂▄█▃▅█▄▆▂▅█▂▆▁▄▇▂▄█▃▆▂▄█</td></tr></table><br/></div><div class=\"wandb-col\"><h3>Run summary:</h3><br/><table class=\"wandb\"><tr><td>ema_v_f1</td><td>0.97105</td></tr><tr><td>ema_v_loss</td><td>0.43909</td></tr><tr><td>epoch</td><td>15</td></tr><tr><td>lr</td><td>0.0</td></tr><tr><td>step</td><td>264</td></tr></table><br/></div></div>"
      ],
      "text/plain": [
       "<IPython.core.display.HTML object>"
      ]
     },
     "metadata": {},
     "output_type": "display_data"
    },
    {
     "data": {
      "text/html": [
       " View run <strong style=\"color:#cdcd00\">fold3_deit3_large_patch16_224.fb_in22k_ft_in1k_05050234</strong> at: <a href='https://wandb.ai/ujinyang/basslibrary240210/runs/4gkbm4tc' target=\"_blank\">https://wandb.ai/ujinyang/basslibrary240210/runs/4gkbm4tc</a><br/> View project at: <a href='https://wandb.ai/ujinyang/basslibrary240210' target=\"_blank\">https://wandb.ai/ujinyang/basslibrary240210</a><br/>Synced 6 W&B file(s), 0 media file(s), 0 artifact file(s) and 0 other file(s)"
      ],
      "text/plain": [
       "<IPython.core.display.HTML object>"
      ]
     },
     "metadata": {},
     "output_type": "display_data"
    },
    {
     "data": {
      "text/html": [
       "Find logs at: <code>./wandb/run-20240505_043806-4gkbm4tc/logs</code>"
      ],
      "text/plain": [
       "<IPython.core.display.HTML object>"
      ]
     },
     "metadata": {},
     "output_type": "display_data"
    },
    {
     "name": "stdout",
     "output_type": "stream",
     "text": [
      "05/05 06:02:23 [INFO] fold_idx=3 started\n"
     ]
    },
    {
     "data": {
      "text/html": [
       "Tracking run with wandb version 0.16.6"
      ],
      "text/plain": [
       "<IPython.core.display.HTML object>"
      ]
     },
     "metadata": {},
     "output_type": "display_data"
    },
    {
     "data": {
      "text/html": [
       "Run data is saved locally in <code>/workspace/wandb/run-20240505_060223-djldlkvz</code>"
      ],
      "text/plain": [
       "<IPython.core.display.HTML object>"
      ]
     },
     "metadata": {},
     "output_type": "display_data"
    },
    {
     "data": {
      "text/html": [
       "Syncing run <strong><a href='https://wandb.ai/ujinyang/basslibrary240210/runs/djldlkvz' target=\"_blank\">fold4_deit3_large_patch16_224.fb_in22k_ft_in1k_05050234</a></strong> to <a href='https://wandb.ai/ujinyang/basslibrary240210' target=\"_blank\">Weights & Biases</a> (<a href='https://wandb.me/run' target=\"_blank\">docs</a>)<br/>"
      ],
      "text/plain": [
       "<IPython.core.display.HTML object>"
      ]
     },
     "metadata": {},
     "output_type": "display_data"
    },
    {
     "data": {
      "text/html": [
       " View project at <a href='https://wandb.ai/ujinyang/basslibrary240210' target=\"_blank\">https://wandb.ai/ujinyang/basslibrary240210</a>"
      ],
      "text/plain": [
       "<IPython.core.display.HTML object>"
      ]
     },
     "metadata": {},
     "output_type": "display_data"
    },
    {
     "data": {
      "text/html": [
       " View run at <a href='https://wandb.ai/ujinyang/basslibrary240210/runs/djldlkvz' target=\"_blank\">https://wandb.ai/ujinyang/basslibrary240210/runs/djldlkvz</a>"
      ],
      "text/plain": [
       "<IPython.core.display.HTML object>"
      ]
     },
     "metadata": {},
     "output_type": "display_data"
    },
    {
     "name": "stdout",
     "output_type": "stream",
     "text": [
      "05/05 06:02:30 [INFO] load_img_size=224\n",
      "05/05 06:02:30 [INFO] load_img_size=224\n",
      "05/05 06:02:30 [INFO] create_model: timm/deit3_large_patch16_224.fb_in22k_ft_in1k\n",
      "05/05 06:02:30 [INFO] Loading pretrained weights from Hugging Face hub (timm/deit3_large_patch16_224.fb_in22k_ft_in1k)\n",
      "05/05 06:02:30 [INFO] [timm/deit3_large_patch16_224.fb_in22k_ft_in1k] Safe alternative available for 'pytorch_model.bin' (as 'model.safetensors'). Loading weights using safetensors.\n",
      "05/05 06:02:31 [INFO] use_amp=True\n"
     ]
    },
    {
     "name": "stderr",
     "output_type": "stream",
     "text": [
      "/opt/conda/lib/python3.10/site-packages/torch/nn/modules/lazy.py:181: UserWarning: Lazy modules are a new feature under heavy development so changes to the API or functionality can happen at any moment.\n",
      "  warnings.warn('Lazy modules are a new feature under heavy development '\n"
     ]
    },
    {
     "data": {
      "application/vnd.jupyter.widget-view+json": {
       "model_id": "57cc5728d40b414284f0e2eebf4270d6",
       "version_major": 2,
       "version_minor": 0
      },
      "text/plain": [
       "Epoch 1:   0%|          | 0/264 [00:00<?, ?it/s]"
      ]
     },
     "metadata": {},
     "output_type": "display_data"
    },
    {
     "data": {
      "application/vnd.jupyter.widget-view+json": {
       "model_id": "57e732fb87b4405ea60b49c123ec42a4",
       "version_major": 2,
       "version_minor": 0
      },
      "text/plain": [
       "  0%|          | 0/33 [00:00<?, ?it/s]"
      ]
     },
     "metadata": {},
     "output_type": "display_data"
    },
    {
     "name": "stdout",
     "output_type": "stream",
     "text": [
      "05/05 06:03:54 [INFO] eps=1, lr=3.22e-05, t_loss=1.9302, v_loss=0.8636*, v_f1=0.9012*\n"
     ]
    },
    {
     "data": {
      "application/vnd.jupyter.widget-view+json": {
       "model_id": "f117a3d8df1e40dc811823500b5215fd",
       "version_major": 2,
       "version_minor": 0
      },
      "text/plain": [
       "  0%|          | 0/33 [00:00<?, ?it/s]"
      ]
     },
     "metadata": {},
     "output_type": "display_data"
    },
    {
     "name": "stdout",
     "output_type": "stream",
     "text": [
      "05/05 06:05:19 [INFO] eps=1, lr=3e-05, t_loss=1.4153, v_loss=0.5441*, v_f1=0.9547*\n"
     ]
    },
    {
     "data": {
      "application/vnd.jupyter.widget-view+json": {
       "model_id": "fd01372e658d4927b0ce5e10223c9923",
       "version_major": 2,
       "version_minor": 0
      },
      "text/plain": [
       "  0%|          | 0/33 [00:00<?, ?it/s]"
      ]
     },
     "metadata": {},
     "output_type": "display_data"
    },
    {
     "name": "stdout",
     "output_type": "stream",
     "text": [
      "05/05 06:06:43 [INFO] eps=1, lr=2.79e-05, t_loss=1.1867, v_loss=0.5131*, v_f1=0.9609*\n"
     ]
    },
    {
     "data": {
      "application/vnd.jupyter.widget-view+json": {
       "model_id": "4ce06a1311c94bdcb1dbe10fe44c5ccc",
       "version_major": 2,
       "version_minor": 0
      },
      "text/plain": [
       "  0%|          | 0/33 [00:00<?, ?it/s]"
      ]
     },
     "metadata": {},
     "output_type": "display_data"
    },
    {
     "name": "stdout",
     "output_type": "stream",
     "text": [
      "05/05 06:08:07 [INFO] eps=1, lr=2.59e-05, t_loss=1.0641, v_loss=0.4927*, v_f1=0.9649*\n"
     ]
    },
    {
     "data": {
      "application/vnd.jupyter.widget-view+json": {
       "model_id": "1b13da067d0244d4ac9448a5c86156be",
       "version_major": 2,
       "version_minor": 0
      },
      "text/plain": [
       "Epoch 2:   0%|          | 0/264 [00:00<?, ?it/s]"
      ]
     },
     "metadata": {},
     "output_type": "display_data"
    },
    {
     "data": {
      "application/vnd.jupyter.widget-view+json": {
       "model_id": "1adb1acc3e4f447aac9622d8827a6cce",
       "version_major": 2,
       "version_minor": 0
      },
      "text/plain": [
       "  0%|          | 0/33 [00:00<?, ?it/s]"
      ]
     },
     "metadata": {},
     "output_type": "display_data"
    },
    {
     "name": "stdout",
     "output_type": "stream",
     "text": [
      "05/05 06:09:31 [INFO] eps=2, lr=2.41e-05, t_loss=0.6337, v_loss=0.4793*, v_f1=0.9692*\n"
     ]
    },
    {
     "data": {
      "application/vnd.jupyter.widget-view+json": {
       "model_id": "8a16982b9eb0407c816cc347906281ed",
       "version_major": 2,
       "version_minor": 0
      },
      "text/plain": [
       "  0%|          | 0/33 [00:00<?, ?it/s]"
      ]
     },
     "metadata": {},
     "output_type": "display_data"
    },
    {
     "name": "stdout",
     "output_type": "stream",
     "text": [
      "05/05 06:10:55 [INFO] eps=2, lr=2.24e-05, t_loss=0.6358, v_loss=0.4750*, v_f1=0.9673 \n"
     ]
    },
    {
     "data": {
      "application/vnd.jupyter.widget-view+json": {
       "model_id": "01043ce3d1844f54a19673552be42b9d",
       "version_major": 2,
       "version_minor": 0
      },
      "text/plain": [
       "  0%|          | 0/33 [00:00<?, ?it/s]"
      ]
     },
     "metadata": {},
     "output_type": "display_data"
    },
    {
     "name": "stdout",
     "output_type": "stream",
     "text": [
      "05/05 06:12:20 [INFO] eps=2, lr=2.08e-05, t_loss=0.6306, v_loss=0.4667*, v_f1=0.9727*\n"
     ]
    },
    {
     "data": {
      "application/vnd.jupyter.widget-view+json": {
       "model_id": "93bd21a01d5c42068ce066ad9e82af74",
       "version_major": 2,
       "version_minor": 0
      },
      "text/plain": [
       "  0%|          | 0/33 [00:00<?, ?it/s]"
      ]
     },
     "metadata": {},
     "output_type": "display_data"
    },
    {
     "name": "stdout",
     "output_type": "stream",
     "text": [
      "05/05 06:13:43 [INFO] eps=2, lr=1.94e-05, t_loss=0.6198, v_loss=0.4625*, v_f1=0.9725 \n"
     ]
    },
    {
     "data": {
      "application/vnd.jupyter.widget-view+json": {
       "model_id": "f385ab854cd543cda830fba71c4f27d9",
       "version_major": 2,
       "version_minor": 0
      },
      "text/plain": [
       "Epoch 3:   0%|          | 0/264 [00:00<?, ?it/s]"
      ]
     },
     "metadata": {},
     "output_type": "display_data"
    },
    {
     "data": {
      "application/vnd.jupyter.widget-view+json": {
       "model_id": "7df3584b53084ac9a0956d0a5dd7f4c4",
       "version_major": 2,
       "version_minor": 0
      },
      "text/plain": [
       "  0%|          | 0/33 [00:00<?, ?it/s]"
      ]
     },
     "metadata": {},
     "output_type": "display_data"
    },
    {
     "name": "stdout",
     "output_type": "stream",
     "text": [
      "05/05 06:15:07 [INFO] eps=3, lr=1.8e-05, t_loss=0.5605, v_loss=0.4566*, v_f1=0.9729*\n"
     ]
    },
    {
     "data": {
      "application/vnd.jupyter.widget-view+json": {
       "model_id": "95f66de746c243d6b442d798c9d70ed0",
       "version_major": 2,
       "version_minor": 0
      },
      "text/plain": [
       "  0%|          | 0/33 [00:00<?, ?it/s]"
      ]
     },
     "metadata": {},
     "output_type": "display_data"
    },
    {
     "name": "stdout",
     "output_type": "stream",
     "text": [
      "05/05 06:16:31 [INFO] eps=3, lr=1.68e-05, t_loss=0.5602, v_loss=0.4550*, v_f1=0.9732*\n"
     ]
    },
    {
     "data": {
      "application/vnd.jupyter.widget-view+json": {
       "model_id": "e1aa7d96222e43108e09df7bb8731361",
       "version_major": 2,
       "version_minor": 0
      },
      "text/plain": [
       "  0%|          | 0/33 [00:00<?, ?it/s]"
      ]
     },
     "metadata": {},
     "output_type": "display_data"
    },
    {
     "name": "stdout",
     "output_type": "stream",
     "text": [
      "05/05 06:17:55 [INFO] eps=3, lr=1.56e-05, t_loss=0.5612, v_loss=0.4534*, v_f1=0.9732 \n"
     ]
    },
    {
     "data": {
      "application/vnd.jupyter.widget-view+json": {
       "model_id": "eacf8777e1c946b4833100ec2e0096a5",
       "version_major": 2,
       "version_minor": 0
      },
      "text/plain": [
       "  0%|          | 0/33 [00:00<?, ?it/s]"
      ]
     },
     "metadata": {},
     "output_type": "display_data"
    },
    {
     "name": "stdout",
     "output_type": "stream",
     "text": [
      "05/05 06:19:18 [INFO] eps=3, lr=1.45e-05, t_loss=0.5586, v_loss=0.4473*, v_f1=0.9742*\n"
     ]
    },
    {
     "data": {
      "application/vnd.jupyter.widget-view+json": {
       "model_id": "7ffce66120db4d54b1681a9f6a2dca8d",
       "version_major": 2,
       "version_minor": 0
      },
      "text/plain": [
       "Epoch 4:   0%|          | 0/264 [00:00<?, ?it/s]"
      ]
     },
     "metadata": {},
     "output_type": "display_data"
    },
    {
     "data": {
      "application/vnd.jupyter.widget-view+json": {
       "model_id": "18ec51ce512547218a0934e28bf6cb33",
       "version_major": 2,
       "version_minor": 0
      },
      "text/plain": [
       "  0%|          | 0/33 [00:00<?, ?it/s]"
      ]
     },
     "metadata": {},
     "output_type": "display_data"
    },
    {
     "name": "stdout",
     "output_type": "stream",
     "text": [
      "05/05 06:20:42 [INFO] eps=4, lr=1.35e-05, t_loss=0.5500, v_loss=0.4465*, v_f1=0.9742 \n"
     ]
    },
    {
     "data": {
      "application/vnd.jupyter.widget-view+json": {
       "model_id": "e3dcc0de25dd4ef882d7098ea4856583",
       "version_major": 2,
       "version_minor": 0
      },
      "text/plain": [
       "  0%|          | 0/33 [00:00<?, ?it/s]"
      ]
     },
     "metadata": {},
     "output_type": "display_data"
    },
    {
     "name": "stdout",
     "output_type": "stream",
     "text": [
      "05/05 06:22:06 [INFO] eps=4, lr=1.25e-05, t_loss=0.5404, v_loss=0.4424*, v_f1=0.9735 \n"
     ]
    },
    {
     "data": {
      "application/vnd.jupyter.widget-view+json": {
       "model_id": "55084cd3fd9a40cf92572cd05dc5c5af",
       "version_major": 2,
       "version_minor": 0
      },
      "text/plain": [
       "  0%|          | 0/33 [00:00<?, ?it/s]"
      ]
     },
     "metadata": {},
     "output_type": "display_data"
    },
    {
     "name": "stdout",
     "output_type": "stream",
     "text": [
      "05/05 06:23:30 [INFO] eps=4, lr=1.17e-05, t_loss=0.5366, v_loss=0.4423*, v_f1=0.9736 \n"
     ]
    },
    {
     "data": {
      "application/vnd.jupyter.widget-view+json": {
       "model_id": "61453030f0004152ad562cb1d0a82d14",
       "version_major": 2,
       "version_minor": 0
      },
      "text/plain": [
       "  0%|          | 0/33 [00:00<?, ?it/s]"
      ]
     },
     "metadata": {},
     "output_type": "display_data"
    },
    {
     "name": "stdout",
     "output_type": "stream",
     "text": [
      "05/05 06:24:54 [INFO] eps=4, lr=1.08e-05, t_loss=0.5297, v_loss=0.4415*, v_f1=0.9764*\n",
      "05/05 06:24:55 [INFO] ./ckpt/deit3_large_patch16_224.fb_in22k_ft_in1k-fold_idx=3-epoch=04-val_loss=0.4415-val_score=0.9764.ckpt : saved.\n"
     ]
    },
    {
     "data": {
      "application/vnd.jupyter.widget-view+json": {
       "model_id": "04dc02a86fad4740bccd46d17ac92d3f",
       "version_major": 2,
       "version_minor": 0
      },
      "text/plain": [
       "Epoch 5:   0%|          | 0/264 [00:00<?, ?it/s]"
      ]
     },
     "metadata": {},
     "output_type": "display_data"
    },
    {
     "data": {
      "application/vnd.jupyter.widget-view+json": {
       "model_id": "5fde405311594601a4bcd1652c268fca",
       "version_major": 2,
       "version_minor": 0
      },
      "text/plain": [
       "  0%|          | 0/33 [00:00<?, ?it/s]"
      ]
     },
     "metadata": {},
     "output_type": "display_data"
    },
    {
     "name": "stdout",
     "output_type": "stream",
     "text": [
      "05/05 06:26:19 [INFO] eps=5, lr=1.01e-05, t_loss=0.5008, v_loss=0.4430 , v_f1=0.9749 \n"
     ]
    },
    {
     "data": {
      "application/vnd.jupyter.widget-view+json": {
       "model_id": "0358939f10f44844a0b9494b7882e3d3",
       "version_major": 2,
       "version_minor": 0
      },
      "text/plain": [
       "  0%|          | 0/33 [00:00<?, ?it/s]"
      ]
     },
     "metadata": {},
     "output_type": "display_data"
    },
    {
     "name": "stdout",
     "output_type": "stream",
     "text": [
      "05/05 06:27:43 [INFO] eps=5, lr=9.38e-06, t_loss=0.5036, v_loss=0.4395*, v_f1=0.9760 \n"
     ]
    },
    {
     "data": {
      "application/vnd.jupyter.widget-view+json": {
       "model_id": "7212814dc2964c068f7b313722b099c4",
       "version_major": 2,
       "version_minor": 0
      },
      "text/plain": [
       "  0%|          | 0/33 [00:00<?, ?it/s]"
      ]
     },
     "metadata": {},
     "output_type": "display_data"
    },
    {
     "name": "stdout",
     "output_type": "stream",
     "text": [
      "05/05 06:29:07 [INFO] eps=5, lr=8.73e-06, t_loss=0.5122, v_loss=0.4387*, v_f1=0.9753 \n"
     ]
    },
    {
     "data": {
      "application/vnd.jupyter.widget-view+json": {
       "model_id": "5ac9846dc55b4004b42ff7002e1f9545",
       "version_major": 2,
       "version_minor": 0
      },
      "text/plain": [
       "  0%|          | 0/33 [00:00<?, ?it/s]"
      ]
     },
     "metadata": {},
     "output_type": "display_data"
    },
    {
     "name": "stdout",
     "output_type": "stream",
     "text": [
      "05/05 06:30:31 [INFO] eps=5, lr=8.11e-06, t_loss=0.5109, v_loss=0.4351*, v_f1=0.9776*\n",
      "05/05 06:30:32 [INFO] ./ckpt/deit3_large_patch16_224.fb_in22k_ft_in1k-fold_idx=3-epoch=05-val_loss=0.4351-val_score=0.9776.ckpt : saved.\n"
     ]
    },
    {
     "data": {
      "application/vnd.jupyter.widget-view+json": {
       "model_id": "ff11037c4b614e1f9b925b757944f6a7",
       "version_major": 2,
       "version_minor": 0
      },
      "text/plain": [
       "Epoch 6:   0%|          | 0/264 [00:00<?, ?it/s]"
      ]
     },
     "metadata": {},
     "output_type": "display_data"
    },
    {
     "data": {
      "application/vnd.jupyter.widget-view+json": {
       "model_id": "e95a4a36521e41da8c694f8d707a13ea",
       "version_major": 2,
       "version_minor": 0
      },
      "text/plain": [
       "  0%|          | 0/33 [00:00<?, ?it/s]"
      ]
     },
     "metadata": {},
     "output_type": "display_data"
    },
    {
     "name": "stdout",
     "output_type": "stream",
     "text": [
      "05/05 06:31:56 [INFO] eps=6, lr=7.55e-06, t_loss=0.4974, v_loss=0.4336*, v_f1=0.9752 \n"
     ]
    },
    {
     "data": {
      "application/vnd.jupyter.widget-view+json": {
       "model_id": "5e0187fddefa44298f28943734d11092",
       "version_major": 2,
       "version_minor": 0
      },
      "text/plain": [
       "  0%|          | 0/33 [00:00<?, ?it/s]"
      ]
     },
     "metadata": {},
     "output_type": "display_data"
    },
    {
     "name": "stdout",
     "output_type": "stream",
     "text": [
      "05/05 06:33:20 [INFO] eps=6, lr=7.02e-06, t_loss=0.4936, v_loss=0.4309*, v_f1=0.9790*\n",
      "05/05 06:33:21 [INFO] ./ckpt/deit3_large_patch16_224.fb_in22k_ft_in1k-fold_idx=3-epoch=06-val_loss=0.4309-val_score=0.9790.ckpt : saved.\n"
     ]
    },
    {
     "data": {
      "application/vnd.jupyter.widget-view+json": {
       "model_id": "6e3bd4b4f918438ea18b395ece6d7422",
       "version_major": 2,
       "version_minor": 0
      },
      "text/plain": [
       "  0%|          | 0/33 [00:00<?, ?it/s]"
      ]
     },
     "metadata": {},
     "output_type": "display_data"
    },
    {
     "name": "stdout",
     "output_type": "stream",
     "text": [
      "05/05 06:34:46 [INFO] eps=6, lr=6.53e-06, t_loss=0.4897, v_loss=0.4339 , v_f1=0.9765 \n"
     ]
    },
    {
     "data": {
      "application/vnd.jupyter.widget-view+json": {
       "model_id": "38af9d93d90542398d6cc9a7b8faeb83",
       "version_major": 2,
       "version_minor": 0
      },
      "text/plain": [
       "  0%|          | 0/33 [00:00<?, ?it/s]"
      ]
     },
     "metadata": {},
     "output_type": "display_data"
    },
    {
     "name": "stdout",
     "output_type": "stream",
     "text": [
      "05/05 06:36:09 [INFO] eps=6, lr=6.07e-06, t_loss=0.4925, v_loss=0.4306*, v_f1=0.9760 \n"
     ]
    },
    {
     "data": {
      "application/vnd.jupyter.widget-view+json": {
       "model_id": "bd1cbf1b67db4de1a488adef5a1fb09d",
       "version_major": 2,
       "version_minor": 0
      },
      "text/plain": [
       "Epoch 7:   0%|          | 0/264 [00:00<?, ?it/s]"
      ]
     },
     "metadata": {},
     "output_type": "display_data"
    },
    {
     "data": {
      "application/vnd.jupyter.widget-view+json": {
       "model_id": "43ccc6c109ee4a7c9267a08e697b17f0",
       "version_major": 2,
       "version_minor": 0
      },
      "text/plain": [
       "  0%|          | 0/33 [00:00<?, ?it/s]"
      ]
     },
     "metadata": {},
     "output_type": "display_data"
    },
    {
     "name": "stdout",
     "output_type": "stream",
     "text": [
      "05/05 06:37:33 [INFO] eps=7, lr=5.65e-06, t_loss=0.4732, v_loss=0.4306 , v_f1=0.9764 \n"
     ]
    },
    {
     "data": {
      "application/vnd.jupyter.widget-view+json": {
       "model_id": "19b951ca3cee4b459e34272c7b54e6cd",
       "version_major": 2,
       "version_minor": 0
      },
      "text/plain": [
       "  0%|          | 0/33 [00:00<?, ?it/s]"
      ]
     },
     "metadata": {},
     "output_type": "display_data"
    },
    {
     "name": "stdout",
     "output_type": "stream",
     "text": [
      "05/05 06:38:57 [INFO] eps=7, lr=5.25e-06, t_loss=0.4772, v_loss=0.4295*, v_f1=0.9776 \n"
     ]
    },
    {
     "data": {
      "application/vnd.jupyter.widget-view+json": {
       "model_id": "2599cfd973394d608d6530d49337f0de",
       "version_major": 2,
       "version_minor": 0
      },
      "text/plain": [
       "  0%|          | 0/33 [00:00<?, ?it/s]"
      ]
     },
     "metadata": {},
     "output_type": "display_data"
    },
    {
     "name": "stdout",
     "output_type": "stream",
     "text": [
      "05/05 06:40:21 [INFO] eps=7, lr=4.88e-06, t_loss=0.4783, v_loss=0.4279*, v_f1=0.9783 \n"
     ]
    },
    {
     "data": {
      "application/vnd.jupyter.widget-view+json": {
       "model_id": "44792c67a34444ecb3bd9279d94832f0",
       "version_major": 2,
       "version_minor": 0
      },
      "text/plain": [
       "  0%|          | 0/33 [00:00<?, ?it/s]"
      ]
     },
     "metadata": {},
     "output_type": "display_data"
    },
    {
     "name": "stdout",
     "output_type": "stream",
     "text": [
      "05/05 06:41:45 [INFO] eps=7, lr=4.54e-06, t_loss=0.4798, v_loss=0.4293 , v_f1=0.9770 \n"
     ]
    },
    {
     "data": {
      "application/vnd.jupyter.widget-view+json": {
       "model_id": "1376619bbb064ff8b14eac36285f3ec1",
       "version_major": 2,
       "version_minor": 0
      },
      "text/plain": [
       "Epoch 8:   0%|          | 0/264 [00:00<?, ?it/s]"
      ]
     },
     "metadata": {},
     "output_type": "display_data"
    },
    {
     "data": {
      "application/vnd.jupyter.widget-view+json": {
       "model_id": "184dc841dde14376a34b5cc5ec238e83",
       "version_major": 2,
       "version_minor": 0
      },
      "text/plain": [
       "  0%|          | 0/33 [00:00<?, ?it/s]"
      ]
     },
     "metadata": {},
     "output_type": "display_data"
    },
    {
     "name": "stdout",
     "output_type": "stream",
     "text": [
      "05/05 06:43:09 [INFO] eps=8, lr=4.22e-06, t_loss=0.4839, v_loss=0.4293 , v_f1=0.9783 \n"
     ]
    },
    {
     "data": {
      "application/vnd.jupyter.widget-view+json": {
       "model_id": "4b6e2fad39944fe591364bb6ba918dc7",
       "version_major": 2,
       "version_minor": 0
      },
      "text/plain": [
       "  0%|          | 0/33 [00:00<?, ?it/s]"
      ]
     },
     "metadata": {},
     "output_type": "display_data"
    },
    {
     "name": "stdout",
     "output_type": "stream",
     "text": [
      "05/05 06:44:32 [INFO] eps=8, lr=3.93e-06, t_loss=0.4820, v_loss=0.4286 , v_f1=0.9774 \n"
     ]
    },
    {
     "data": {
      "application/vnd.jupyter.widget-view+json": {
       "model_id": "0ebd07c4a2454c93b69612ff3d1b0b07",
       "version_major": 2,
       "version_minor": 0
      },
      "text/plain": [
       "  0%|          | 0/33 [00:00<?, ?it/s]"
      ]
     },
     "metadata": {},
     "output_type": "display_data"
    },
    {
     "name": "stdout",
     "output_type": "stream",
     "text": [
      "05/05 06:45:56 [INFO] eps=8, lr=3.65e-06, t_loss=0.4849, v_loss=0.4292 , v_f1=0.9787 \n"
     ]
    },
    {
     "data": {
      "application/vnd.jupyter.widget-view+json": {
       "model_id": "93e00e46759d440da806ddc3fd721316",
       "version_major": 2,
       "version_minor": 0
      },
      "text/plain": [
       "  0%|          | 0/33 [00:00<?, ?it/s]"
      ]
     },
     "metadata": {},
     "output_type": "display_data"
    },
    {
     "name": "stdout",
     "output_type": "stream",
     "text": [
      "05/05 06:47:20 [INFO] eps=8, lr=3.4e-06, t_loss=0.4843, v_loss=0.4273*, v_f1=0.9778 \n"
     ]
    },
    {
     "data": {
      "application/vnd.jupyter.widget-view+json": {
       "model_id": "6637234c3d154c989ecebfa0a47831e7",
       "version_major": 2,
       "version_minor": 0
      },
      "text/plain": [
       "Epoch 9:   0%|          | 0/264 [00:00<?, ?it/s]"
      ]
     },
     "metadata": {},
     "output_type": "display_data"
    },
    {
     "data": {
      "application/vnd.jupyter.widget-view+json": {
       "model_id": "d26b458e58324c1bae1a131ed84d3791",
       "version_major": 2,
       "version_minor": 0
      },
      "text/plain": [
       "  0%|          | 0/33 [00:00<?, ?it/s]"
      ]
     },
     "metadata": {},
     "output_type": "display_data"
    },
    {
     "name": "stdout",
     "output_type": "stream",
     "text": [
      "05/05 06:48:43 [INFO] eps=9, lr=3.16e-06, t_loss=0.4872, v_loss=0.4275 , v_f1=0.9771 \n"
     ]
    },
    {
     "data": {
      "application/vnd.jupyter.widget-view+json": {
       "model_id": "b00acf191cea4fd39faa95199dbd7232",
       "version_major": 2,
       "version_minor": 0
      },
      "text/plain": [
       "  0%|          | 0/33 [00:00<?, ?it/s]"
      ]
     },
     "metadata": {},
     "output_type": "display_data"
    },
    {
     "name": "stdout",
     "output_type": "stream",
     "text": [
      "05/05 06:50:07 [INFO] eps=9, lr=2.94e-06, t_loss=0.4808, v_loss=0.4276 , v_f1=0.9780 \n"
     ]
    },
    {
     "data": {
      "application/vnd.jupyter.widget-view+json": {
       "model_id": "2562fc52150b462caa6ce6ab70d6bd0a",
       "version_major": 2,
       "version_minor": 0
      },
      "text/plain": [
       "  0%|          | 0/33 [00:00<?, ?it/s]"
      ]
     },
     "metadata": {},
     "output_type": "display_data"
    },
    {
     "name": "stdout",
     "output_type": "stream",
     "text": [
      "05/05 06:51:31 [INFO] eps=9, lr=2.73e-06, t_loss=0.4796, v_loss=0.4284 , v_f1=0.9771 \n"
     ]
    },
    {
     "data": {
      "application/vnd.jupyter.widget-view+json": {
       "model_id": "9ea8c7d0eb06490298da112ae825737e",
       "version_major": 2,
       "version_minor": 0
      },
      "text/plain": [
       "  0%|          | 0/33 [00:00<?, ?it/s]"
      ]
     },
     "metadata": {},
     "output_type": "display_data"
    },
    {
     "name": "stdout",
     "output_type": "stream",
     "text": [
      "05/05 06:52:55 [INFO] eps=9, lr=2.54e-06, t_loss=0.4778, v_loss=0.4264*, v_f1=0.9786 \n"
     ]
    },
    {
     "data": {
      "application/vnd.jupyter.widget-view+json": {
       "model_id": "3b59b94db259498da68099c78b410bbf",
       "version_major": 2,
       "version_minor": 0
      },
      "text/plain": [
       "Epoch 10:   0%|          | 0/264 [00:00<?, ?it/s]"
      ]
     },
     "metadata": {},
     "output_type": "display_data"
    },
    {
     "data": {
      "application/vnd.jupyter.widget-view+json": {
       "model_id": "6c9363488fab4be48c2d66c5e1f62486",
       "version_major": 2,
       "version_minor": 0
      },
      "text/plain": [
       "  0%|          | 0/33 [00:00<?, ?it/s]"
      ]
     },
     "metadata": {},
     "output_type": "display_data"
    },
    {
     "name": "stdout",
     "output_type": "stream",
     "text": [
      "05/05 06:54:19 [INFO] eps=10, lr=2.36e-06, t_loss=0.4685, v_loss=0.4275 , v_f1=0.9775 \n"
     ]
    },
    {
     "data": {
      "application/vnd.jupyter.widget-view+json": {
       "model_id": "6e2441e73b994af8aed33abd348d79d7",
       "version_major": 2,
       "version_minor": 0
      },
      "text/plain": [
       "  0%|          | 0/33 [00:00<?, ?it/s]"
      ]
     },
     "metadata": {},
     "output_type": "display_data"
    },
    {
     "name": "stdout",
     "output_type": "stream",
     "text": [
      "05/05 06:55:43 [INFO] eps=10, lr=2.2e-06, t_loss=0.4692, v_loss=0.4266 , v_f1=0.9773 \n"
     ]
    },
    {
     "data": {
      "application/vnd.jupyter.widget-view+json": {
       "model_id": "5efb7cc9f0f047039003b1581ae42791",
       "version_major": 2,
       "version_minor": 0
      },
      "text/plain": [
       "  0%|          | 0/33 [00:00<?, ?it/s]"
      ]
     },
     "metadata": {},
     "output_type": "display_data"
    },
    {
     "name": "stdout",
     "output_type": "stream",
     "text": [
      "05/05 06:57:06 [INFO] eps=10, lr=2.04e-06, t_loss=0.4730, v_loss=0.4265 , v_f1=0.9770 \n"
     ]
    },
    {
     "data": {
      "application/vnd.jupyter.widget-view+json": {
       "model_id": "792a093d0dda432c81bbb4f343e040b8",
       "version_major": 2,
       "version_minor": 0
      },
      "text/plain": [
       "  0%|          | 0/33 [00:00<?, ?it/s]"
      ]
     },
     "metadata": {},
     "output_type": "display_data"
    },
    {
     "name": "stdout",
     "output_type": "stream",
     "text": [
      "05/05 06:58:30 [INFO] eps=10, lr=1.9e-06, t_loss=0.4756, v_loss=0.4261*, v_f1=0.9767 \n"
     ]
    },
    {
     "data": {
      "application/vnd.jupyter.widget-view+json": {
       "model_id": "cec9a0a19ec747c2ba4e163db035c8a7",
       "version_major": 2,
       "version_minor": 0
      },
      "text/plain": [
       "Epoch 11:   0%|          | 0/264 [00:00<?, ?it/s]"
      ]
     },
     "metadata": {},
     "output_type": "display_data"
    },
    {
     "data": {
      "application/vnd.jupyter.widget-view+json": {
       "model_id": "4c1432ae40804d43985047bcced8c06e",
       "version_major": 2,
       "version_minor": 0
      },
      "text/plain": [
       "  0%|          | 0/33 [00:00<?, ?it/s]"
      ]
     },
     "metadata": {},
     "output_type": "display_data"
    },
    {
     "name": "stdout",
     "output_type": "stream",
     "text": [
      "05/05 06:59:54 [INFO] eps=11, lr=1.77e-06, t_loss=0.4720, v_loss=0.4251*, v_f1=0.9793*\n",
      "05/05 06:59:55 [INFO] ./ckpt/deit3_large_patch16_224.fb_in22k_ft_in1k-fold_idx=3-epoch=11-val_loss=0.4251-val_score=0.9793.ckpt : saved.\n"
     ]
    },
    {
     "data": {
      "application/vnd.jupyter.widget-view+json": {
       "model_id": "7a549b7b06f64be4b07f8ccd39a48ce5",
       "version_major": 2,
       "version_minor": 0
      },
      "text/plain": [
       "  0%|          | 0/33 [00:00<?, ?it/s]"
      ]
     },
     "metadata": {},
     "output_type": "display_data"
    },
    {
     "name": "stdout",
     "output_type": "stream",
     "text": [
      "05/05 07:01:19 [INFO] eps=11, lr=1.64e-06, t_loss=0.4706, v_loss=0.4256 , v_f1=0.9779 \n"
     ]
    },
    {
     "data": {
      "application/vnd.jupyter.widget-view+json": {
       "model_id": "290452cae9cb48e1a80cce8d88b3bda0",
       "version_major": 2,
       "version_minor": 0
      },
      "text/plain": [
       "  0%|          | 0/33 [00:00<?, ?it/s]"
      ]
     },
     "metadata": {},
     "output_type": "display_data"
    },
    {
     "name": "stdout",
     "output_type": "stream",
     "text": [
      "05/05 07:02:43 [INFO] eps=11, lr=1.53e-06, t_loss=0.4703, v_loss=0.4246*, v_f1=0.9795*\n",
      "05/05 07:02:44 [INFO] ./ckpt/deit3_large_patch16_224.fb_in22k_ft_in1k-fold_idx=3-epoch=11-val_loss=0.4246-val_score=0.9795.ckpt : saved.\n"
     ]
    },
    {
     "data": {
      "application/vnd.jupyter.widget-view+json": {
       "model_id": "c6edb75a15854db684794f9e95de22d6",
       "version_major": 2,
       "version_minor": 0
      },
      "text/plain": [
       "  0%|          | 0/33 [00:00<?, ?it/s]"
      ]
     },
     "metadata": {},
     "output_type": "display_data"
    },
    {
     "name": "stdout",
     "output_type": "stream",
     "text": [
      "05/05 07:04:08 [INFO] eps=11, lr=1.42e-06, t_loss=0.4714, v_loss=0.4252 , v_f1=0.9789 \n"
     ]
    },
    {
     "data": {
      "application/vnd.jupyter.widget-view+json": {
       "model_id": "601338fac40540c9a0efb480c1c93c86",
       "version_major": 2,
       "version_minor": 0
      },
      "text/plain": [
       "Epoch 12:   0%|          | 0/264 [00:00<?, ?it/s]"
      ]
     },
     "metadata": {},
     "output_type": "display_data"
    },
    {
     "data": {
      "application/vnd.jupyter.widget-view+json": {
       "model_id": "579562f7d7b046bcb6b5795a343fc508",
       "version_major": 2,
       "version_minor": 0
      },
      "text/plain": [
       "  0%|          | 0/33 [00:00<?, ?it/s]"
      ]
     },
     "metadata": {},
     "output_type": "display_data"
    },
    {
     "name": "stdout",
     "output_type": "stream",
     "text": [
      "05/05 07:05:32 [INFO] eps=12, lr=1.32e-06, t_loss=0.4687, v_loss=0.4248 , v_f1=0.9793 \n"
     ]
    },
    {
     "data": {
      "application/vnd.jupyter.widget-view+json": {
       "model_id": "ea39da9ef99949dc9b17fa70911062a1",
       "version_major": 2,
       "version_minor": 0
      },
      "text/plain": [
       "  0%|          | 0/33 [00:00<?, ?it/s]"
      ]
     },
     "metadata": {},
     "output_type": "display_data"
    },
    {
     "name": "stdout",
     "output_type": "stream",
     "text": [
      "05/05 07:06:55 [INFO] eps=12, lr=1.23e-06, t_loss=0.4641, v_loss=0.4244*, v_f1=0.9786 \n"
     ]
    },
    {
     "data": {
      "application/vnd.jupyter.widget-view+json": {
       "model_id": "b41f5e20dd654909a19b1bf3e103c17b",
       "version_major": 2,
       "version_minor": 0
      },
      "text/plain": [
       "  0%|          | 0/33 [00:00<?, ?it/s]"
      ]
     },
     "metadata": {},
     "output_type": "display_data"
    },
    {
     "name": "stdout",
     "output_type": "stream",
     "text": [
      "05/05 07:08:19 [INFO] eps=12, lr=1.14e-06, t_loss=0.4655, v_loss=0.4245 , v_f1=0.9783 \n"
     ]
    },
    {
     "data": {
      "application/vnd.jupyter.widget-view+json": {
       "model_id": "652971bea9ba4193a16ed85dfd4ab34a",
       "version_major": 2,
       "version_minor": 0
      },
      "text/plain": [
       "  0%|          | 0/33 [00:00<?, ?it/s]"
      ]
     },
     "metadata": {},
     "output_type": "display_data"
    },
    {
     "name": "stdout",
     "output_type": "stream",
     "text": [
      "05/05 07:09:43 [INFO] eps=12, lr=1.06e-06, t_loss=0.4677, v_loss=0.4242*, v_f1=0.9786 \n"
     ]
    },
    {
     "data": {
      "application/vnd.jupyter.widget-view+json": {
       "model_id": "55c66c8549ba4dc8954e0a0980999ef0",
       "version_major": 2,
       "version_minor": 0
      },
      "text/plain": [
       "Epoch 13:   0%|          | 0/264 [00:00<?, ?it/s]"
      ]
     },
     "metadata": {},
     "output_type": "display_data"
    },
    {
     "data": {
      "application/vnd.jupyter.widget-view+json": {
       "model_id": "da7efd14db47427481f407c92d9694b8",
       "version_major": 2,
       "version_minor": 0
      },
      "text/plain": [
       "  0%|          | 0/33 [00:00<?, ?it/s]"
      ]
     },
     "metadata": {},
     "output_type": "display_data"
    },
    {
     "name": "stdout",
     "output_type": "stream",
     "text": [
      "05/05 07:11:07 [INFO] eps=13, lr=9.89e-07, t_loss=0.4709, v_loss=0.4244 , v_f1=0.9785 \n"
     ]
    },
    {
     "data": {
      "application/vnd.jupyter.widget-view+json": {
       "model_id": "ac78cb4489494dfa959c6cfe5b4a84fe",
       "version_major": 2,
       "version_minor": 0
      },
      "text/plain": [
       "  0%|          | 0/33 [00:00<?, ?it/s]"
      ]
     },
     "metadata": {},
     "output_type": "display_data"
    },
    {
     "name": "stdout",
     "output_type": "stream",
     "text": [
      "05/05 07:12:31 [INFO] eps=13, lr=9.2e-07, t_loss=0.4650, v_loss=0.4249 , v_f1=0.9767 \n"
     ]
    },
    {
     "data": {
      "application/vnd.jupyter.widget-view+json": {
       "model_id": "444bfd3b94ed46c983e7a1e23e1f75e3",
       "version_major": 2,
       "version_minor": 0
      },
      "text/plain": [
       "  0%|          | 0/33 [00:00<?, ?it/s]"
      ]
     },
     "metadata": {},
     "output_type": "display_data"
    },
    {
     "name": "stdout",
     "output_type": "stream",
     "text": [
      "05/05 07:13:54 [INFO] eps=13, lr=8.56e-07, t_loss=0.4655, v_loss=0.4253 , v_f1=0.9770 \n"
     ]
    },
    {
     "data": {
      "application/vnd.jupyter.widget-view+json": {
       "model_id": "7425f264ca9544659de4a55b0b6b1aa8",
       "version_major": 2,
       "version_minor": 0
      },
      "text/plain": [
       "  0%|          | 0/33 [00:00<?, ?it/s]"
      ]
     },
     "metadata": {},
     "output_type": "display_data"
    },
    {
     "name": "stdout",
     "output_type": "stream",
     "text": [
      "05/05 07:15:18 [INFO] eps=13, lr=7.96e-07, t_loss=0.4687, v_loss=0.4247 , v_f1=0.9773 \n"
     ]
    },
    {
     "data": {
      "application/vnd.jupyter.widget-view+json": {
       "model_id": "2a107a58265249689f7a4ff8dd2ade93",
       "version_major": 2,
       "version_minor": 0
      },
      "text/plain": [
       "Epoch 14:   0%|          | 0/264 [00:00<?, ?it/s]"
      ]
     },
     "metadata": {},
     "output_type": "display_data"
    },
    {
     "data": {
      "application/vnd.jupyter.widget-view+json": {
       "model_id": "5caecc7700ae4297a727b1364ff9b887",
       "version_major": 2,
       "version_minor": 0
      },
      "text/plain": [
       "  0%|          | 0/33 [00:00<?, ?it/s]"
      ]
     },
     "metadata": {},
     "output_type": "display_data"
    },
    {
     "name": "stdout",
     "output_type": "stream",
     "text": [
      "05/05 07:16:42 [INFO] eps=14, lr=7.4e-07, t_loss=0.4624, v_loss=0.4243 , v_f1=0.9770 \n"
     ]
    },
    {
     "data": {
      "application/vnd.jupyter.widget-view+json": {
       "model_id": "ad4b1d75d5004775a9dedf50ef208900",
       "version_major": 2,
       "version_minor": 0
      },
      "text/plain": [
       "  0%|          | 0/33 [00:00<?, ?it/s]"
      ]
     },
     "metadata": {},
     "output_type": "display_data"
    },
    {
     "name": "stdout",
     "output_type": "stream",
     "text": [
      "05/05 07:18:06 [INFO] eps=14, lr=6.88e-07, t_loss=0.4737, v_loss=0.4244 , v_f1=0.9770 \n",
      "05/05 07:18:06 [INFO] NO_MORE_TRAINING, best_score=0.9795\n"
     ]
    },
    {
     "data": {
      "application/vnd.jupyter.widget-view+json": {
       "model_id": "e1b6edae541a46b7bfae428a39572029",
       "version_major": 2,
       "version_minor": 0
      },
      "text/plain": [
       "  0%|          | 0/33 [00:00<?, ?it/s]"
      ]
     },
     "metadata": {},
     "output_type": "display_data"
    },
    {
     "name": "stdout",
     "output_type": "stream",
     "text": [
      "05/05 07:18:25 [INFO] EMA ::: ema_v_loss=0.4248, ema_v_f1=0.9770\n",
      "05/05 07:18:26 [INFO] ./ckpt/deit3_large_patch16_224.fb_in22k_ft_in1k-fold_idx=3-epoch=14-val_loss=0.4248-val_score=0.9770-ema.ckpt : (ema) saved.\n",
      "05/05 07:18:27 [INFO] fold_idx=3 finished\n"
     ]
    },
    {
     "data": {
      "application/vnd.jupyter.widget-view+json": {
       "model_id": "",
       "version_major": 2,
       "version_minor": 0
      },
      "text/plain": [
       "VBox(children=(Label(value='0.003 MB of 0.003 MB uploaded\\r'), FloatProgress(value=1.0, max=1.0)))"
      ]
     },
     "metadata": {},
     "output_type": "display_data"
    },
    {
     "data": {
      "text/html": [
       "<style>\n",
       "    table.wandb td:nth-child(1) { padding: 0 10px; text-align: left ; width: auto;} td:nth-child(2) {text-align: left ; width: 100%}\n",
       "    .wandb-row { display: flex; flex-direction: row; flex-wrap: wrap; justify-content: flex-start; width: 100% }\n",
       "    .wandb-col { display: flex; flex-direction: column; flex-basis: 100%; flex: 1; padding: 10px; }\n",
       "    </style>\n",
       "<div class=\"wandb-row\"><div class=\"wandb-col\"><h3>Run history:</h3><br/><table class=\"wandb\"><tr><td>ema_v_f1</td><td>▁</td></tr><tr><td>ema_v_loss</td><td>▁</td></tr><tr><td>epoch</td><td>▁▁▁▂▂▂▂▂▂▃▃▃▃▃▃▄▄▄▄▄▄▅▅▅▅▅▅▆▆▆▆▆▇▇▇▇▇▇██</td></tr><tr><td>lr</td><td>▄▃█▇▁▇▃▂▅▁▁▃▂▃▃▁▂▂▃▂▁▁▂▂▂▁▁▁▁▁▁▁▁▁▁▁▁▁▁▁</td></tr><tr><td>step</td><td>▂▄▆▁▄▆▂▄▆▂▄▇▂▄▆▂▅▇▂▄█▂▅▇▂▆█▃▅█▂▆▁▃▆█▄▆▁▄</td></tr></table><br/></div><div class=\"wandb-col\"><h3>Run summary:</h3><br/><table class=\"wandb\"><tr><td>ema_v_f1</td><td>0.97696</td></tr><tr><td>ema_v_loss</td><td>0.42482</td></tr><tr><td>epoch</td><td>14</td></tr><tr><td>lr</td><td>0.0</td></tr><tr><td>step</td><td>132</td></tr></table><br/></div></div>"
      ],
      "text/plain": [
       "<IPython.core.display.HTML object>"
      ]
     },
     "metadata": {},
     "output_type": "display_data"
    },
    {
     "data": {
      "text/html": [
       " View run <strong style=\"color:#cdcd00\">fold4_deit3_large_patch16_224.fb_in22k_ft_in1k_05050234</strong> at: <a href='https://wandb.ai/ujinyang/basslibrary240210/runs/djldlkvz' target=\"_blank\">https://wandb.ai/ujinyang/basslibrary240210/runs/djldlkvz</a><br/> View project at: <a href='https://wandb.ai/ujinyang/basslibrary240210' target=\"_blank\">https://wandb.ai/ujinyang/basslibrary240210</a><br/>Synced 6 W&B file(s), 0 media file(s), 0 artifact file(s) and 0 other file(s)"
      ],
      "text/plain": [
       "<IPython.core.display.HTML object>"
      ]
     },
     "metadata": {},
     "output_type": "display_data"
    },
    {
     "data": {
      "text/html": [
       "Find logs at: <code>./wandb/run-20240505_060223-djldlkvz/logs</code>"
      ],
      "text/plain": [
       "<IPython.core.display.HTML object>"
      ]
     },
     "metadata": {},
     "output_type": "display_data"
    },
    {
     "name": "stdout",
     "output_type": "stream",
     "text": [
      "05/05 07:18:33 [INFO] fold_idx=4 started\n"
     ]
    },
    {
     "data": {
      "text/html": [
       "Tracking run with wandb version 0.16.6"
      ],
      "text/plain": [
       "<IPython.core.display.HTML object>"
      ]
     },
     "metadata": {},
     "output_type": "display_data"
    },
    {
     "data": {
      "text/html": [
       "Run data is saved locally in <code>/workspace/wandb/run-20240505_071833-oiwm4yng</code>"
      ],
      "text/plain": [
       "<IPython.core.display.HTML object>"
      ]
     },
     "metadata": {},
     "output_type": "display_data"
    },
    {
     "data": {
      "text/html": [
       "Syncing run <strong><a href='https://wandb.ai/ujinyang/basslibrary240210/runs/oiwm4yng' target=\"_blank\">fold5_deit3_large_patch16_224.fb_in22k_ft_in1k_05050234</a></strong> to <a href='https://wandb.ai/ujinyang/basslibrary240210' target=\"_blank\">Weights & Biases</a> (<a href='https://wandb.me/run' target=\"_blank\">docs</a>)<br/>"
      ],
      "text/plain": [
       "<IPython.core.display.HTML object>"
      ]
     },
     "metadata": {},
     "output_type": "display_data"
    },
    {
     "data": {
      "text/html": [
       " View project at <a href='https://wandb.ai/ujinyang/basslibrary240210' target=\"_blank\">https://wandb.ai/ujinyang/basslibrary240210</a>"
      ],
      "text/plain": [
       "<IPython.core.display.HTML object>"
      ]
     },
     "metadata": {},
     "output_type": "display_data"
    },
    {
     "data": {
      "text/html": [
       " View run at <a href='https://wandb.ai/ujinyang/basslibrary240210/runs/oiwm4yng' target=\"_blank\">https://wandb.ai/ujinyang/basslibrary240210/runs/oiwm4yng</a>"
      ],
      "text/plain": [
       "<IPython.core.display.HTML object>"
      ]
     },
     "metadata": {},
     "output_type": "display_data"
    },
    {
     "name": "stdout",
     "output_type": "stream",
     "text": [
      "05/05 07:18:40 [INFO] load_img_size=224\n",
      "05/05 07:18:40 [INFO] load_img_size=224\n",
      "05/05 07:18:40 [INFO] create_model: timm/deit3_large_patch16_224.fb_in22k_ft_in1k\n",
      "05/05 07:18:41 [INFO] Loading pretrained weights from Hugging Face hub (timm/deit3_large_patch16_224.fb_in22k_ft_in1k)\n",
      "05/05 07:18:41 [INFO] [timm/deit3_large_patch16_224.fb_in22k_ft_in1k] Safe alternative available for 'pytorch_model.bin' (as 'model.safetensors'). Loading weights using safetensors.\n",
      "05/05 07:18:41 [INFO] use_amp=True\n"
     ]
    },
    {
     "name": "stderr",
     "output_type": "stream",
     "text": [
      "/opt/conda/lib/python3.10/site-packages/torch/nn/modules/lazy.py:181: UserWarning: Lazy modules are a new feature under heavy development so changes to the API or functionality can happen at any moment.\n",
      "  warnings.warn('Lazy modules are a new feature under heavy development '\n"
     ]
    },
    {
     "data": {
      "application/vnd.jupyter.widget-view+json": {
       "model_id": "17aad04b91314beab9492280cf8e3ba6",
       "version_major": 2,
       "version_minor": 0
      },
      "text/plain": [
       "Epoch 1:   0%|          | 0/264 [00:00<?, ?it/s]"
      ]
     },
     "metadata": {},
     "output_type": "display_data"
    },
    {
     "data": {
      "application/vnd.jupyter.widget-view+json": {
       "model_id": "5baae853ccd241ebb8f1520eaa48ebf4",
       "version_major": 2,
       "version_minor": 0
      },
      "text/plain": [
       "  0%|          | 0/33 [00:00<?, ?it/s]"
      ]
     },
     "metadata": {},
     "output_type": "display_data"
    },
    {
     "name": "stdout",
     "output_type": "stream",
     "text": [
      "05/05 07:20:05 [INFO] eps=1, lr=3.22e-05, t_loss=1.9130, v_loss=0.8928*, v_f1=0.8881*\n"
     ]
    },
    {
     "data": {
      "application/vnd.jupyter.widget-view+json": {
       "model_id": "485c6b3ecab347eeb1b6aec9cbacabc6",
       "version_major": 2,
       "version_minor": 0
      },
      "text/plain": [
       "  0%|          | 0/33 [00:00<?, ?it/s]"
      ]
     },
     "metadata": {},
     "output_type": "display_data"
    },
    {
     "name": "stdout",
     "output_type": "stream",
     "text": [
      "05/05 07:21:29 [INFO] eps=1, lr=3e-05, t_loss=1.3805, v_loss=0.5621*, v_f1=0.9489*\n"
     ]
    },
    {
     "data": {
      "application/vnd.jupyter.widget-view+json": {
       "model_id": "056b3fb725dc4f9fafdf3854826e9e75",
       "version_major": 2,
       "version_minor": 0
      },
      "text/plain": [
       "  0%|          | 0/33 [00:00<?, ?it/s]"
      ]
     },
     "metadata": {},
     "output_type": "display_data"
    },
    {
     "name": "stdout",
     "output_type": "stream",
     "text": [
      "05/05 07:22:53 [INFO] eps=1, lr=2.79e-05, t_loss=1.1645, v_loss=0.5250*, v_f1=0.9558*\n"
     ]
    },
    {
     "data": {
      "application/vnd.jupyter.widget-view+json": {
       "model_id": "1dbcd51bfbe84dbd8996b08618f86a56",
       "version_major": 2,
       "version_minor": 0
      },
      "text/plain": [
       "  0%|          | 0/33 [00:00<?, ?it/s]"
      ]
     },
     "metadata": {},
     "output_type": "display_data"
    },
    {
     "name": "stdout",
     "output_type": "stream",
     "text": [
      "05/05 07:24:17 [INFO] eps=1, lr=2.59e-05, t_loss=1.0434, v_loss=0.5093*, v_f1=0.9579*\n"
     ]
    },
    {
     "data": {
      "application/vnd.jupyter.widget-view+json": {
       "model_id": "13994880ef5848cc8d14761dd4c768e3",
       "version_major": 2,
       "version_minor": 0
      },
      "text/plain": [
       "Epoch 2:   0%|          | 0/264 [00:00<?, ?it/s]"
      ]
     },
     "metadata": {},
     "output_type": "display_data"
    },
    {
     "data": {
      "application/vnd.jupyter.widget-view+json": {
       "model_id": "bfa653b2cb89475da56252bb1ecfe8e5",
       "version_major": 2,
       "version_minor": 0
      },
      "text/plain": [
       "  0%|          | 0/33 [00:00<?, ?it/s]"
      ]
     },
     "metadata": {},
     "output_type": "display_data"
    },
    {
     "name": "stdout",
     "output_type": "stream",
     "text": [
      "05/05 07:25:41 [INFO] eps=2, lr=2.41e-05, t_loss=0.6482, v_loss=0.4911*, v_f1=0.9638*\n"
     ]
    },
    {
     "data": {
      "application/vnd.jupyter.widget-view+json": {
       "model_id": "dd98de5259eb4ea79f6cf4a401c97c12",
       "version_major": 2,
       "version_minor": 0
      },
      "text/plain": [
       "  0%|          | 0/33 [00:00<?, ?it/s]"
      ]
     },
     "metadata": {},
     "output_type": "display_data"
    },
    {
     "name": "stdout",
     "output_type": "stream",
     "text": [
      "05/05 07:27:05 [INFO] eps=2, lr=2.24e-05, t_loss=0.6214, v_loss=0.4759*, v_f1=0.9654*\n"
     ]
    },
    {
     "data": {
      "application/vnd.jupyter.widget-view+json": {
       "model_id": "2a48c8ae0a144b5288485b6e7f973bb5",
       "version_major": 2,
       "version_minor": 0
      },
      "text/plain": [
       "  0%|          | 0/33 [00:00<?, ?it/s]"
      ]
     },
     "metadata": {},
     "output_type": "display_data"
    },
    {
     "name": "stdout",
     "output_type": "stream",
     "text": [
      "05/05 07:28:29 [INFO] eps=2, lr=2.08e-05, t_loss=0.6174, v_loss=0.4671*, v_f1=0.9663*\n"
     ]
    },
    {
     "data": {
      "application/vnd.jupyter.widget-view+json": {
       "model_id": "79d96fbadfba4ac9a374be4fb09deff7",
       "version_major": 2,
       "version_minor": 0
      },
      "text/plain": [
       "  0%|          | 0/33 [00:00<?, ?it/s]"
      ]
     },
     "metadata": {},
     "output_type": "display_data"
    },
    {
     "name": "stdout",
     "output_type": "stream",
     "text": [
      "05/05 07:29:53 [INFO] eps=2, lr=1.94e-05, t_loss=0.6106, v_loss=0.4673 , v_f1=0.9677*\n"
     ]
    },
    {
     "data": {
      "application/vnd.jupyter.widget-view+json": {
       "model_id": "c969c531d2124886aeb66fab08346e71",
       "version_major": 2,
       "version_minor": 0
      },
      "text/plain": [
       "Epoch 3:   0%|          | 0/264 [00:00<?, ?it/s]"
      ]
     },
     "metadata": {},
     "output_type": "display_data"
    },
    {
     "data": {
      "application/vnd.jupyter.widget-view+json": {
       "model_id": "d5d9734458304be49b48d77055cb28aa",
       "version_major": 2,
       "version_minor": 0
      },
      "text/plain": [
       "  0%|          | 0/33 [00:00<?, ?it/s]"
      ]
     },
     "metadata": {},
     "output_type": "display_data"
    },
    {
     "name": "stdout",
     "output_type": "stream",
     "text": [
      "05/05 07:31:17 [INFO] eps=3, lr=1.8e-05, t_loss=0.5461, v_loss=0.4628*, v_f1=0.9684*\n"
     ]
    },
    {
     "data": {
      "application/vnd.jupyter.widget-view+json": {
       "model_id": "a0b8df90a230499791a1f1121e6f28ef",
       "version_major": 2,
       "version_minor": 0
      },
      "text/plain": [
       "  0%|          | 0/33 [00:00<?, ?it/s]"
      ]
     },
     "metadata": {},
     "output_type": "display_data"
    },
    {
     "name": "stdout",
     "output_type": "stream",
     "text": [
      "05/05 07:32:40 [INFO] eps=3, lr=1.68e-05, t_loss=0.5624, v_loss=0.4623*, v_f1=0.9712*\n"
     ]
    },
    {
     "data": {
      "application/vnd.jupyter.widget-view+json": {
       "model_id": "fa8b74acb5f646c6a7e57fb8446646e0",
       "version_major": 2,
       "version_minor": 0
      },
      "text/plain": [
       "  0%|          | 0/33 [00:00<?, ?it/s]"
      ]
     },
     "metadata": {},
     "output_type": "display_data"
    },
    {
     "name": "stdout",
     "output_type": "stream",
     "text": [
      "05/05 07:34:04 [INFO] eps=3, lr=1.56e-05, t_loss=0.5550, v_loss=0.4614*, v_f1=0.9687 \n"
     ]
    },
    {
     "data": {
      "application/vnd.jupyter.widget-view+json": {
       "model_id": "8f9afde9b4a14c9f87a0f67e3b8f8831",
       "version_major": 2,
       "version_minor": 0
      },
      "text/plain": [
       "  0%|          | 0/33 [00:00<?, ?it/s]"
      ]
     },
     "metadata": {},
     "output_type": "display_data"
    },
    {
     "name": "stdout",
     "output_type": "stream",
     "text": [
      "05/05 07:35:27 [INFO] eps=3, lr=1.45e-05, t_loss=0.5491, v_loss=0.4532*, v_f1=0.9694 \n"
     ]
    },
    {
     "data": {
      "application/vnd.jupyter.widget-view+json": {
       "model_id": "32eca8a095414555902a4592978b5421",
       "version_major": 2,
       "version_minor": 0
      },
      "text/plain": [
       "Epoch 4:   0%|          | 0/264 [00:00<?, ?it/s]"
      ]
     },
     "metadata": {},
     "output_type": "display_data"
    },
    {
     "data": {
      "application/vnd.jupyter.widget-view+json": {
       "model_id": "7f86d41b64ee451b804facaf961be026",
       "version_major": 2,
       "version_minor": 0
      },
      "text/plain": [
       "  0%|          | 0/33 [00:00<?, ?it/s]"
      ]
     },
     "metadata": {},
     "output_type": "display_data"
    },
    {
     "name": "stdout",
     "output_type": "stream",
     "text": [
      "05/05 07:36:51 [INFO] eps=4, lr=1.35e-05, t_loss=0.5363, v_loss=0.4546 , v_f1=0.9698 \n"
     ]
    },
    {
     "data": {
      "application/vnd.jupyter.widget-view+json": {
       "model_id": "8d27992646b14cb099513b1630c16d26",
       "version_major": 2,
       "version_minor": 0
      },
      "text/plain": [
       "  0%|          | 0/33 [00:00<?, ?it/s]"
      ]
     },
     "metadata": {},
     "output_type": "display_data"
    },
    {
     "name": "stdout",
     "output_type": "stream",
     "text": [
      "05/05 07:38:15 [INFO] eps=4, lr=1.25e-05, t_loss=0.5342, v_loss=0.4441*, v_f1=0.9731*\n"
     ]
    },
    {
     "data": {
      "application/vnd.jupyter.widget-view+json": {
       "model_id": "9bd0e07b409a4e7ab6a7a29b2ba1a191",
       "version_major": 2,
       "version_minor": 0
      },
      "text/plain": [
       "  0%|          | 0/33 [00:00<?, ?it/s]"
      ]
     },
     "metadata": {},
     "output_type": "display_data"
    },
    {
     "name": "stdout",
     "output_type": "stream",
     "text": [
      "05/05 07:39:38 [INFO] eps=4, lr=1.17e-05, t_loss=0.5322, v_loss=0.4435*, v_f1=0.9720 \n"
     ]
    },
    {
     "data": {
      "application/vnd.jupyter.widget-view+json": {
       "model_id": "83ac4370f8b248dd8591e1f23f356804",
       "version_major": 2,
       "version_minor": 0
      },
      "text/plain": [
       "  0%|          | 0/33 [00:00<?, ?it/s]"
      ]
     },
     "metadata": {},
     "output_type": "display_data"
    },
    {
     "name": "stdout",
     "output_type": "stream",
     "text": [
      "05/05 07:41:02 [INFO] eps=4, lr=1.08e-05, t_loss=0.5320, v_loss=0.4432*, v_f1=0.9734*\n"
     ]
    },
    {
     "data": {
      "application/vnd.jupyter.widget-view+json": {
       "model_id": "cf9373b85d5f4bd09fae84924658daf2",
       "version_major": 2,
       "version_minor": 0
      },
      "text/plain": [
       "Epoch 5:   0%|          | 0/264 [00:00<?, ?it/s]"
      ]
     },
     "metadata": {},
     "output_type": "display_data"
    },
    {
     "data": {
      "application/vnd.jupyter.widget-view+json": {
       "model_id": "a4dfca3247d844389fc91ca6cea05847",
       "version_major": 2,
       "version_minor": 0
      },
      "text/plain": [
       "  0%|          | 0/33 [00:00<?, ?it/s]"
      ]
     },
     "metadata": {},
     "output_type": "display_data"
    },
    {
     "name": "stdout",
     "output_type": "stream",
     "text": [
      "05/05 07:42:26 [INFO] eps=5, lr=1.01e-05, t_loss=0.5172, v_loss=0.4426*, v_f1=0.9725 \n"
     ]
    },
    {
     "data": {
      "application/vnd.jupyter.widget-view+json": {
       "model_id": "bd94655a4e424387b4e86064485d791c",
       "version_major": 2,
       "version_minor": 0
      },
      "text/plain": [
       "  0%|          | 0/33 [00:00<?, ?it/s]"
      ]
     },
     "metadata": {},
     "output_type": "display_data"
    },
    {
     "name": "stdout",
     "output_type": "stream",
     "text": [
      "05/05 07:43:50 [INFO] eps=5, lr=9.38e-06, t_loss=0.5090, v_loss=0.4445 , v_f1=0.9724 \n"
     ]
    },
    {
     "data": {
      "application/vnd.jupyter.widget-view+json": {
       "model_id": "e06e8d2ae441486dac6d862f470172e3",
       "version_major": 2,
       "version_minor": 0
      },
      "text/plain": [
       "  0%|          | 0/33 [00:00<?, ?it/s]"
      ]
     },
     "metadata": {},
     "output_type": "display_data"
    },
    {
     "name": "stdout",
     "output_type": "stream",
     "text": [
      "05/05 07:45:14 [INFO] eps=5, lr=8.73e-06, t_loss=0.5082, v_loss=0.4453 , v_f1=0.9729 \n"
     ]
    },
    {
     "data": {
      "application/vnd.jupyter.widget-view+json": {
       "model_id": "c0a7bae6a17b4e0cb804f68f8be10828",
       "version_major": 2,
       "version_minor": 0
      },
      "text/plain": [
       "  0%|          | 0/33 [00:00<?, ?it/s]"
      ]
     },
     "metadata": {},
     "output_type": "display_data"
    },
    {
     "name": "stdout",
     "output_type": "stream",
     "text": [
      "05/05 07:46:37 [INFO] eps=5, lr=8.11e-06, t_loss=0.5084, v_loss=0.4419*, v_f1=0.9726 \n"
     ]
    },
    {
     "data": {
      "application/vnd.jupyter.widget-view+json": {
       "model_id": "6f0232493c8e4306aa1225dc9c1d116c",
       "version_major": 2,
       "version_minor": 0
      },
      "text/plain": [
       "Epoch 6:   0%|          | 0/264 [00:00<?, ?it/s]"
      ]
     },
     "metadata": {},
     "output_type": "display_data"
    },
    {
     "data": {
      "application/vnd.jupyter.widget-view+json": {
       "model_id": "84fca9d44d254269bfcf081faa770f9b",
       "version_major": 2,
       "version_minor": 0
      },
      "text/plain": [
       "  0%|          | 0/33 [00:00<?, ?it/s]"
      ]
     },
     "metadata": {},
     "output_type": "display_data"
    },
    {
     "name": "stdout",
     "output_type": "stream",
     "text": [
      "05/05 07:48:01 [INFO] eps=6, lr=7.55e-06, t_loss=0.5123, v_loss=0.4416*, v_f1=0.9750*\n",
      "05/05 07:48:02 [INFO] ./ckpt/deit3_large_patch16_224.fb_in22k_ft_in1k-fold_idx=4-epoch=06-val_loss=0.4416-val_score=0.9750.ckpt : saved.\n"
     ]
    },
    {
     "data": {
      "application/vnd.jupyter.widget-view+json": {
       "model_id": "d824415a21c640d0b82309cd65a5b99b",
       "version_major": 2,
       "version_minor": 0
      },
      "text/plain": [
       "  0%|          | 0/33 [00:00<?, ?it/s]"
      ]
     },
     "metadata": {},
     "output_type": "display_data"
    },
    {
     "name": "stdout",
     "output_type": "stream",
     "text": [
      "05/05 07:49:26 [INFO] eps=6, lr=7.02e-06, t_loss=0.5080, v_loss=0.4417 , v_f1=0.9738 \n"
     ]
    },
    {
     "data": {
      "application/vnd.jupyter.widget-view+json": {
       "model_id": "a8c4c9cebd714194a37c42925c003d1d",
       "version_major": 2,
       "version_minor": 0
      },
      "text/plain": [
       "  0%|          | 0/33 [00:00<?, ?it/s]"
      ]
     },
     "metadata": {},
     "output_type": "display_data"
    },
    {
     "name": "stdout",
     "output_type": "stream",
     "text": [
      "05/05 07:50:49 [INFO] eps=6, lr=6.53e-06, t_loss=0.4945, v_loss=0.4401*, v_f1=0.9744 \n"
     ]
    },
    {
     "data": {
      "application/vnd.jupyter.widget-view+json": {
       "model_id": "e618aed2d3ef495db75ab08689f65748",
       "version_major": 2,
       "version_minor": 0
      },
      "text/plain": [
       "  0%|          | 0/33 [00:00<?, ?it/s]"
      ]
     },
     "metadata": {},
     "output_type": "display_data"
    },
    {
     "name": "stdout",
     "output_type": "stream",
     "text": [
      "05/05 07:52:13 [INFO] eps=6, lr=6.07e-06, t_loss=0.4938, v_loss=0.4383*, v_f1=0.9741 \n"
     ]
    },
    {
     "data": {
      "application/vnd.jupyter.widget-view+json": {
       "model_id": "bc77bba4d0684a0f93f6499c89e0a902",
       "version_major": 2,
       "version_minor": 0
      },
      "text/plain": [
       "Epoch 7:   0%|          | 0/264 [00:00<?, ?it/s]"
      ]
     },
     "metadata": {},
     "output_type": "display_data"
    },
    {
     "data": {
      "application/vnd.jupyter.widget-view+json": {
       "model_id": "950eccb8579443118715450cd83cb04c",
       "version_major": 2,
       "version_minor": 0
      },
      "text/plain": [
       "  0%|          | 0/33 [00:00<?, ?it/s]"
      ]
     },
     "metadata": {},
     "output_type": "display_data"
    },
    {
     "name": "stdout",
     "output_type": "stream",
     "text": [
      "05/05 07:53:36 [INFO] eps=7, lr=5.65e-06, t_loss=0.4875, v_loss=0.4382*, v_f1=0.9741 \n"
     ]
    },
    {
     "data": {
      "application/vnd.jupyter.widget-view+json": {
       "model_id": "1c3bd474e67a462db9d50cc2f9e9bb33",
       "version_major": 2,
       "version_minor": 0
      },
      "text/plain": [
       "  0%|          | 0/33 [00:00<?, ?it/s]"
      ]
     },
     "metadata": {},
     "output_type": "display_data"
    },
    {
     "name": "stdout",
     "output_type": "stream",
     "text": [
      "05/05 07:55:00 [INFO] eps=7, lr=5.25e-06, t_loss=0.4967, v_loss=0.4381*, v_f1=0.9747 \n"
     ]
    },
    {
     "data": {
      "application/vnd.jupyter.widget-view+json": {
       "model_id": "40d2a295dfb24e3dafc811bed22c3611",
       "version_major": 2,
       "version_minor": 0
      },
      "text/plain": [
       "  0%|          | 0/33 [00:00<?, ?it/s]"
      ]
     },
     "metadata": {},
     "output_type": "display_data"
    },
    {
     "name": "stdout",
     "output_type": "stream",
     "text": [
      "05/05 07:56:24 [INFO] eps=7, lr=4.88e-06, t_loss=0.4881, v_loss=0.4391 , v_f1=0.9740 \n"
     ]
    },
    {
     "data": {
      "application/vnd.jupyter.widget-view+json": {
       "model_id": "f678d14ef8d048a483cd05bd13041a68",
       "version_major": 2,
       "version_minor": 0
      },
      "text/plain": [
       "  0%|          | 0/33 [00:00<?, ?it/s]"
      ]
     },
     "metadata": {},
     "output_type": "display_data"
    },
    {
     "name": "stdout",
     "output_type": "stream",
     "text": [
      "05/05 07:57:47 [INFO] eps=7, lr=4.54e-06, t_loss=0.4874, v_loss=0.4379*, v_f1=0.9746 \n"
     ]
    },
    {
     "data": {
      "application/vnd.jupyter.widget-view+json": {
       "model_id": "ba42e6e7d6ae4f5989b460ce9e69e52b",
       "version_major": 2,
       "version_minor": 0
      },
      "text/plain": [
       "Epoch 8:   0%|          | 0/264 [00:00<?, ?it/s]"
      ]
     },
     "metadata": {},
     "output_type": "display_data"
    },
    {
     "data": {
      "application/vnd.jupyter.widget-view+json": {
       "model_id": "3c0f2a9410404d88b0a4ff8290fa548f",
       "version_major": 2,
       "version_minor": 0
      },
      "text/plain": [
       "  0%|          | 0/33 [00:00<?, ?it/s]"
      ]
     },
     "metadata": {},
     "output_type": "display_data"
    },
    {
     "name": "stdout",
     "output_type": "stream",
     "text": [
      "05/05 07:59:11 [INFO] eps=8, lr=4.22e-06, t_loss=0.4797, v_loss=0.4363*, v_f1=0.9756*\n",
      "05/05 07:59:12 [INFO] ./ckpt/deit3_large_patch16_224.fb_in22k_ft_in1k-fold_idx=4-epoch=08-val_loss=0.4363-val_score=0.9756.ckpt : saved.\n"
     ]
    },
    {
     "data": {
      "application/vnd.jupyter.widget-view+json": {
       "model_id": "1f931289e52e4a679d14dd49115a388b",
       "version_major": 2,
       "version_minor": 0
      },
      "text/plain": [
       "  0%|          | 0/33 [00:00<?, ?it/s]"
      ]
     },
     "metadata": {},
     "output_type": "display_data"
    },
    {
     "name": "stdout",
     "output_type": "stream",
     "text": [
      "05/05 08:00:36 [INFO] eps=8, lr=3.93e-06, t_loss=0.4847, v_loss=0.4344*, v_f1=0.9774*\n",
      "05/05 08:00:37 [INFO] ./ckpt/deit3_large_patch16_224.fb_in22k_ft_in1k-fold_idx=4-epoch=08-val_loss=0.4344-val_score=0.9774.ckpt : saved.\n"
     ]
    },
    {
     "data": {
      "application/vnd.jupyter.widget-view+json": {
       "model_id": "bad8650576c34b4db8b009cbb76a34b9",
       "version_major": 2,
       "version_minor": 0
      },
      "text/plain": [
       "  0%|          | 0/33 [00:00<?, ?it/s]"
      ]
     },
     "metadata": {},
     "output_type": "display_data"
    },
    {
     "name": "stdout",
     "output_type": "stream",
     "text": [
      "05/05 08:02:00 [INFO] eps=8, lr=3.65e-06, t_loss=0.4835, v_loss=0.4338*, v_f1=0.9756 \n"
     ]
    },
    {
     "data": {
      "application/vnd.jupyter.widget-view+json": {
       "model_id": "038b655d041f4e5e99b5dd9dbe5c6530",
       "version_major": 2,
       "version_minor": 0
      },
      "text/plain": [
       "  0%|          | 0/33 [00:00<?, ?it/s]"
      ]
     },
     "metadata": {},
     "output_type": "display_data"
    },
    {
     "name": "stdout",
     "output_type": "stream",
     "text": [
      "05/05 08:03:24 [INFO] eps=8, lr=3.4e-06, t_loss=0.4814, v_loss=0.4353 , v_f1=0.9759 \n"
     ]
    },
    {
     "data": {
      "application/vnd.jupyter.widget-view+json": {
       "model_id": "e3e40ad9883340dfa56f509078ff5562",
       "version_major": 2,
       "version_minor": 0
      },
      "text/plain": [
       "Epoch 9:   0%|          | 0/264 [00:00<?, ?it/s]"
      ]
     },
     "metadata": {},
     "output_type": "display_data"
    },
    {
     "data": {
      "application/vnd.jupyter.widget-view+json": {
       "model_id": "4043e9d2d99a4751bef50c7bb77b8837",
       "version_major": 2,
       "version_minor": 0
      },
      "text/plain": [
       "  0%|          | 0/33 [00:00<?, ?it/s]"
      ]
     },
     "metadata": {},
     "output_type": "display_data"
    },
    {
     "name": "stdout",
     "output_type": "stream",
     "text": [
      "05/05 08:04:48 [INFO] eps=9, lr=3.16e-06, t_loss=0.4687, v_loss=0.4351 , v_f1=0.9759 \n"
     ]
    },
    {
     "data": {
      "application/vnd.jupyter.widget-view+json": {
       "model_id": "e631a6e6c76e46de8bd6234520f7f0c9",
       "version_major": 2,
       "version_minor": 0
      },
      "text/plain": [
       "  0%|          | 0/33 [00:00<?, ?it/s]"
      ]
     },
     "metadata": {},
     "output_type": "display_data"
    },
    {
     "name": "stdout",
     "output_type": "stream",
     "text": [
      "05/05 08:06:12 [INFO] eps=9, lr=2.94e-06, t_loss=0.4723, v_loss=0.4349 , v_f1=0.9752 \n"
     ]
    },
    {
     "data": {
      "application/vnd.jupyter.widget-view+json": {
       "model_id": "e848e57c58f84b9f9622415ba6a53278",
       "version_major": 2,
       "version_minor": 0
      },
      "text/plain": [
       "  0%|          | 0/33 [00:00<?, ?it/s]"
      ]
     },
     "metadata": {},
     "output_type": "display_data"
    },
    {
     "name": "stdout",
     "output_type": "stream",
     "text": [
      "05/05 08:07:36 [INFO] eps=9, lr=2.73e-06, t_loss=0.4753, v_loss=0.4350 , v_f1=0.9740 \n"
     ]
    },
    {
     "data": {
      "application/vnd.jupyter.widget-view+json": {
       "model_id": "438aec05f1c14d218bd84681808eb792",
       "version_major": 2,
       "version_minor": 0
      },
      "text/plain": [
       "  0%|          | 0/33 [00:00<?, ?it/s]"
      ]
     },
     "metadata": {},
     "output_type": "display_data"
    },
    {
     "name": "stdout",
     "output_type": "stream",
     "text": [
      "05/05 08:08:59 [INFO] eps=9, lr=2.54e-06, t_loss=0.4749, v_loss=0.4340 , v_f1=0.9762 \n"
     ]
    },
    {
     "data": {
      "application/vnd.jupyter.widget-view+json": {
       "model_id": "91d7bb2f6efa4e598e8e713cf6a6f6d9",
       "version_major": 2,
       "version_minor": 0
      },
      "text/plain": [
       "Epoch 10:   0%|          | 0/264 [00:00<?, ?it/s]"
      ]
     },
     "metadata": {},
     "output_type": "display_data"
    },
    {
     "data": {
      "application/vnd.jupyter.widget-view+json": {
       "model_id": "60a1be7f8bfa47689bc197e9a3acef65",
       "version_major": 2,
       "version_minor": 0
      },
      "text/plain": [
       "  0%|          | 0/33 [00:00<?, ?it/s]"
      ]
     },
     "metadata": {},
     "output_type": "display_data"
    },
    {
     "name": "stdout",
     "output_type": "stream",
     "text": [
      "05/05 08:10:23 [INFO] eps=10, lr=2.36e-06, t_loss=0.4787, v_loss=0.4345 , v_f1=0.9760 \n",
      "05/05 08:10:23 [INFO] NO_MORE_TRAINING, best_score=0.9774\n"
     ]
    },
    {
     "data": {
      "application/vnd.jupyter.widget-view+json": {
       "model_id": "23441531a79c4adda8cbf7275110ca63",
       "version_major": 2,
       "version_minor": 0
      },
      "text/plain": [
       "  0%|          | 0/33 [00:00<?, ?it/s]"
      ]
     },
     "metadata": {},
     "output_type": "display_data"
    },
    {
     "name": "stdout",
     "output_type": "stream",
     "text": [
      "05/05 08:10:43 [INFO] EMA ::: ema_v_loss=0.4347, ema_v_f1=0.9756\n",
      "05/05 08:10:44 [INFO] ./ckpt/deit3_large_patch16_224.fb_in22k_ft_in1k-fold_idx=4-epoch=10-val_loss=0.4347-val_score=0.9756-ema.ckpt : (ema) saved.\n",
      "05/05 08:10:44 [INFO] fold_idx=4 finished\n"
     ]
    },
    {
     "data": {
      "application/vnd.jupyter.widget-view+json": {
       "model_id": "",
       "version_major": 2,
       "version_minor": 0
      },
      "text/plain": [
       "VBox(children=(Label(value='0.003 MB of 0.003 MB uploaded\\r'), FloatProgress(value=1.0, max=1.0)))"
      ]
     },
     "metadata": {},
     "output_type": "display_data"
    },
    {
     "data": {
      "text/html": [
       "<style>\n",
       "    table.wandb td:nth-child(1) { padding: 0 10px; text-align: left ; width: auto;} td:nth-child(2) {text-align: left ; width: 100%}\n",
       "    .wandb-row { display: flex; flex-direction: row; flex-wrap: wrap; justify-content: flex-start; width: 100% }\n",
       "    .wandb-col { display: flex; flex-direction: column; flex-basis: 100%; flex: 1; padding: 10px; }\n",
       "    </style>\n",
       "<div class=\"wandb-row\"><div class=\"wandb-col\"><h3>Run history:</h3><br/><table class=\"wandb\"><tr><td>ema_v_f1</td><td>▁</td></tr><tr><td>ema_v_loss</td><td>▁</td></tr><tr><td>epoch</td><td>▁▁▁▁▁▂▂▂▂▃▃▃▃▃▃▃▃▃▄▄▄▄▅▅▅▅▆▆▆▆▆▆▆▆▆▇▇▇▇█</td></tr><tr><td>lr</td><td>▄█▇▇▂▁▁▆▃▂▂▂▄▄▃▃▄▃▃▃▁▁▁▁▂▂▁▁▂▂▂▂▁▂▂▂▁▁▁▁</td></tr><tr><td>step</td><td>▂▂▄▆█▂▄▆▇▂▄▆▆▁▃▅▆█▂▄▆█▂▄▅▇▂▄▄▆▁▃▄▆█▂▄▆█▂</td></tr></table><br/></div><div class=\"wandb-col\"><h3>Run summary:</h3><br/><table class=\"wandb\"><tr><td>ema_v_f1</td><td>0.97563</td></tr><tr><td>ema_v_loss</td><td>0.43472</td></tr><tr><td>epoch</td><td>10</td></tr><tr><td>lr</td><td>0.0</td></tr><tr><td>step</td><td>66</td></tr></table><br/></div></div>"
      ],
      "text/plain": [
       "<IPython.core.display.HTML object>"
      ]
     },
     "metadata": {},
     "output_type": "display_data"
    },
    {
     "data": {
      "text/html": [
       " View run <strong style=\"color:#cdcd00\">fold5_deit3_large_patch16_224.fb_in22k_ft_in1k_05050234</strong> at: <a href='https://wandb.ai/ujinyang/basslibrary240210/runs/oiwm4yng' target=\"_blank\">https://wandb.ai/ujinyang/basslibrary240210/runs/oiwm4yng</a><br/> View project at: <a href='https://wandb.ai/ujinyang/basslibrary240210' target=\"_blank\">https://wandb.ai/ujinyang/basslibrary240210</a><br/>Synced 6 W&B file(s), 0 media file(s), 0 artifact file(s) and 0 other file(s)"
      ],
      "text/plain": [
       "<IPython.core.display.HTML object>"
      ]
     },
     "metadata": {},
     "output_type": "display_data"
    },
    {
     "data": {
      "text/html": [
       "Find logs at: <code>./wandb/run-20240505_071833-oiwm4yng/logs</code>"
      ],
      "text/plain": [
       "<IPython.core.display.HTML object>"
      ]
     },
     "metadata": {},
     "output_type": "display_data"
    }
   ],
   "source": [
    "from datetime import datetime\n",
    "dt_str = datetime.now().strftime('%m%d%H%M')\n",
    "\n",
    "for fold_idx, (train_index, val_index) in enumerate(skf.split(train_df, train_df['class'])):\n",
    "    gc.collect()\n",
    "    torch.cuda.empty_cache()\n",
    "    \n",
    "    logger.info(f'{fold_idx=} started')\n",
    "    import wandb\n",
    "    run = wandb.init(\n",
    "        name=f'fold{fold_idx+1}_{CFG[\"MODEL_NAME\"].split(\"/\")[1].split(\"-\")[0]}_{dt_str}',\n",
    "        config=CFG,\n",
    "        reinit=True)\n",
    "    \n",
    "    train_fold_df = train_df.loc[train_index,:]\n",
    "    val_fold_df = train_df.loc[val_index,:]\n",
    "\n",
    "    train_dataset = CustomDataset( \n",
    "        train_fold_df['img_path'].values, train_fold_df['class'].values, \n",
    "        interpolation=CFG['INTERPOLATION'], load_img_size=CFG['IMG_TRAIN_SIZE'],\n",
    "        shuffle=True, transforms=train_transform)\n",
    "    train_loader = DataLoader(train_dataset, batch_size = CFG['BATCH_SIZE'], shuffle=True, generator=torch.Generator(device=device), num_workers=0)\n",
    "    val_dataset = CustomDataset(\n",
    "        val_fold_df['img_path'].values,\n",
    "        val_fold_df['class'].values,\n",
    "        interpolation=CFG['INTERPOLATION'], load_img_size=CFG['IMG_SIZE'],\n",
    "        shuffle=False, transforms=test_transform)\n",
    "    val_loader = DataLoader(val_dataset, batch_size=CFG['BATCH_SIZE']*2, shuffle=False, generator=torch.Generator(device=device), num_workers=0)\n",
    "\n",
    "    model = create_model(CFG['MODEL_NAME'])\n",
    "    \n",
    "    ## wrapp model\n",
    "    optimizer = torch.optim.AdamW(\n",
    "        model.parameters(),\n",
    "        lr=CFG['LR'][0],\n",
    "        weight_decay=0.001,  ## default는 0.01이며, 논문은 0.001임.\n",
    "    )\n",
    "    scheduler = None\n",
    "    scheduler = CosineAnnealingWarmupRestarts(\n",
    "        optimizer,\n",
    "        first_cycle_steps=int( len(train_loader) ) // 4,\n",
    "        cycle_mult=1.0, max_lr=CFG['LR'][0] * 2, \n",
    "        min_lr=CFG['LR'][1],\n",
    "        warmup_steps=0, \n",
    "        gamma=0.93,  ## 2024.05.02\n",
    "    )\n",
    "    \n",
    "    model = train( \n",
    "        model, optimizer, train_loader, val_loader, scheduler, device,\n",
    "        use_amp=(CFG['PRECISION'] == '16'),\n",
    "        filename = f'./ckpt/{CFG[\"MODEL_NAME\"].split(\"/\")[1].split(\"-\")[0]}-fold_idx={fold_idx}-' + 'epoch={epoch:02d}-val_loss={val_loss:.4f}-val_score={val_score:.4f}',\n",
    "    )\n",
    "    \n",
    "    model = None\n",
    "    gc.collect()\n",
    "    torch.cuda.empty_cache()\n",
    "    logger.info(f'{fold_idx=} finished')\n",
    "    run.finish()\n",
    "    \n",
    "    try:\n",
    "        # !python ~/send_telegram.py 'fold_idx={fold_idx} finished'\n",
    "        last_chpt_info = !ls -t ./ckpt/ | head -n1\n",
    "        last_chpt_info = ','.join( last_chpt_info[0][:-5].split('-')[1:] )\n",
    "        !python ~/send_telegram.py {last_chpt_info}\n",
    "    except:\n",
    "        pass"
   ]
  },
  {
   "cell_type": "markdown",
   "metadata": {},
   "source": [
    "# 모델 앙상블 및 추론"
   ]
  },
  {
   "cell_type": "code",
   "execution_count": null,
   "metadata": {},
   "outputs": [],
   "source": [
    "test_df = pd.read_csv('./test.csv')"
   ]
  },
  {
   "cell_type": "code",
   "execution_count": null,
   "metadata": {},
   "outputs": [],
   "source": [
    "import re\n",
    "ckpt_df = pd.DataFrame({'fname':glob('./ckpt/*.ckpt')})\n",
    "ckpt_df['mtime'] = ckpt_df.fname.apply(lambda x: int(os.stat(x).st_mtime))\n",
    "ckpt_df['model_name'] = ckpt_df.fname.apply(lambda x: re.search(r'./ckpt/(.*?)-fold',x)[1])\n",
    "ckpt_df['img_size'] = ckpt_df.fname.apply(lambda x: int(re.search(r'patch[0-9]+_([0-9]+)', x + 'patch0_0')[1]) )\n",
    "ckpt_df['is_ema'] = ckpt_df.fname.str.endswith('ema.ckpt').astype(int)\n",
    "ckpt_df['fold_idx'] = ckpt_df.fname.apply(lambda x: int(re.search(r'fold_idx=([0-9])-',x)[1]))\n",
    "ckpt_df['val_loss'] = ckpt_df.fname.apply(lambda x: float(re.search(r'val_loss=(0\\.[0-9]+)', x)[1]) )\n",
    "ckpt_df['val_score'] = ckpt_df.fname.apply(lambda x: float(re.search(r'val_score=(0\\.[0-9]+)', x)[1]) )"
   ]
  },
  {
   "cell_type": "code",
   "execution_count": null,
   "metadata": {},
   "outputs": [],
   "source": [
    "ckpt_df = ckpt_df[ckpt_df.img_size != 0][ckpt_df.is_ema == 0]\n",
    "ckpt_df = ckpt_df.sort_values('mtime',ascending=False).reset_index(drop=True)\n",
    "ckpt_indexes = ckpt_df[ ckpt_df.fold_idx==ckpt_df.fold_idx.max() ].index[:4]"
   ]
  },
  {
   "cell_type": "code",
   "execution_count": null,
   "metadata": {},
   "outputs": [],
   "source": [
    "preds = []\n",
    "preds_score = []\n",
    "\n",
    "for ckpt_start_index in ckpt_indexes:\n",
    "    logger.info(f'{ckpt_df.fname[ckpt_start_index]} loading')\n",
    "    ## imagesize\n",
    "    CFG['IMG_SIZE'] = ckpt_df.img_size[ckpt_start_index]\n",
    "    assert CFG['IMG_SIZE'] in ( 196, 224, )\n",
    "    logger.info(CFG['IMG_SIZE'])\n",
    "\n",
    "    test_dataset = CustomDataset(\n",
    "        test_df['img_path'].values, None, \n",
    "        interpolation=CFG['INTERPOLATION'], load_img_size=CFG['IMG_SIZE'],\n",
    "        shuffle=False, transforms=test_transform)\n",
    "    test_loader = DataLoader(test_dataset, batch_size=CFG['BATCH_SIZE']*2, shuffle=False, num_workers=0)\n",
    "\n",
    "    model_name = ckpt_df.model_name[ckpt_start_index]\n",
    "    model = create_model(model_name)\n",
    "    if ckpt_df.is_ema[ckpt_start_index]:\n",
    "        model = torch.optim.swa_utils.AveragedModel(model)\n",
    "    #-----------------------------\n",
    "    for i in range(ckpt_start_index, ckpt_start_index + ckpt_df.fold_idx.max() + 1 ):\n",
    "        checkpoint_path = ckpt_df.fname[i]\n",
    "        logger.info(f'{checkpoint_path} loading')\n",
    "        model.load_state_dict( torch.load(checkpoint_path)['model'] )\n",
    "        \n",
    "        preds_score.append( ckpt_df.val_score[i] )\n",
    "        preds.append( prediction(model, test_loader, device) )\n",
    "    \n",
    "preds = np.array(preds)\n",
    "preds_score = np.array(preds_score)"
   ]
  },
  {
   "cell_type": "code",
   "execution_count": null,
   "metadata": {},
   "outputs": [],
   "source": [
    "# ### 가중치 평균값..\n",
    "preds_error = (1-preds_score)  ## L1 ACC 오차인경우\n",
    "preds_error = 1-preds_error/preds_error.sum()\n",
    "preds_coef = preds_error/preds_error.sum()\n",
    "\n",
    "logger.info(f'{preds_score=}')\n",
    "logger.info(f'{preds_coef=}')\n",
    "preds2 = np.array( [ coef * preds[i] for i, coef in enumerate( preds_coef ) ] )\n",
    "preds_labels = le.inverse_transform(preds2.sum(0).argmax(-1))\n",
    "print(preds_labels)"
   ]
  },
  {
   "cell_type": "code",
   "execution_count": null,
   "metadata": {},
   "outputs": [],
   "source": [
    "submit = pd.read_csv('./sample_submission.csv')\n",
    "submit['label'] = preds_labels\n",
    "from datetime import datetime\n",
    "dt_str = datetime.now().strftime('%Y%m%d_%H%M')\n",
    "submit.to_csv(f'./basslibrary_submit_{dt_str}.csv', index=False)\n",
    "logger.info(f'./basslibrary_submit_{dt_str}.csv saved')"
   ]
  },
  {
   "cell_type": "code",
   "execution_count": null,
   "metadata": {},
   "outputs": [],
   "source": [
    "submit.label.value_counts()"
   ]
  },
  {
   "cell_type": "code",
   "execution_count": null,
   "metadata": {
    "id": "RZo9oMpITxaP"
   },
   "outputs": [],
   "source": [
    "# !python ~/send_telegram.py 'basslibrary_submit_{dt_str}.csv saved'"
   ]
  }
 ],
 "metadata": {
  "accelerator": "GPU",
  "colab": {
   "gpuType": "V100",
   "provenance": []
  },
  "kernelspec": {
   "display_name": "Python 3 (ipykernel)",
   "language": "python",
   "name": "python3"
  },
  "language_info": {
   "codemirror_mode": {
    "name": "ipython",
    "version": 3
   },
   "file_extension": ".py",
   "mimetype": "text/x-python",
   "name": "python",
   "nbconvert_exporter": "python",
   "pygments_lexer": "ipython3",
   "version": "3.8.17"
  }
 },
 "nbformat": 4,
 "nbformat_minor": 4
}
